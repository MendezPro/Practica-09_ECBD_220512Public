{
 "cells": [
  {
   "cell_type": "markdown",
   "id": "1333b8b6-6524-4dd1-abe1-56050d4fb9bc",
   "metadata": {},
   "source": [
    "### Practica 09- Orlando Méndez Montes"
   ]
  },
  {
   "cell_type": "markdown",
   "id": "c64de546-9ff4-4838-9050-128100fb09a9",
   "metadata": {},
   "source": [
    "### Sistema de Recomendaciones Netflix"
   ]
  },
  {
   "cell_type": "markdown",
   "id": "14e6db80-ac32-4a89-8510-45eac71fc05a",
   "metadata": {},
   "source": [
    "##### Importación de todas las librerías necesarias para análisis de datos y visualización"
   ]
  },
  {
   "cell_type": "code",
   "execution_count": 4,
   "id": "fa1a7346-e312-4335-9cfd-b0a13a157d53",
   "metadata": {},
   "outputs": [],
   "source": [
    "import numpy as np  # Para manejar arreglos y operaciones numéricas de forma eficiente.\n",
    "\n",
    "import pandas as pd  # Herramienta útil para cargar, manipular y analizar datos en tablas (tipo Excel).\n",
    "\n",
    "import matplotlib.pyplot as plt  # Sirve para hacer gráficos tipo línea, barras, dispersión, etc. Muy visual.\n",
    "\n",
    "import seaborn as sns  # Librería basada en matplotlib, pero con gráficos más bonitos y fáciles de usar.\n",
    "\n",
    "import warnings\n",
    "warnings.filterwarnings(\"ignore\")  # Oculta las advertencias para que no saturen la salida.\n"
   ]
  },
  {
   "cell_type": "code",
   "execution_count": 5,
   "id": "0cdfd99c-d726-4e8a-a804-495c6d969aee",
   "metadata": {},
   "outputs": [
    {
     "data": {
      "text/html": [
       "<div>\n",
       "<style scoped>\n",
       "    .dataframe tbody tr th:only-of-type {\n",
       "        vertical-align: middle;\n",
       "    }\n",
       "\n",
       "    .dataframe tbody tr th {\n",
       "        vertical-align: top;\n",
       "    }\n",
       "\n",
       "    .dataframe thead th {\n",
       "        text-align: right;\n",
       "    }\n",
       "</style>\n",
       "<table border=\"1\" class=\"dataframe\">\n",
       "  <thead>\n",
       "    <tr style=\"text-align: right;\">\n",
       "      <th></th>\n",
       "      <th>show_id</th>\n",
       "      <th>type</th>\n",
       "      <th>title</th>\n",
       "      <th>director</th>\n",
       "      <th>cast</th>\n",
       "      <th>country</th>\n",
       "      <th>date_added</th>\n",
       "      <th>release_year</th>\n",
       "      <th>rating</th>\n",
       "      <th>duration</th>\n",
       "      <th>listed_in</th>\n",
       "      <th>description</th>\n",
       "    </tr>\n",
       "  </thead>\n",
       "  <tbody>\n",
       "    <tr>\n",
       "      <th>0</th>\n",
       "      <td>s1</td>\n",
       "      <td>TV Show</td>\n",
       "      <td>3%</td>\n",
       "      <td>NaN</td>\n",
       "      <td>João Miguel, Bianca Comparato, Michel Gomes, R...</td>\n",
       "      <td>Brazil</td>\n",
       "      <td>August 14, 2020</td>\n",
       "      <td>2020</td>\n",
       "      <td>TV-MA</td>\n",
       "      <td>4 Seasons</td>\n",
       "      <td>International TV Shows, TV Dramas, TV Sci-Fi &amp;...</td>\n",
       "      <td>In a future where the elite inhabit an island ...</td>\n",
       "    </tr>\n",
       "    <tr>\n",
       "      <th>1</th>\n",
       "      <td>s2</td>\n",
       "      <td>Movie</td>\n",
       "      <td>07:19</td>\n",
       "      <td>Jorge Michel Grau</td>\n",
       "      <td>Demián Bichir, Héctor Bonilla, Oscar Serrano, ...</td>\n",
       "      <td>Mexico</td>\n",
       "      <td>December 23, 2016</td>\n",
       "      <td>2016</td>\n",
       "      <td>TV-MA</td>\n",
       "      <td>93 min</td>\n",
       "      <td>Dramas, International Movies</td>\n",
       "      <td>After a devastating earthquake hits Mexico Cit...</td>\n",
       "    </tr>\n",
       "    <tr>\n",
       "      <th>2</th>\n",
       "      <td>s3</td>\n",
       "      <td>Movie</td>\n",
       "      <td>23:59</td>\n",
       "      <td>Gilbert Chan</td>\n",
       "      <td>Tedd Chan, Stella Chung, Henley Hii, Lawrence ...</td>\n",
       "      <td>Singapore</td>\n",
       "      <td>December 20, 2018</td>\n",
       "      <td>2011</td>\n",
       "      <td>R</td>\n",
       "      <td>78 min</td>\n",
       "      <td>Horror Movies, International Movies</td>\n",
       "      <td>When an army recruit is found dead, his fellow...</td>\n",
       "    </tr>\n",
       "    <tr>\n",
       "      <th>3</th>\n",
       "      <td>s4</td>\n",
       "      <td>Movie</td>\n",
       "      <td>9</td>\n",
       "      <td>Shane Acker</td>\n",
       "      <td>Elijah Wood, John C. Reilly, Jennifer Connelly...</td>\n",
       "      <td>United States</td>\n",
       "      <td>November 16, 2017</td>\n",
       "      <td>2009</td>\n",
       "      <td>PG-13</td>\n",
       "      <td>80 min</td>\n",
       "      <td>Action &amp; Adventure, Independent Movies, Sci-Fi...</td>\n",
       "      <td>In a postapocalyptic world, rag-doll robots hi...</td>\n",
       "    </tr>\n",
       "    <tr>\n",
       "      <th>4</th>\n",
       "      <td>s5</td>\n",
       "      <td>Movie</td>\n",
       "      <td>21</td>\n",
       "      <td>Robert Luketic</td>\n",
       "      <td>Jim Sturgess, Kevin Spacey, Kate Bosworth, Aar...</td>\n",
       "      <td>United States</td>\n",
       "      <td>January 1, 2020</td>\n",
       "      <td>2008</td>\n",
       "      <td>PG-13</td>\n",
       "      <td>123 min</td>\n",
       "      <td>Dramas</td>\n",
       "      <td>A brilliant group of students become card-coun...</td>\n",
       "    </tr>\n",
       "  </tbody>\n",
       "</table>\n",
       "</div>"
      ],
      "text/plain": [
       "  show_id     type  title           director  \\\n",
       "0      s1  TV Show     3%                NaN   \n",
       "1      s2    Movie  07:19  Jorge Michel Grau   \n",
       "2      s3    Movie  23:59       Gilbert Chan   \n",
       "3      s4    Movie      9        Shane Acker   \n",
       "4      s5    Movie     21     Robert Luketic   \n",
       "\n",
       "                                                cast        country  \\\n",
       "0  João Miguel, Bianca Comparato, Michel Gomes, R...         Brazil   \n",
       "1  Demián Bichir, Héctor Bonilla, Oscar Serrano, ...         Mexico   \n",
       "2  Tedd Chan, Stella Chung, Henley Hii, Lawrence ...      Singapore   \n",
       "3  Elijah Wood, John C. Reilly, Jennifer Connelly...  United States   \n",
       "4  Jim Sturgess, Kevin Spacey, Kate Bosworth, Aar...  United States   \n",
       "\n",
       "          date_added  release_year rating   duration  \\\n",
       "0    August 14, 2020          2020  TV-MA  4 Seasons   \n",
       "1  December 23, 2016          2016  TV-MA     93 min   \n",
       "2  December 20, 2018          2011      R     78 min   \n",
       "3  November 16, 2017          2009  PG-13     80 min   \n",
       "4    January 1, 2020          2008  PG-13    123 min   \n",
       "\n",
       "                                           listed_in  \\\n",
       "0  International TV Shows, TV Dramas, TV Sci-Fi &...   \n",
       "1                       Dramas, International Movies   \n",
       "2                Horror Movies, International Movies   \n",
       "3  Action & Adventure, Independent Movies, Sci-Fi...   \n",
       "4                                             Dramas   \n",
       "\n",
       "                                         description  \n",
       "0  In a future where the elite inhabit an island ...  \n",
       "1  After a devastating earthquake hits Mexico Cit...  \n",
       "2  When an army recruit is found dead, his fellow...  \n",
       "3  In a postapocalyptic world, rag-doll robots hi...  \n",
       "4  A brilliant group of students become card-coun...  "
      ]
     },
     "execution_count": 5,
     "metadata": {},
     "output_type": "execute_result"
    }
   ],
   "source": [
    "netflix_dataset = pd.read_csv(\"netflix_dataset.csv\")  # Abrimos el archivo CSV con los datos de Netflix\n",
    "\n",
    "netflix_dataset.head()  # Mostramos las primeras 5 filas para echar un vistazo rápido"
   ]
  },
  {
   "cell_type": "code",
   "execution_count": 5,
   "id": "358ab40c-a11d-4dd1-9b83-9d97e298c0cd",
   "metadata": {},
   "outputs": [
    {
     "name": "stdout",
     "output_type": "stream",
     "text": [
      "<class 'pandas.core.frame.DataFrame'>\n",
      "RangeIndex: 7787 entries, 0 to 7786\n",
      "Data columns (total 12 columns):\n",
      " #   Column        Non-Null Count  Dtype \n",
      "---  ------        --------------  ----- \n",
      " 0   show_id       7787 non-null   object\n",
      " 1   type          7787 non-null   object\n",
      " 2   title         7787 non-null   object\n",
      " 3   director      5398 non-null   object\n",
      " 4   cast          7069 non-null   object\n",
      " 5   country       7281 non-null   object\n",
      " 6   date_added    7777 non-null   object\n",
      " 7   release_year  7787 non-null   int64 \n",
      " 8   rating        7780 non-null   object\n",
      " 9   duration      7787 non-null   object\n",
      " 10  listed_in     7787 non-null   object\n",
      " 11  description   7787 non-null   object\n",
      "dtypes: int64(1), object(11)\n",
      "memory usage: 730.2+ KB\n"
     ]
    }
   ],
   "source": [
    "netflix_dataset.info()"
   ]
  },
  {
   "cell_type": "code",
   "execution_count": 6,
   "id": "4044f62a-1e45-4023-83b3-2d5ab19a6c68",
   "metadata": {},
   "outputs": [
    {
     "name": "stdout",
     "output_type": "stream",
     "text": [
      "              unique count\n",
      "show_id               7787\n",
      "type                     2\n",
      "title                 7787\n",
      "director              4049\n",
      "cast                  6831\n",
      "country                681\n",
      "date_added            1565\n",
      "release_year            73\n",
      "rating                  14\n",
      "duration               216\n",
      "listed_in              492\n",
      "description           7769\n",
      "Table of missing values: \n",
      "show_id            0\n",
      "type               0\n",
      "title              0\n",
      "director        2389\n",
      "cast             718\n",
      "country          506\n",
      "date_added        10\n",
      "release_year       0\n",
      "rating             7\n",
      "duration           0\n",
      "listed_in          0\n",
      "description        0\n",
      "dtype: int64\n"
     ]
    }
   ],
   "source": [
    "# Contar valores únicos en cada columna para entender la distribución\n",
    "dict = {}\n",
    "for i in list(netflix_dataset.columns):\n",
    "    dict[i] = netflix_dataset[i].value_counts().shape[0]\n",
    "    \n",
    "print(pd.DataFrame(dict, index=[\"unique count\"]).transpose())\n",
    "\n",
    "# Verificar valores faltantes en el dataset\n",
    "print('Table of missing values: ')\n",
    "print(netflix_dataset.isnull().sum())"
   ]
  },
  {
   "cell_type": "markdown",
   "id": "51c49590-f5e9-485c-a0bd-e4b43a1e91a5",
   "metadata": {},
   "source": [
    "##### 3:Análisis Exploratorio de Datos\n",
    "##### Descripción: Análisis de la distribución entre películas y series de TV en Netflix."
   ]
  },
  {
   "cell_type": "code",
   "execution_count": 6,
   "id": "445a2b9c-816f-4581-aca3-e60134d1f6ee",
   "metadata": {},
   "outputs": [
    {
     "data": {
      "image/png": "[encoded data removed]",
      "text/plain": [
       "<Figure size 1000x700 with 1 Axes>"
      ]
     },
     "metadata": {},
     "output_type": "display_data"
    }
   ],
   "source": [
    "# Separamos el dataset en dos: uno para las series y otro para las películas\n",
    "netflix_shows = netflix_dataset[netflix_dataset['type'] == 'TV Show']\n",
    "netflix_movies = netflix_dataset[netflix_dataset['type'] == 'Movie']\n",
    "\n",
    "# Creamos un gráfico de barras para comparar cuántas películas y series hay\n",
    "plt.figure(figsize=(10, 7))\n",
    "sns.set(style=\"whitegrid\")\n",
    "ax = sns.countplot(x=\"type\", data=netflix_dataset, palette=\"coolwarm\")  # cambié los colores a 'coolwarm'\n",
    "ax.set_title(\"TV Shows VS Movies\")\n",
    "plt.show()\n"
   ]
  },
  {
   "cell_type": "markdown",
   "id": "6227e63e-6108-4329-80ef-91523b5bb61a",
   "metadata": {},
   "source": [
    "Análisis Temporal: Mejor Mes para Lanzar Contenido\n",
    "Descripción: Análisis de cuándo se agrega más contenido a Netflix para identificar oportunidades de lanzamiento."
   ]
  },
  {
   "cell_type": "code",
   "execution_count": 8,
   "id": "6aebdcf6-b60c-4cb0-8352-a273465f3bff",
   "metadata": {},
   "outputs": [
    {
     "data": {
      "image/png": "[encoded data removed]",
      "text/plain": [
       "<Figure size 2000x1400 with 2 Axes>"
      ]
     },
     "metadata": {},
     "output_type": "display_data"
    }
   ],
   "source": [
    "# Análisis temporal del contenido agregado por mes y año\n",
    "netflix_date = netflix_shows[['date_added']].dropna()\n",
    "netflix_date['year'] = netflix_date['date_added'].apply(lambda x: x.split(', ')[-1])\n",
    "netflix_date['month'] = netflix_date['date_added'].apply(lambda x: x.lstrip().split(' ')[0])\n",
    "\n",
    "# Definir orden de meses para el heatmap\n",
    "month_order = ['January', 'February', 'March', 'April', 'May', 'June', \n",
    "               'July', 'August', 'September', 'October', 'November', 'December'][::-1]\n",
    "\n",
    "# Crear matriz de contenido por año y mes\n",
    "df = netflix_date.groupby('year')['month'].value_counts().unstack().fillna(0)[month_order].T\n",
    "\n",
    "# Crear heatmap para visualizar patrones temporales\n",
    "plt.figure(figsize=(10, 7), dpi=200)\n",
    "plt.pcolor(df, cmap='afmhot_r', edgecolors='white', linewidths=2)\n",
    "plt.xticks(np.arange(0.5, len(df.columns), 1), df.columns, fontsize=7, fontfamily='serif')\n",
    "plt.yticks(np.arange(0.5, len(df.index), 1), df.index, fontsize=7, fontfamily='serif')\n",
    "plt.title('Netflix Contents Update - HeatMap for Analysis', fontsize=12, fontfamily='calibri', \n",
    "          fontweight='bold', position=(0.20, 1.0+0.02))\n",
    "cbar = plt.colorbar()\n",
    "cbar.ax.tick_params(labelsize=8) \n",
    "cbar.ax.minorticks_on()\n",
    "plt.show()"
   ]
  },
  {
   "cell_type": "markdown",
   "id": "1215e16f-48e0-4c21-9cc9-ed00a4fb4e85",
   "metadata": {},
   "source": [
    "Análisis de Clasificaciones (Ratings)\n",
    "Descripción: Análisis de las clasificaciones más comunes en el contenido de Netflix."
   ]
  },
  {
   "cell_type": "code",
   "execution_count": 7,
   "id": "f16e7b25-85e3-4c72-9070-b1733f5b0e10",
   "metadata": {},
   "outputs": [
    {
     "data": {
      "image/png": "[encoded data removed]",
      "text/plain": [
       "<Figure size 1200x1000 with 1 Axes>"
      ]
     },
     "metadata": {},
     "output_type": "display_data"
    }
   ],
   "source": [
    "# Analizamos cómo están distribuidos los distintos ratings en el contenido de Netflix\n",
    "plt.figure(figsize=(12, 10))\n",
    "sns.set(style=\"darkgrid\")\n",
    "ax = sns.countplot(\n",
    "    x=\"rating\",\n",
    "    data=netflix_dataset,\n",
    "    palette=\"magma\",  # cambiamos los colores de 'Set1' a 'magma' para un look más intenso\n",
    "    order=netflix_dataset['rating'].value_counts().index[0:15]\n",
    ")\n",
    "plt.xticks(rotation=45)  # Giramos las etiquetas del eje X para que no se encimen\n",
    "plt.title(\"Distribución de Ratings en Netflix\")\n",
    "plt.show()\n"
   ]
  },
  {
   "cell_type": "markdown",
   "id": "314f7050-32a7-4b98-bc80-6ddafb8a32db",
   "metadata": {},
   "source": [
    "#### 4: Análisis con Datos de IMDB\n",
    "Descripción: Integración de ratings de IMDB para identificar el contenido mejor valorado disponible en Netflix."
   ]
  },
  {
   "cell_type": "code",
   "execution_count": 9,
   "id": "7443e0d1-582e-47f5-b429-ad6213c47ac7",
   "metadata": {},
   "outputs": [
    {
     "name": "stdout",
     "output_type": "stream",
     "text": [
      "                         Title  Rating\n",
      "0                   Miss Jerry     5.9\n",
      "1  The Story of the Kelly Gang     6.1\n",
      "2               Den sorte drøm     5.8\n",
      "3                    Cleopatra     5.2\n",
      "4                    L'Inferno     7.0\n",
      "Forma del dataset de ratings: (85852, 4)\n"
     ]
    },
    {
     "data": {
      "application/vnd.plotly.v1+json": {
       "config": {
        "plotlyServerURL": "https://plot.ly"
       },
       "data": [
        {
         "branchvalues": "total",
         "customdata": [
          [
           8.6
          ],
          [
           8.6
          ],
          [
           8.6
          ],
          [
           8.6
          ],
          [
           8.6
          ],
          [
           9
          ],
          [
           9
          ],
          [
           8.9
          ],
          [
           8.9
          ],
          [
           8.8
          ],
          [
           8.6
          ],
          [
           9
          ],
          [
           8.6
          ],
          [
           8.8
          ],
          [
           9
          ],
          [
           8.6
          ],
          [
           8.6
          ],
          [
           8.6
          ],
          [
           8.9
          ],
          [
           8.9
          ]
         ],
         "domain": {
          "x": [
           0,
           1
          ],
          "y": [
           0,
           1
          ]
         },
         "hovertemplate": "labels=%{label}<br>Rating_sum=%{value}<br>parent=%{parent}<br>id=%{id}<br>Rating=%{color}<extra></extra>",
         "ids": [
          "Much Ado About Nothing/Chile, United States, France",
          "Ani... Dr. Kashinath Ghanekar/India",
          "Gol Maal/India",
          "Koshish/India",
          "Oththa Seruppu Size 7/India",
          "Breakout/Singapore",
          "Innocent/Turkey",
          "Pulp Fiction/United States",
          "Schindler's List/United States",
          "Inception/United States, United Kingdom",
          "Ani... Dr. Kashinath Ghanekar",
          "Breakout",
          "Gol Maal",
          "Inception",
          "Innocent",
          "Koshish",
          "Much Ado About Nothing",
          "Oththa Seruppu Size 7",
          "Pulp Fiction",
          "Schindler's List"
         ],
         "labels": [
          "Chile, United States, France",
          "India",
          "India",
          "India",
          "India",
          "Singapore",
          "Turkey",
          "United States",
          "United States",
          "United States, United Kingdom",
          "Ani... Dr. Kashinath Ghanekar",
          "Breakout",
          "Gol Maal",
          "Inception",
          "Innocent",
          "Koshish",
          "Much Ado About Nothing",
          "Oththa Seruppu Size 7",
          "Pulp Fiction",
          "Schindler's List"
         ],
         "marker": {
          "coloraxis": "coloraxis",
          "colors": [
           8.6,
           8.6,
           8.6,
           8.6,
           8.6,
           9,
           9,
           8.9,
           8.9,
           8.8,
           8.6,
           9,
           8.6,
           8.8,
           9,
           8.6,
           8.6,
           8.6,
           8.9,
           8.9
          ]
         },
         "name": "",
         "parents": [
          "Much Ado About Nothing",
          "Ani... Dr. Kashinath Ghanekar",
          "Gol Maal",
          "Koshish",
          "Oththa Seruppu Size 7",
          "Breakout",
          "Innocent",
          "Pulp Fiction",
          "Schindler's List",
          "Inception",
          "",
          "",
          "",
          "",
          "",
          "",
          "",
          "",
          "",
          ""
         ],
         "type": "sunburst",
         "values": [
          8.6,
          8.6,
          8.6,
          8.6,
          8.6,
          9,
          9,
          8.9,
          8.9,
          8.8,
          8.6,
          9,
          8.6,
          8.8,
          9,
          8.6,
          8.6,
          8.6,
          8.9,
          8.9
         ]
        }
       ],
       "layout": {
        "coloraxis": {
         "colorbar": {
          "title": {
           "text": "Rating"
          }
         },
         "colorscale": [
          [
           0,
           "#0d0887"
          ],
          [
           0.1111111111111111,
           "#46039f"
          ],
          [
           0.2222222222222222,
           "#7201a8"
          ],
          [
           0.3333333333333333,
           "#9c179e"
          ],
          [
           0.4444444444444444,
           "#bd3786"
          ],
          [
           0.5555555555555556,
           "#d8576b"
          ],
          [
           0.6666666666666666,
           "#ed7953"
          ],
          [
           0.7777777777777778,
           "#fb9f3a"
          ],
          [
           0.8888888888888888,
           "#fdca26"
          ],
          [
           1,
           "#f0f921"
          ]
         ]
        },
        "legend": {
         "tracegroupgap": 0
        },
        "margin": {
         "t": 60
        },
        "template": {
         "data": {
          "bar": [
           {
            "error_x": {
             "color": "#2a3f5f"
            },
            "error_y": {
             "color": "#2a3f5f"
            },
            "marker": {
             "line": {
              "color": "#E5ECF6",
              "width": 0.5
             },
             "pattern": {
              "fillmode": "overlay",
              "size": 10,
              "solidity": 0.2
             }
            },
            "type": "bar"
           }
          ],
          "barpolar": [
           {
            "marker": {
             "line": {
              "color": "#E5ECF6",
              "width": 0.5
             },
             "pattern": {
              "fillmode": "overlay",
              "size": 10,
              "solidity": 0.2
             }
            },
            "type": "barpolar"
           }
          ],
          "carpet": [
           {
            "aaxis": {
             "endlinecolor": "#2a3f5f",
             "gridcolor": "white",
             "linecolor": "white",
             "minorgridcolor": "white",
             "startlinecolor": "#2a3f5f"
            },
            "baxis": {
             "endlinecolor": "#2a3f5f",
             "gridcolor": "white",
             "linecolor": "white",
             "minorgridcolor": "white",
             "startlinecolor": "#2a3f5f"
            },
            "type": "carpet"
           }
          ],
          "choropleth": [
           {
            "colorbar": {
             "outlinewidth": 0,
             "ticks": ""
            },
            "type": "choropleth"
           }
          ],
          "contour": [
           {
            "colorbar": {
             "outlinewidth": 0,
             "ticks": ""
            },
            "colorscale": [
             [
              0,
              "#0d0887"
             ],
             [
              0.1111111111111111,
              "#46039f"
             ],
             [
              0.2222222222222222,
              "#7201a8"
             ],
             [
              0.3333333333333333,
              "#9c179e"
             ],
             [
              0.4444444444444444,
              "#bd3786"
             ],
             [
              0.5555555555555556,
              "#d8576b"
             ],
             [
              0.6666666666666666,
              "#ed7953"
             ],
             [
              0.7777777777777778,
              "#fb9f3a"
             ],
             [
              0.8888888888888888,
              "#fdca26"
             ],
             [
              1,
              "#f0f921"
             ]
            ],
            "type": "contour"
           }
          ],
          "contourcarpet": [
           {
            "colorbar": {
             "outlinewidth": 0,
             "ticks": ""
            },
            "type": "contourcarpet"
           }
          ],
          "heatmap": [
           {
            "colorbar": {
             "outlinewidth": 0,
             "ticks": ""
            },
            "colorscale": [
             [
              0,
              "#0d0887"
             ],
             [
              0.1111111111111111,
              "#46039f"
             ],
             [
              0.2222222222222222,
              "#7201a8"
             ],
             [
              0.3333333333333333,
              "#9c179e"
             ],
             [
              0.4444444444444444,
              "#bd3786"
             ],
             [
              0.5555555555555556,
              "#d8576b"
             ],
             [
              0.6666666666666666,
              "#ed7953"
             ],
             [
              0.7777777777777778,
              "#fb9f3a"
             ],
             [
              0.8888888888888888,
              "#fdca26"
             ],
             [
              1,
              "#f0f921"
             ]
            ],
            "type": "heatmap"
           }
          ],
          "heatmapgl": [
           {
            "colorbar": {
             "outlinewidth": 0,
             "ticks": ""
            },
            "colorscale": [
             [
              0,
              "#0d0887"
             ],
             [
              0.1111111111111111,
              "#46039f"
             ],
             [
              0.2222222222222222,
              "#7201a8"
             ],
             [
              0.3333333333333333,
              "#9c179e"
             ],
             [
              0.4444444444444444,
              "#bd3786"
             ],
             [
              0.5555555555555556,
              "#d8576b"
             ],
             [
              0.6666666666666666,
              "#ed7953"
             ],
             [
              0.7777777777777778,
              "#fb9f3a"
             ],
             [
              0.8888888888888888,
              "#fdca26"
             ],
             [
              1,
              "#f0f921"
             ]
            ],
            "type": "heatmapgl"
           }
          ],
          "histogram": [
           {
            "marker": {
             "pattern": {
              "fillmode": "overlay",
              "size": 10,
              "solidity": 0.2
             }
            },
            "type": "histogram"
           }
          ],
          "histogram2d": [
           {
            "colorbar": {
             "outlinewidth": 0,
             "ticks": ""
            },
            "colorscale": [
             [
              0,
              "#0d0887"
             ],
             [
              0.1111111111111111,
              "#46039f"
             ],
             [
              0.2222222222222222,
              "#7201a8"
             ],
             [
              0.3333333333333333,
              "#9c179e"
             ],
             [
              0.4444444444444444,
              "#bd3786"
             ],
             [
              0.5555555555555556,
              "#d8576b"
             ],
             [
              0.6666666666666666,
              "#ed7953"
             ],
             [
              0.7777777777777778,
              "#fb9f3a"
             ],
             [
              0.8888888888888888,
              "#fdca26"
             ],
             [
              1,
              "#f0f921"
             ]
            ],
            "type": "histogram2d"
           }
          ],
          "histogram2dcontour": [
           {
            "colorbar": {
             "outlinewidth": 0,
             "ticks": ""
            },
            "colorscale": [
             [
              0,
              "#0d0887"
             ],
             [
              0.1111111111111111,
              "#46039f"
             ],
             [
              0.2222222222222222,
              "#7201a8"
             ],
             [
              0.3333333333333333,
              "#9c179e"
             ],
             [
              0.4444444444444444,
              "#bd3786"
             ],
             [
              0.5555555555555556,
              "#d8576b"
             ],
             [
              0.6666666666666666,
              "#ed7953"
             ],
             [
              0.7777777777777778,
              "#fb9f3a"
             ],
             [
              0.8888888888888888,
              "#fdca26"
             ],
             [
              1,
              "#f0f921"
             ]
            ],
            "type": "histogram2dcontour"
           }
          ],
          "mesh3d": [
           {
            "colorbar": {
             "outlinewidth": 0,
             "ticks": ""
            },
            "type": "mesh3d"
           }
          ],
          "parcoords": [
           {
            "line": {
             "colorbar": {
              "outlinewidth": 0,
              "ticks": ""
             }
            },
            "type": "parcoords"
           }
          ],
          "pie": [
           {
            "automargin": true,
            "type": "pie"
           }
          ],
          "scatter": [
           {
            "fillpattern": {
             "fillmode": "overlay",
             "size": 10,
             "solidity": 0.2
            },
            "type": "scatter"
           }
          ],
          "scatter3d": [
           {
            "line": {
             "colorbar": {
              "outlinewidth": 0,
              "ticks": ""
             }
            },
            "marker": {
             "colorbar": {
              "outlinewidth": 0,
              "ticks": ""
             }
            },
            "type": "scatter3d"
           }
          ],
          "scattercarpet": [
           {
            "marker": {
             "colorbar": {
              "outlinewidth": 0,
              "ticks": ""
             }
            },
            "type": "scattercarpet"
           }
          ],
          "scattergeo": [
           {
            "marker": {
             "colorbar": {
              "outlinewidth": 0,
              "ticks": ""
             }
            },
            "type": "scattergeo"
           }
          ],
          "scattergl": [
           {
            "marker": {
             "colorbar": {
              "outlinewidth": 0,
              "ticks": ""
             }
            },
            "type": "scattergl"
           }
          ],
          "scattermapbox": [
           {
            "marker": {
             "colorbar": {
              "outlinewidth": 0,
              "ticks": ""
             }
            },
            "type": "scattermapbox"
           }
          ],
          "scatterpolar": [
           {
            "marker": {
             "colorbar": {
              "outlinewidth": 0,
              "ticks": ""
             }
            },
            "type": "scatterpolar"
           }
          ],
          "scatterpolargl": [
           {
            "marker": {
             "colorbar": {
              "outlinewidth": 0,
              "ticks": ""
             }
            },
            "type": "scatterpolargl"
           }
          ],
          "scatterternary": [
           {
            "marker": {
             "colorbar": {
              "outlinewidth": 0,
              "ticks": ""
             }
            },
            "type": "scatterternary"
           }
          ],
          "surface": [
           {
            "colorbar": {
             "outlinewidth": 0,
             "ticks": ""
            },
            "colorscale": [
             [
              0,
              "#0d0887"
             ],
             [
              0.1111111111111111,
              "#46039f"
             ],
             [
              0.2222222222222222,
              "#7201a8"
             ],
             [
              0.3333333333333333,
              "#9c179e"
             ],
             [
              0.4444444444444444,
              "#bd3786"
             ],
             [
              0.5555555555555556,
              "#d8576b"
             ],
             [
              0.6666666666666666,
              "#ed7953"
             ],
             [
              0.7777777777777778,
              "#fb9f3a"
             ],
             [
              0.8888888888888888,
              "#fdca26"
             ],
             [
              1,
              "#f0f921"
             ]
            ],
            "type": "surface"
           }
          ],
          "table": [
           {
            "cells": {
             "fill": {
              "color": "#EBF0F8"
             },
             "line": {
              "color": "white"
             }
            },
            "header": {
             "fill": {
              "color": "#C8D4E3"
             },
             "line": {
              "color": "white"
             }
            },
            "type": "table"
           }
          ]
         },
         "layout": {
          "annotationdefaults": {
           "arrowcolor": "#2a3f5f",
           "arrowhead": 0,
           "arrowwidth": 1
          },
          "autotypenumbers": "strict",
          "coloraxis": {
           "colorbar": {
            "outlinewidth": 0,
            "ticks": ""
           }
          },
          "colorscale": {
           "diverging": [
            [
             0,
             "#8e0152"
            ],
            [
             0.1,
             "#c51b7d"
            ],
            [
             0.2,
             "#de77ae"
            ],
            [
             0.3,
             "#f1b6da"
            ],
            [
             0.4,
             "#fde0ef"
            ],
            [
             0.5,
             "#f7f7f7"
            ],
            [
             0.6,
             "#e6f5d0"
            ],
            [
             0.7,
             "#b8e186"
            ],
            [
             0.8,
             "#7fbc41"
            ],
            [
             0.9,
             "#4d9221"
            ],
            [
             1,
             "#276419"
            ]
           ],
           "sequential": [
            [
             0,
             "#0d0887"
            ],
            [
             0.1111111111111111,
             "#46039f"
            ],
            [
             0.2222222222222222,
             "#7201a8"
            ],
            [
             0.3333333333333333,
             "#9c179e"
            ],
            [
             0.4444444444444444,
             "#bd3786"
            ],
            [
             0.5555555555555556,
             "#d8576b"
            ],
            [
             0.6666666666666666,
             "#ed7953"
            ],
            [
             0.7777777777777778,
             "#fb9f3a"
            ],
            [
             0.8888888888888888,
             "#fdca26"
            ],
            [
             1,
             "#f0f921"
            ]
           ],
           "sequentialminus": [
            [
             0,
             "#0d0887"
            ],
            [
             0.1111111111111111,
             "#46039f"
            ],
            [
             0.2222222222222222,
             "#7201a8"
            ],
            [
             0.3333333333333333,
             "#9c179e"
            ],
            [
             0.4444444444444444,
             "#bd3786"
            ],
            [
             0.5555555555555556,
             "#d8576b"
            ],
            [
             0.6666666666666666,
             "#ed7953"
            ],
            [
             0.7777777777777778,
             "#fb9f3a"
            ],
            [
             0.8888888888888888,
             "#fdca26"
            ],
            [
             1,
             "#f0f921"
            ]
           ]
          },
          "colorway": [
           "#636efa",
           "#EF553B",
           "#00cc96",
           "#ab63fa",
           "#FFA15A",
           "#19d3f3",
           "#FF6692",
           "#B6E880",
           "#FF97FF",
           "#FECB52"
          ],
          "font": {
           "color": "#2a3f5f"
          },
          "geo": {
           "bgcolor": "white",
           "lakecolor": "white",
           "landcolor": "#E5ECF6",
           "showlakes": true,
           "showland": true,
           "subunitcolor": "white"
          },
          "hoverlabel": {
           "align": "left"
          },
          "hovermode": "closest",
          "mapbox": {
           "style": "light"
          },
          "paper_bgcolor": "white",
          "plot_bgcolor": "#E5ECF6",
          "polar": {
           "angularaxis": {
            "gridcolor": "white",
            "linecolor": "white",
            "ticks": ""
           },
           "bgcolor": "#E5ECF6",
           "radialaxis": {
            "gridcolor": "white",
            "linecolor": "white",
            "ticks": ""
           }
          },
          "scene": {
           "xaxis": {
            "backgroundcolor": "#E5ECF6",
            "gridcolor": "white",
            "gridwidth": 2,
            "linecolor": "white",
            "showbackground": true,
            "ticks": "",
            "zerolinecolor": "white"
           },
           "yaxis": {
            "backgroundcolor": "#E5ECF6",
            "gridcolor": "white",
            "gridwidth": 2,
            "linecolor": "white",
            "showbackground": true,
            "ticks": "",
            "zerolinecolor": "white"
           },
           "zaxis": {
            "backgroundcolor": "#E5ECF6",
            "gridcolor": "white",
            "gridwidth": 2,
            "linecolor": "white",
            "showbackground": true,
            "ticks": "",
            "zerolinecolor": "white"
           }
          },
          "shapedefaults": {
           "line": {
            "color": "#2a3f5f"
           }
          },
          "ternary": {
           "aaxis": {
            "gridcolor": "white",
            "linecolor": "white",
            "ticks": ""
           },
           "baxis": {
            "gridcolor": "white",
            "linecolor": "white",
            "ticks": ""
           },
           "bgcolor": "#E5ECF6",
           "caxis": {
            "gridcolor": "white",
            "linecolor": "white",
            "ticks": ""
           }
          },
          "title": {
           "x": 0.05
          },
          "xaxis": {
           "automargin": true,
           "gridcolor": "white",
           "linecolor": "white",
           "ticks": "",
           "title": {
            "standoff": 15
           },
           "zerolinecolor": "white",
           "zerolinewidth": 2
          },
          "yaxis": {
           "automargin": true,
           "gridcolor": "white",
           "linecolor": "white",
           "ticks": "",
           "title": {
            "standoff": 15
           },
           "zerolinecolor": "white",
           "zerolinewidth": 2
          }
         }
        }
       }
      },
      "text/html": [
       "<div>                            <div id=\"662315f0-28c1-4feb-83d1-df28ee10f6c2\" class=\"plotly-graph-div\" style=\"height:525px; width:100%;\"></div>            <script type=\"text/javascript\">                require([\"plotly\"], function(Plotly) {                    window.PLOTLYENV=window.PLOTLYENV || {};                                    if (document.getElementById(\"662315f0-28c1-4feb-83d1-df28ee10f6c2\")) {                    Plotly.newPlot(                        \"662315f0-28c1-4feb-83d1-df28ee10f6c2\",                        [{\"branchvalues\":\"total\",\"customdata\":[[8.6],[8.6],[8.6],[8.6],[8.6],[9.0],[9.0],[8.9],[8.9],[8.8],[8.6],[9.0],[8.6],[8.8],[9.0],[8.6],[8.6],[8.6],[8.9],[8.9]],\"domain\":{\"x\":[0.0,1.0],\"y\":[0.0,1.0]},\"hovertemplate\":\"labels=%{label}<br>Rating_sum=%{value}<br>parent=%{parent}<br>id=%{id}<br>Rating=%{color}<extra></extra>\",\"ids\":[\"Much Ado About Nothing/Chile, United States, France\",\"Ani... Dr. Kashinath Ghanekar/India\",\"Gol Maal/India\",\"Koshish/India\",\"Oththa Seruppu Size 7/India\",\"Breakout/Singapore\",\"Innocent/Turkey\",\"Pulp Fiction/United States\",\"Schindler's List/United States\",\"Inception/United States, United Kingdom\",\"Ani... Dr. Kashinath Ghanekar\",\"Breakout\",\"Gol Maal\",\"Inception\",\"Innocent\",\"Koshish\",\"Much Ado About Nothing\",\"Oththa Seruppu Size 7\",\"Pulp Fiction\",\"Schindler's List\"],\"labels\":[\"Chile, United States, France\",\"India\",\"India\",\"India\",\"India\",\"Singapore\",\"Turkey\",\"United States\",\"United States\",\"United States, United Kingdom\",\"Ani... Dr. Kashinath Ghanekar\",\"Breakout\",\"Gol Maal\",\"Inception\",\"Innocent\",\"Koshish\",\"Much Ado About Nothing\",\"Oththa Seruppu Size 7\",\"Pulp Fiction\",\"Schindler's List\"],\"marker\":{\"coloraxis\":\"coloraxis\",\"colors\":[8.6,8.6,8.6,8.6,8.6,9.0,9.0,8.9,8.9,8.8,8.6,9.0,8.6,8.8,9.0,8.6,8.6,8.6,8.9,8.9]},\"name\":\"\",\"parents\":[\"Much Ado About Nothing\",\"Ani... Dr. Kashinath Ghanekar\",\"Gol Maal\",\"Koshish\",\"Oththa Seruppu Size 7\",\"Breakout\",\"Innocent\",\"Pulp Fiction\",\"Schindler's List\",\"Inception\",\"\",\"\",\"\",\"\",\"\",\"\",\"\",\"\",\"\",\"\"],\"values\":[8.6,8.6,8.6,8.6,8.6,9.0,9.0,8.9,8.9,8.8,8.6,9.0,8.6,8.8,9.0,8.6,8.6,8.6,8.9,8.9],\"type\":\"sunburst\"}],                        {\"template\":{\"data\":{\"histogram2dcontour\":[{\"type\":\"histogram2dcontour\",\"colorbar\":{\"outlinewidth\":0,\"ticks\":\"\"},\"colorscale\":[[0.0,\"#0d0887\"],[0.1111111111111111,\"#46039f\"],[0.2222222222222222,\"#7201a8\"],[0.3333333333333333,\"#9c179e\"],[0.4444444444444444,\"#bd3786\"],[0.5555555555555556,\"#d8576b\"],[0.6666666666666666,\"#ed7953\"],[0.7777777777777778,\"#fb9f3a\"],[0.8888888888888888,\"#fdca26\"],[1.0,\"#f0f921\"]]}],\"choropleth\":[{\"type\":\"choropleth\",\"colorbar\":{\"outlinewidth\":0,\"ticks\":\"\"}}],\"histogram2d\":[{\"type\":\"histogram2d\",\"colorbar\":{\"outlinewidth\":0,\"ticks\":\"\"},\"colorscale\":[[0.0,\"#0d0887\"],[0.1111111111111111,\"#46039f\"],[0.2222222222222222,\"#7201a8\"],[0.3333333333333333,\"#9c179e\"],[0.4444444444444444,\"#bd3786\"],[0.5555555555555556,\"#d8576b\"],[0.6666666666666666,\"#ed7953\"],[0.7777777777777778,\"#fb9f3a\"],[0.8888888888888888,\"#fdca26\"],[1.0,\"#f0f921\"]]}],\"heatmap\":[{\"type\":\"heatmap\",\"colorbar\":{\"outlinewidth\":0,\"ticks\":\"\"},\"colorscale\":[[0.0,\"#0d0887\"],[0.1111111111111111,\"#46039f\"],[0.2222222222222222,\"#7201a8\"],[0.3333333333333333,\"#9c179e\"],[0.4444444444444444,\"#bd3786\"],[0.5555555555555556,\"#d8576b\"],[0.6666666666666666,\"#ed7953\"],[0.7777777777777778,\"#fb9f3a\"],[0.8888888888888888,\"#fdca26\"],[1.0,\"#f0f921\"]]}],\"heatmapgl\":[{\"type\":\"heatmapgl\",\"colorbar\":{\"outlinewidth\":0,\"ticks\":\"\"},\"colorscale\":[[0.0,\"#0d0887\"],[0.1111111111111111,\"#46039f\"],[0.2222222222222222,\"#7201a8\"],[0.3333333333333333,\"#9c179e\"],[0.4444444444444444,\"#bd3786\"],[0.5555555555555556,\"#d8576b\"],[0.6666666666666666,\"#ed7953\"],[0.7777777777777778,\"#fb9f3a\"],[0.8888888888888888,\"#fdca26\"],[1.0,\"#f0f921\"]]}],\"contourcarpet\":[{\"type\":\"contourcarpet\",\"colorbar\":{\"outlinewidth\":0,\"ticks\":\"\"}}],\"contour\":[{\"type\":\"contour\",\"colorbar\":{\"outlinewidth\":0,\"ticks\":\"\"},\"colorscale\":[[0.0,\"#0d0887\"],[0.1111111111111111,\"#46039f\"],[0.2222222222222222,\"#7201a8\"],[0.3333333333333333,\"#9c179e\"],[0.4444444444444444,\"#bd3786\"],[0.5555555555555556,\"#d8576b\"],[0.6666666666666666,\"#ed7953\"],[0.7777777777777778,\"#fb9f3a\"],[0.8888888888888888,\"#fdca26\"],[1.0,\"#f0f921\"]]}],\"surface\":[{\"type\":\"surface\",\"colorbar\":{\"outlinewidth\":0,\"ticks\":\"\"},\"colorscale\":[[0.0,\"#0d0887\"],[0.1111111111111111,\"#46039f\"],[0.2222222222222222,\"#7201a8\"],[0.3333333333333333,\"#9c179e\"],[0.4444444444444444,\"#bd3786\"],[0.5555555555555556,\"#d8576b\"],[0.6666666666666666,\"#ed7953\"],[0.7777777777777778,\"#fb9f3a\"],[0.8888888888888888,\"#fdca26\"],[1.0,\"#f0f921\"]]}],\"mesh3d\":[{\"type\":\"mesh3d\",\"colorbar\":{\"outlinewidth\":0,\"ticks\":\"\"}}],\"scatter\":[{\"fillpattern\":{\"fillmode\":\"overlay\",\"size\":10,\"solidity\":0.2},\"type\":\"scatter\"}],\"parcoords\":[{\"type\":\"parcoords\",\"line\":{\"colorbar\":{\"outlinewidth\":0,\"ticks\":\"\"}}}],\"scatterpolargl\":[{\"type\":\"scatterpolargl\",\"marker\":{\"colorbar\":{\"outlinewidth\":0,\"ticks\":\"\"}}}],\"bar\":[{\"error_x\":{\"color\":\"#2a3f5f\"},\"error_y\":{\"color\":\"#2a3f5f\"},\"marker\":{\"line\":{\"color\":\"#E5ECF6\",\"width\":0.5},\"pattern\":{\"fillmode\":\"overlay\",\"size\":10,\"solidity\":0.2}},\"type\":\"bar\"}],\"scattergeo\":[{\"type\":\"scattergeo\",\"marker\":{\"colorbar\":{\"outlinewidth\":0,\"ticks\":\"\"}}}],\"scatterpolar\":[{\"type\":\"scatterpolar\",\"marker\":{\"colorbar\":{\"outlinewidth\":0,\"ticks\":\"\"}}}],\"histogram\":[{\"marker\":{\"pattern\":{\"fillmode\":\"overlay\",\"size\":10,\"solidity\":0.2}},\"type\":\"histogram\"}],\"scattergl\":[{\"type\":\"scattergl\",\"marker\":{\"colorbar\":{\"outlinewidth\":0,\"ticks\":\"\"}}}],\"scatter3d\":[{\"type\":\"scatter3d\",\"line\":{\"colorbar\":{\"outlinewidth\":0,\"ticks\":\"\"}},\"marker\":{\"colorbar\":{\"outlinewidth\":0,\"ticks\":\"\"}}}],\"scattermapbox\":[{\"type\":\"scattermapbox\",\"marker\":{\"colorbar\":{\"outlinewidth\":0,\"ticks\":\"\"}}}],\"scatterternary\":[{\"type\":\"scatterternary\",\"marker\":{\"colorbar\":{\"outlinewidth\":0,\"ticks\":\"\"}}}],\"scattercarpet\":[{\"type\":\"scattercarpet\",\"marker\":{\"colorbar\":{\"outlinewidth\":0,\"ticks\":\"\"}}}],\"carpet\":[{\"aaxis\":{\"endlinecolor\":\"#2a3f5f\",\"gridcolor\":\"white\",\"linecolor\":\"white\",\"minorgridcolor\":\"white\",\"startlinecolor\":\"#2a3f5f\"},\"baxis\":{\"endlinecolor\":\"#2a3f5f\",\"gridcolor\":\"white\",\"linecolor\":\"white\",\"minorgridcolor\":\"white\",\"startlinecolor\":\"#2a3f5f\"},\"type\":\"carpet\"}],\"table\":[{\"cells\":{\"fill\":{\"color\":\"#EBF0F8\"},\"line\":{\"color\":\"white\"}},\"header\":{\"fill\":{\"color\":\"#C8D4E3\"},\"line\":{\"color\":\"white\"}},\"type\":\"table\"}],\"barpolar\":[{\"marker\":{\"line\":{\"color\":\"#E5ECF6\",\"width\":0.5},\"pattern\":{\"fillmode\":\"overlay\",\"size\":10,\"solidity\":0.2}},\"type\":\"barpolar\"}],\"pie\":[{\"automargin\":true,\"type\":\"pie\"}]},\"layout\":{\"autotypenumbers\":\"strict\",\"colorway\":[\"#636efa\",\"#EF553B\",\"#00cc96\",\"#ab63fa\",\"#FFA15A\",\"#19d3f3\",\"#FF6692\",\"#B6E880\",\"#FF97FF\",\"#FECB52\"],\"font\":{\"color\":\"#2a3f5f\"},\"hovermode\":\"closest\",\"hoverlabel\":{\"align\":\"left\"},\"paper_bgcolor\":\"white\",\"plot_bgcolor\":\"#E5ECF6\",\"polar\":{\"bgcolor\":\"#E5ECF6\",\"angularaxis\":{\"gridcolor\":\"white\",\"linecolor\":\"white\",\"ticks\":\"\"},\"radialaxis\":{\"gridcolor\":\"white\",\"linecolor\":\"white\",\"ticks\":\"\"}},\"ternary\":{\"bgcolor\":\"#E5ECF6\",\"aaxis\":{\"gridcolor\":\"white\",\"linecolor\":\"white\",\"ticks\":\"\"},\"baxis\":{\"gridcolor\":\"white\",\"linecolor\":\"white\",\"ticks\":\"\"},\"caxis\":{\"gridcolor\":\"white\",\"linecolor\":\"white\",\"ticks\":\"\"}},\"coloraxis\":{\"colorbar\":{\"outlinewidth\":0,\"ticks\":\"\"}},\"colorscale\":{\"sequential\":[[0.0,\"#0d0887\"],[0.1111111111111111,\"#46039f\"],[0.2222222222222222,\"#7201a8\"],[0.3333333333333333,\"#9c179e\"],[0.4444444444444444,\"#bd3786\"],[0.5555555555555556,\"#d8576b\"],[0.6666666666666666,\"#ed7953\"],[0.7777777777777778,\"#fb9f3a\"],[0.8888888888888888,\"#fdca26\"],[1.0,\"#f0f921\"]],\"sequentialminus\":[[0.0,\"#0d0887\"],[0.1111111111111111,\"#46039f\"],[0.2222222222222222,\"#7201a8\"],[0.3333333333333333,\"#9c179e\"],[0.4444444444444444,\"#bd3786\"],[0.5555555555555556,\"#d8576b\"],[0.6666666666666666,\"#ed7953\"],[0.7777777777777778,\"#fb9f3a\"],[0.8888888888888888,\"#fdca26\"],[1.0,\"#f0f921\"]],\"diverging\":[[0,\"#8e0152\"],[0.1,\"#c51b7d\"],[0.2,\"#de77ae\"],[0.3,\"#f1b6da\"],[0.4,\"#fde0ef\"],[0.5,\"#f7f7f7\"],[0.6,\"#e6f5d0\"],[0.7,\"#b8e186\"],[0.8,\"#7fbc41\"],[0.9,\"#4d9221\"],[1,\"#276419\"]]},\"xaxis\":{\"gridcolor\":\"white\",\"linecolor\":\"white\",\"ticks\":\"\",\"title\":{\"standoff\":15},\"zerolinecolor\":\"white\",\"automargin\":true,\"zerolinewidth\":2},\"yaxis\":{\"gridcolor\":\"white\",\"linecolor\":\"white\",\"ticks\":\"\",\"title\":{\"standoff\":15},\"zerolinecolor\":\"white\",\"automargin\":true,\"zerolinewidth\":2},\"scene\":{\"xaxis\":{\"backgroundcolor\":\"#E5ECF6\",\"gridcolor\":\"white\",\"linecolor\":\"white\",\"showbackground\":true,\"ticks\":\"\",\"zerolinecolor\":\"white\",\"gridwidth\":2},\"yaxis\":{\"backgroundcolor\":\"#E5ECF6\",\"gridcolor\":\"white\",\"linecolor\":\"white\",\"showbackground\":true,\"ticks\":\"\",\"zerolinecolor\":\"white\",\"gridwidth\":2},\"zaxis\":{\"backgroundcolor\":\"#E5ECF6\",\"gridcolor\":\"white\",\"linecolor\":\"white\",\"showbackground\":true,\"ticks\":\"\",\"zerolinecolor\":\"white\",\"gridwidth\":2}},\"shapedefaults\":{\"line\":{\"color\":\"#2a3f5f\"}},\"annotationdefaults\":{\"arrowcolor\":\"#2a3f5f\",\"arrowhead\":0,\"arrowwidth\":1},\"geo\":{\"bgcolor\":\"white\",\"landcolor\":\"#E5ECF6\",\"subunitcolor\":\"white\",\"showland\":true,\"showlakes\":true,\"lakecolor\":\"white\"},\"title\":{\"x\":0.05},\"mapbox\":{\"style\":\"light\"}}},\"coloraxis\":{\"colorbar\":{\"title\":{\"text\":\"Rating\"}},\"colorscale\":[[0.0,\"#0d0887\"],[0.1111111111111111,\"#46039f\"],[0.2222222222222222,\"#7201a8\"],[0.3333333333333333,\"#9c179e\"],[0.4444444444444444,\"#bd3786\"],[0.5555555555555556,\"#d8576b\"],[0.6666666666666666,\"#ed7953\"],[0.7777777777777778,\"#fb9f3a\"],[0.8888888888888888,\"#fdca26\"],[1.0,\"#f0f921\"]]},\"legend\":{\"tracegroupgap\":0},\"margin\":{\"t\":60}},                        {\"responsive\": true}                    ).then(function(){\n",
       "                            \n",
       "var gd = document.getElementById('662315f0-28c1-4feb-83d1-df28ee10f6c2');\n",
       "var x = new MutationObserver(function (mutations, observer) {{\n",
       "        var display = window.getComputedStyle(gd).display;\n",
       "        if (!display || display === 'none') {{\n",
       "            console.log([gd, 'removed!']);\n",
       "            Plotly.purge(gd);\n",
       "            observer.disconnect();\n",
       "        }}\n",
       "}});\n",
       "\n",
       "// Listen for the removal of the full notebook cells\n",
       "var notebookContainer = gd.closest('#notebook-container');\n",
       "if (notebookContainer) {{\n",
       "    x.observe(notebookContainer, {childList: true});\n",
       "}}\n",
       "\n",
       "// Listen for the clearing of the current output cell\n",
       "var outputEl = gd.closest('.output');\n",
       "if (outputEl) {{\n",
       "    x.observe(outputEl, {childList: true});\n",
       "}}\n",
       "\n",
       "                        })                };                });            </script>        </div>"
      ]
     },
     "metadata": {},
     "output_type": "display_data"
    },
    {
     "name": "stdout",
     "output_type": "stream",
     "text": [
      "Top países creadores de contenido:\n",
      "                               count\n",
      "country                             \n",
      "United States                    799\n",
      "India                            702\n",
      "United Kingdom                   107\n",
      "Canada                            56\n",
      "Philippines                       50\n",
      "Spain                             40\n",
      "South Korea                       36\n",
      "Indonesia                         35\n",
      "France                            33\n",
      "United Kingdom, United States     31\n",
      "Australia                         30\n"
     ]
    }
   ],
   "source": [
    "# Cargar datos de ratings y títulos de IMDB\n",
    "imdb_ratings = pd.read_csv('IMDb ratings.csv', \n",
    "                          usecols=['weighted_average_vote'])\n",
    "imdb_titles = pd.read_csv('IMDb movies.csv', \n",
    "                         usecols=['title', 'year', 'genre'])\n",
    "\n",
    "# Crear un nuevo DataFrame con título y rating\n",
    "ratings_simple = pd.DataFrame({\n",
    "    'Title': imdb_titles['title'],\n",
    "    'Rating': imdb_ratings['weighted_average_vote']\n",
    "})\n",
    "\n",
    "# Mostrar el nuevo dataset\n",
    "print(ratings_simple.head())\n",
    "\n",
    "# Crear DataFrame combinado con información de IMDB\n",
    "ratings = pd.DataFrame({\n",
    "    'Title': imdb_titles.title,\n",
    "    'Release Year': imdb_titles.year,\n",
    "    'Rating': imdb_ratings.weighted_average_vote,\n",
    "    'Genre': imdb_titles.genre\n",
    "})\n",
    "\n",
    "# Eliminar duplicados\n",
    "ratings.drop_duplicates(subset=['Title', 'Release Year', 'Rating'], inplace=True)\n",
    "print(f\"Forma del dataset de ratings: {ratings.shape}\")\n",
    "\n",
    "# Limpiar valores nulos\n",
    "ratings.dropna()\n",
    "\n",
    "# Hacer join entre datos de IMDB y Netflix para obtener contenido común\n",
    "joint_data = ratings.merge(netflix_dataset, left_on='Title', right_on='title', how='inner')\n",
    "joint_data = joint_data.sort_values(by='Rating', ascending=False)\n",
    "\n",
    "# Visualizar top 10 películas mejor valoradas en Netflix\n",
    "import plotly.express as px\n",
    "top_rated = joint_data[0:10]\n",
    "fig = px.sunburst(\n",
    "    top_rated,\n",
    "    path=['title', 'country'],\n",
    "    values='Rating',\n",
    "    color='Rating'\n",
    ")\n",
    "fig.show()\n",
    "\n",
    "# Análisis de países que más contenido crean\n",
    "country_count = joint_data['country'].value_counts().sort_values(ascending=False)\n",
    "country_count = pd.DataFrame(country_count)\n",
    "topcountries = country_count[0:11]\n",
    "print(\"Top países creadores de contenido:\")\n",
    "print(topcountries)"
   ]
  },
  {
   "cell_type": "markdown",
   "id": "79261e22-e71e-4886-8995-7c2d3abab986",
   "metadata": {},
   "source": [
    "#### 5:Análisis Temporal por Años\n",
    "Descripción: Análisis de la evolución del contenido de Netflix en los últimos 15 años."
   ]
  },
  {
   "cell_type": "code",
   "execution_count": 11,
   "id": "ca103fe9-4ad7-44e3-84e2-36fa7cfd621d",
   "metadata": {},
   "outputs": [
    {
     "data": {
      "text/html": [
       "<div>\n",
       "<style scoped>\n",
       "    .dataframe tbody tr th:only-of-type {\n",
       "        vertical-align: middle;\n",
       "    }\n",
       "\n",
       "    .dataframe tbody tr th {\n",
       "        vertical-align: top;\n",
       "    }\n",
       "\n",
       "    .dataframe thead th {\n",
       "        text-align: right;\n",
       "    }\n",
       "</style>\n",
       "<table border=\"1\" class=\"dataframe\">\n",
       "  <thead>\n",
       "    <tr style=\"text-align: right;\">\n",
       "      <th></th>\n",
       "      <th>count</th>\n",
       "    </tr>\n",
       "    <tr>\n",
       "      <th>country</th>\n",
       "      <th></th>\n",
       "    </tr>\n",
       "  </thead>\n",
       "  <tbody>\n",
       "    <tr>\n",
       "      <th>United States</th>\n",
       "      <td>799</td>\n",
       "    </tr>\n",
       "    <tr>\n",
       "      <th>India</th>\n",
       "      <td>702</td>\n",
       "    </tr>\n",
       "    <tr>\n",
       "      <th>United Kingdom</th>\n",
       "      <td>107</td>\n",
       "    </tr>\n",
       "    <tr>\n",
       "      <th>Canada</th>\n",
       "      <td>56</td>\n",
       "    </tr>\n",
       "    <tr>\n",
       "      <th>Philippines</th>\n",
       "      <td>50</td>\n",
       "    </tr>\n",
       "    <tr>\n",
       "      <th>Spain</th>\n",
       "      <td>40</td>\n",
       "    </tr>\n",
       "    <tr>\n",
       "      <th>South Korea</th>\n",
       "      <td>36</td>\n",
       "    </tr>\n",
       "    <tr>\n",
       "      <th>Indonesia</th>\n",
       "      <td>35</td>\n",
       "    </tr>\n",
       "    <tr>\n",
       "      <th>France</th>\n",
       "      <td>33</td>\n",
       "    </tr>\n",
       "    <tr>\n",
       "      <th>United Kingdom, United States</th>\n",
       "      <td>31</td>\n",
       "    </tr>\n",
       "    <tr>\n",
       "      <th>Australia</th>\n",
       "      <td>30</td>\n",
       "    </tr>\n",
       "  </tbody>\n",
       "</table>\n",
       "</div>"
      ],
      "text/plain": [
       "                               count\n",
       "country                             \n",
       "United States                    799\n",
       "India                            702\n",
       "United Kingdom                   107\n",
       "Canada                            56\n",
       "Philippines                       50\n",
       "Spain                             40\n",
       "South Korea                       36\n",
       "Indonesia                         35\n",
       "France                            33\n",
       "United Kingdom, United States     31\n",
       "Australia                         30"
      ]
     },
     "execution_count": 11,
     "metadata": {},
     "output_type": "execute_result"
    }
   ],
   "source": [
    "country_count=joint_data['country'].value_counts().sort_values(ascending=False)\n",
    "country_count=pd.DataFrame(country_count)\n",
    "topcountries=country_count[0:11]\n",
    "topcountries"
   ]
  },
  {
   "cell_type": "code",
   "execution_count": 12,
   "id": "09a6f24a-4cff-470e-88e2-a4f1ac564e37",
   "metadata": {},
   "outputs": [
    {
     "data": {
      "text/html": [
       "<div>\n",
       "<style scoped>\n",
       "    .dataframe tbody tr th:only-of-type {\n",
       "        vertical-align: middle;\n",
       "    }\n",
       "\n",
       "    .dataframe tbody tr th {\n",
       "        vertical-align: top;\n",
       "    }\n",
       "\n",
       "    .dataframe thead th {\n",
       "        text-align: right;\n",
       "    }\n",
       "</style>\n",
       "<table border=\"1\" class=\"dataframe\">\n",
       "  <thead>\n",
       "    <tr style=\"text-align: right;\">\n",
       "      <th></th>\n",
       "      <th>show_id</th>\n",
       "      <th>type</th>\n",
       "      <th>title</th>\n",
       "      <th>director</th>\n",
       "      <th>cast</th>\n",
       "      <th>country</th>\n",
       "      <th>date_added</th>\n",
       "      <th>release_year</th>\n",
       "      <th>rating</th>\n",
       "      <th>duration</th>\n",
       "      <th>listed_in</th>\n",
       "      <th>description</th>\n",
       "    </tr>\n",
       "  </thead>\n",
       "  <tbody>\n",
       "    <tr>\n",
       "      <th>0</th>\n",
       "      <td>s1</td>\n",
       "      <td>TV Show</td>\n",
       "      <td>3%</td>\n",
       "      <td>NaN</td>\n",
       "      <td>João Miguel, Bianca Comparato, Michel Gomes, R...</td>\n",
       "      <td>Brazil</td>\n",
       "      <td>August 14, 2020</td>\n",
       "      <td>2020</td>\n",
       "      <td>TV-MA</td>\n",
       "      <td>4 Seasons</td>\n",
       "      <td>International TV Shows, TV Dramas, TV Sci-Fi &amp;...</td>\n",
       "      <td>In a future where the elite inhabit an island ...</td>\n",
       "    </tr>\n",
       "    <tr>\n",
       "      <th>1</th>\n",
       "      <td>s2</td>\n",
       "      <td>Movie</td>\n",
       "      <td>07:19</td>\n",
       "      <td>Jorge Michel Grau</td>\n",
       "      <td>Demián Bichir, Héctor Bonilla, Oscar Serrano, ...</td>\n",
       "      <td>Mexico</td>\n",
       "      <td>December 23, 2016</td>\n",
       "      <td>2016</td>\n",
       "      <td>TV-MA</td>\n",
       "      <td>93 min</td>\n",
       "      <td>Dramas, International Movies</td>\n",
       "      <td>After a devastating earthquake hits Mexico Cit...</td>\n",
       "    </tr>\n",
       "    <tr>\n",
       "      <th>2</th>\n",
       "      <td>s3</td>\n",
       "      <td>Movie</td>\n",
       "      <td>23:59</td>\n",
       "      <td>Gilbert Chan</td>\n",
       "      <td>Tedd Chan, Stella Chung, Henley Hii, Lawrence ...</td>\n",
       "      <td>Singapore</td>\n",
       "      <td>December 20, 2018</td>\n",
       "      <td>2011</td>\n",
       "      <td>R</td>\n",
       "      <td>78 min</td>\n",
       "      <td>Horror Movies, International Movies</td>\n",
       "      <td>When an army recruit is found dead, his fellow...</td>\n",
       "    </tr>\n",
       "    <tr>\n",
       "      <th>3</th>\n",
       "      <td>s4</td>\n",
       "      <td>Movie</td>\n",
       "      <td>9</td>\n",
       "      <td>Shane Acker</td>\n",
       "      <td>Elijah Wood, John C. Reilly, Jennifer Connelly...</td>\n",
       "      <td>United States</td>\n",
       "      <td>November 16, 2017</td>\n",
       "      <td>2009</td>\n",
       "      <td>PG-13</td>\n",
       "      <td>80 min</td>\n",
       "      <td>Action &amp; Adventure, Independent Movies, Sci-Fi...</td>\n",
       "      <td>In a postapocalyptic world, rag-doll robots hi...</td>\n",
       "    </tr>\n",
       "    <tr>\n",
       "      <th>4</th>\n",
       "      <td>s5</td>\n",
       "      <td>Movie</td>\n",
       "      <td>21</td>\n",
       "      <td>Robert Luketic</td>\n",
       "      <td>Jim Sturgess, Kevin Spacey, Kate Bosworth, Aar...</td>\n",
       "      <td>United States</td>\n",
       "      <td>January 1, 2020</td>\n",
       "      <td>2008</td>\n",
       "      <td>PG-13</td>\n",
       "      <td>123 min</td>\n",
       "      <td>Dramas</td>\n",
       "      <td>A brilliant group of students become card-coun...</td>\n",
       "    </tr>\n",
       "  </tbody>\n",
       "</table>\n",
       "</div>"
      ],
      "text/plain": [
       "  show_id     type  title           director  \\\n",
       "0      s1  TV Show     3%                NaN   \n",
       "1      s2    Movie  07:19  Jorge Michel Grau   \n",
       "2      s3    Movie  23:59       Gilbert Chan   \n",
       "3      s4    Movie      9        Shane Acker   \n",
       "4      s5    Movie     21     Robert Luketic   \n",
       "\n",
       "                                                cast        country  \\\n",
       "0  João Miguel, Bianca Comparato, Michel Gomes, R...         Brazil   \n",
       "1  Demián Bichir, Héctor Bonilla, Oscar Serrano, ...         Mexico   \n",
       "2  Tedd Chan, Stella Chung, Henley Hii, Lawrence ...      Singapore   \n",
       "3  Elijah Wood, John C. Reilly, Jennifer Connelly...  United States   \n",
       "4  Jim Sturgess, Kevin Spacey, Kate Bosworth, Aar...  United States   \n",
       "\n",
       "          date_added  release_year rating   duration  \\\n",
       "0    August 14, 2020          2020  TV-MA  4 Seasons   \n",
       "1  December 23, 2016          2016  TV-MA     93 min   \n",
       "2  December 20, 2018          2011      R     78 min   \n",
       "3  November 16, 2017          2009  PG-13     80 min   \n",
       "4    January 1, 2020          2008  PG-13    123 min   \n",
       "\n",
       "                                           listed_in  \\\n",
       "0  International TV Shows, TV Dramas, TV Sci-Fi &...   \n",
       "1                       Dramas, International Movies   \n",
       "2                Horror Movies, International Movies   \n",
       "3  Action & Adventure, Independent Movies, Sci-Fi...   \n",
       "4                                             Dramas   \n",
       "\n",
       "                                         description  \n",
       "0  In a future where the elite inhabit an island ...  \n",
       "1  After a devastating earthquake hits Mexico Cit...  \n",
       "2  When an army recruit is found dead, his fellow...  \n",
       "3  In a postapocalyptic world, rag-doll robots hi...  \n",
       "4  A brilliant group of students become card-coun...  "
      ]
     },
     "execution_count": 12,
     "metadata": {},
     "output_type": "execute_result"
    }
   ],
   "source": [
    "Last_fifteen_years = netflix_dataset[netflix_dataset['release_year']>2005 ]\n",
    "Last_fifteen_years.head()"
   ]
  },
  {
   "cell_type": "code",
   "execution_count": 13,
   "id": "7409d73b-772f-4039-b667-75d38ca4c2f1",
   "metadata": {},
   "outputs": [
    {
     "name": "stdout",
     "output_type": "stream",
     "text": [
      "Contenido de los últimos 15 años: (7042, 12)\n"
     ]
    },
    {
     "data": {
      "image/png": "[encoded data removed]",
      "text/plain": [
       "<Figure size 1200x1000 with 1 Axes>"
      ]
     },
     "metadata": {},
     "output_type": "display_data"
    }
   ],
   "source": [
    "# Filtrar contenido de los últimos 15 años\n",
    "Last_fifteen_years = netflix_dataset[netflix_dataset['release_year'] > 2005]\n",
    "print(f\"Contenido de los últimos 15 años: {Last_fifteen_years.shape}\")\n",
    "\n",
    "# Visualizar distribución por año de lanzamiento\n",
    "plt.figure(figsize=(12, 10))\n",
    "sns.set(style=\"darkgrid\")\n",
    "ax = sns.countplot(y=\"release_year\", data=Last_fifteen_years, palette=\"Set1\", \n",
    "                   order=netflix_dataset['release_year'].value_counts().index[0:15])\n",
    "plt.title(\"Distribución de Contenido por Año de Lanzamiento\")\n",
    "plt.show()"
   ]
  },
  {
   "cell_type": "markdown",
   "id": "5ad0943e-b981-42d8-ae5a-2f4f290c1b31",
   "metadata": {},
   "source": [
    "### ============================================================================="
   ]
  },
  {
   "cell_type": "markdown",
   "id": "45caca86-37a2-451f-9bcb-80a011a722ec",
   "metadata": {},
   "source": [
    "#### 6:Análisis Específico de TV Shows\n",
    "Descripción: Análisis detallado de las series de TV, incluyendo países de origen y duración."
   ]
  },
  {
   "cell_type": "code",
   "execution_count": 12,
   "id": "3715d460-8f15-44c3-bee3-814cc6ec8955",
   "metadata": {},
   "outputs": [
    {
     "data": {
      "image/png": "[encoded data removed]",
      "text/plain": [
       "<Figure size 800x800 with 1 Axes>"
      ]
     },
     "metadata": {},
     "output_type": "display_data"
    }
   ],
   "source": [
    "# Analizamos de qué países provienen las series de TV\n",
    "countries = {}\n",
    "netflix_shows['country'] = netflix_shows['country'].fillna('Unknown')  # Rellenamos valores nulos con 'Unknown'\n",
    "cou = list(netflix_shows['country'])\n",
    "\n",
    "# Recorremos la lista para contar los países (algunos títulos tienen más de un país)\n",
    "for i in cou:\n",
    "    i = list(i.split(','))\n",
    "    if len(i) == 1:\n",
    "        if i in list(countries.keys()):\n",
    "            countries[i] += 1\n",
    "        else:\n",
    "            countries[i[0]] = 1\n",
    "    else:\n",
    "        for j in i:\n",
    "            if j in list(countries.keys()):\n",
    "                countries[j] += 1\n",
    "            else:\n",
    "                countries[j] = 1\n",
    "\n",
    "# Limpiamos los nombres de los países (quitamos espacios)\n",
    "countries_fin = {}\n",
    "for country, no in countries.items():\n",
    "    country = country.replace(' ', '')\n",
    "    if country in list(countries_fin.keys()):\n",
    "        countries_fin[country] += no\n",
    "    else:\n",
    "        countries_fin[country] = no\n",
    "\n",
    "# Ordenamos los países de mayor a menor según la cantidad de series\n",
    "countries_fin = {k: v for k, v in sorted(countries_fin.items(), key=lambda item: item[1], reverse=True)}\n",
    "\n",
    "# Mostramos los 10 países que más series producen\n",
    "plt.figure(figsize=(8, 8))\n",
    "ax = sns.barplot(\n",
    "    x=list(countries_fin.keys())[0:10],\n",
    "    y=list(countries_fin.values())[0:10],\n",
    "    palette=\"viridis\"  # paleta de colores cambiada para algo más moderno y vistoso\n",
    ")\n",
    "ax.set_xticklabels(list(countries_fin.keys())[0:10], rotation=90)\n",
    "plt.title(\"Top 10 Países Productores de TV Shows\")\n",
    "plt.show()\n"
   ]
  },
  {
   "cell_type": "markdown",
   "id": "dfd047d7-8f9d-46a2-acdc-92deefa6ca6b",
   "metadata": {},
   "source": [
    "### ============================================================"
   ]
  },
  {
   "cell_type": "markdown",
   "id": "ad88970c-63f8-46af-ab14-3cc2af8fa112",
   "metadata": {},
   "source": [
    "#### 7:Análisis de Duración de Películas\n",
    "Descripción: Análisis de la distribución de duración de las películas en Netflix."
   ]
  },
  {
   "cell_type": "code",
   "execution_count": 16,
   "id": "f2fe83b4-83d6-4354-8e29-3162f227dc19",
   "metadata": {},
   "outputs": [
    {
     "data": {
      "text/plain": [
       "1        93\n",
       "2        78\n",
       "3        80\n",
       "4       123\n",
       "6        95\n",
       "       ... \n",
       "7781     88\n",
       "7782     99\n",
       "7783    111\n",
       "7784     44\n",
       "7786     90\n",
       "Name: duration, Length: 5377, dtype: int32"
      ]
     },
     "execution_count": 16,
     "metadata": {},
     "output_type": "execute_result"
    }
   ],
   "source": [
    "\n",
    "# Procesar duración de películas (remover texto y convertir a números)\n",
    "netflix_movies['duration'] = netflix_movies['duration'].str.replace(' min', '')\n",
    "netflix_movies['duration'] = netflix_movies['duration'].astype(str).astype(int)\n",
    "\n",
    "netflix_movies['duration']"
   ]
  },
  {
   "cell_type": "code",
   "execution_count": 17,
   "id": "e5d1fd38-9ac5-4dc6-a4e0-3643e543ae48",
   "metadata": {},
   "outputs": [
    {
     "data": {
      "image/png": "[encoded data removed]",
      "text/plain": [
       "<Figure size 640x480 with 1 Axes>"
      ]
     },
     "metadata": {},
     "output_type": "display_data"
    }
   ],
   "source": [
    "# Crear gráfico de densidad para visualizar distribución de duraciones\n",
    "sns.set(style=\"darkgrid\")\n",
    "ax = sns.kdeplot(data=netflix_movies['duration'], shade=True)\n",
    "plt.title(\"Distribución de Duración de Películas\")\n",
    "plt.xlabel(\"Duración (minutos)\")\n",
    "plt.show()"
   ]
  },
  {
   "cell_type": "markdown",
   "id": "fc10f954-ed05-436c-9b88-479456b685f7",
   "metadata": {},
   "source": [
    "#### 8:Análisis de Duración de TV Shows\n",
    "Descripción: Análisis del número de temporadas de las series de TV."
   ]
  },
  {
   "cell_type": "code",
   "execution_count": 13,
   "id": "27677aa7-b873-4fbf-89d5-7359cd63cbbe",
   "metadata": {},
   "outputs": [
    {
     "data": {
      "image/png": "[encoded data removed]",
      "text/plain": [
       "<Figure size 1500x800 with 1 Axes>"
      ]
     },
     "metadata": {},
     "output_type": "display_data"
    }
   ],
   "source": [
    "# Sacamos los títulos y la duración (número de temporadas) de las series\n",
    "features = ['title', 'duration']\n",
    "durations = netflix_shows[features]\n",
    "\n",
    "# Limpiamos la columna de duración para obtener solo el número de temporadas\n",
    "durations['no_of_seasons'] = durations['duration'].str.replace(' Season', '')\n",
    "durations['no_of_seasons'] = durations['no_of_seasons'].str.replace('s', '')\n",
    "durations['no_of_seasons'] = durations['no_of_seasons'].astype(str).astype(int)\n",
    "\n",
    "# Ordenamos las series por cantidad de temporadas (de mayor a menor)\n",
    "t = ['title', 'no_of_seasons']\n",
    "top = durations[t]\n",
    "top = top.sort_values(by='no_of_seasons', ascending=False)\n",
    "\n",
    "# Mostramos en gráfico las 20 series con más temporadas\n",
    "top20 = top[0:20]\n",
    "top20.plot(kind='bar', x='title', y='no_of_seasons', color='#FF6F61', figsize=(15, 8))  # color cambiado a un tono coral\n",
    "plt.title(\"Top 20 Series con Más Temporadas\")\n",
    "plt.xticks(rotation=45)\n",
    "plt.show()\n"
   ]
  },
  {
   "cell_type": "markdown",
   "id": "270c4796-9843-48ba-a98f-25c2f952fa68",
   "metadata": {},
   "source": [
    "### Sistema de recomendacion basado en contenido"
   ]
  },
  {
   "cell_type": "markdown",
   "id": "c80b99ca-c842-4bac-9f3f-abc519945dd2",
   "metadata": {},
   "source": [
    "Recomendador basado en la descripción de la trama (Recomendaciones basadas en contenido)"
   ]
  },
  {
   "cell_type": "code",
   "execution_count": 187,
   "id": "7deedc5e-2837-44dd-957e-d442c79cb0ab",
   "metadata": {},
   "outputs": [
    {
     "data": {
      "text/plain": [
       "0    In a future where the elite inhabit an island ...\n",
       "1    After a devastating earthquake hits Mexico Cit...\n",
       "2    When an army recruit is found dead, his fellow...\n",
       "3    In a postapocalyptic world, rag-doll robots hi...\n",
       "4    A brilliant group of students become card-coun...\n",
       "Name: description, dtype: object"
      ]
     },
     "execution_count": 187,
     "metadata": {},
     "output_type": "execute_result"
    }
   ],
   "source": [
    "#Recomendador basado en descripción de la trama (Recomendaciones basadas en contenido)\n",
    "netflix_dataset['description'].head()"
   ]
  },
  {
   "cell_type": "code",
   "execution_count": 20,
   "id": "e223b324-bcea-42fd-ac12-e7fc79395bbc",
   "metadata": {},
   "outputs": [
    {
     "data": {
      "text/plain": [
       "(7787, 17905)"
      ]
     },
     "execution_count": 20,
     "metadata": {},
     "output_type": "execute_result"
    }
   ],
   "source": [
    "#Recommedation System(Content Based)\n",
    "\n",
    "#Import TfIdfVectorizer from scikit-learn\n",
    "from sklearn.feature_extraction.text import TfidfVectorizer\n",
    "\n",
    "#Define a TF-IDF Vectorizer Object. Remove all english stop words such as 'the', 'a', etc.\n",
    "tfidf = TfidfVectorizer(stop_words='english')\n",
    "\n",
    "#Replace NaN with an empty string\n",
    "netflix_dataset['description'] = netflix_dataset['description'].fillna('')\n",
    "\n",
    "#Construct the required TF-IDF matrix by fitting and transforming the data\n",
    "tfidf_matrix = tfidf.fit_transform(netflix_dataset['description'])\n",
    "\n",
    "#Output the shape of tfidf_matrix\n",
    "tfidf_matrix.shape"
   ]
  },
  {
   "cell_type": "code",
   "execution_count": 21,
   "id": "8db94e49-dbbd-43cc-b70b-a5ae8be1b288",
   "metadata": {},
   "outputs": [],
   "source": [
    "#Import linear_kernel\n",
    "from sklearn.metrics.pairwise import linear_kernel\n",
    "\n",
    "# Compute the cosine similarity matrix\n",
    "cosine_sim = linear_kernel(tfidf_matrix, tfidf_matrix)"
   ]
  },
  {
   "cell_type": "code",
   "execution_count": 24,
   "id": "0277a2e1-a1e9-4240-87b1-2f87f0fc061e",
   "metadata": {},
   "outputs": [],
   "source": [
    "#Construct a reverse map of indices and movie titles\n",
    "indices = pd.Series(netflix_dataset.index, index=netflix_dataset['title']).drop_duplicates()"
   ]
  },
  {
   "cell_type": "code",
   "execution_count": 25,
   "id": "2e57036f-6913-452a-9e25-39b4948dfb93",
   "metadata": {},
   "outputs": [],
   "source": [
    "# Function that takes in movie title as input and outputs most similar movies\n",
    "def get_recommendations(title, cosine_sim=cosine_sim):\n",
    "    # Get the index of the movie that matches the title\n",
    "    idx = indices[title]\n",
    "\n",
    "    # Get the pairwsie similarity scores of all movies with that movie\n",
    "    sim_scores = list(enumerate(cosine_sim[idx]))\n",
    "\n",
    "    # Sort the movies based on the similarity scores\n",
    "    sim_scores = sorted(sim_scores, key=lambda x: x[1], reverse=True)\n",
    "\n",
    "    # Get the scores of the 10 most similar movies\n",
    "    sim_scores = sim_scores[1:11]\n",
    "\n",
    "    # Get the movie indices\n",
    "    movie_indices = [i[0] for i in sim_scores]\n",
    "\n",
    "    # Return the top 10 most similar movies\n",
    "    return netflix_dataset['title'].iloc[movie_indices]"
   ]
  },
  {
   "cell_type": "code",
   "execution_count": 26,
   "id": "c3391f6d-4921-4241-99f0-8859dab011eb",
   "metadata": {},
   "outputs": [
    {
     "data": {
      "text/plain": [
       "1761                  Dil Vil Pyaar Vyaar\n",
       "6782                The Princess Weiyoung\n",
       "866                               Bewafaa\n",
       "3082                     It's Okay, Buddy\n",
       "7245                           True Tunes\n",
       "2472                             Gomorrah\n",
       "302                      Acts of Violence\n",
       "3859                          Magnificent\n",
       "4938    Power Rangers Operation Overdrive\n",
       "4692                        Our Godfather\n",
       "Name: title, dtype: object"
      ]
     },
     "execution_count": 26,
     "metadata": {},
     "output_type": "execute_result"
    }
   ],
   "source": [
    "get_recommendations('Welcome')"
   ]
  },
  {
   "cell_type": "code",
   "execution_count": 27,
   "id": "9779013c-4f03-4505-8680-e1bb840b610b",
   "metadata": {},
   "outputs": [
    {
     "data": {
      "text/plain": [
       "6920                              The Talented Mr. Ripley\n",
       "6270                                         The Darkness\n",
       "400                                Aliens Ate My Homework\n",
       "3589              LEGO Marvel Super Heroes: Black Panther\n",
       "1338                       Chilling Adventures of Sabrina\n",
       "7446                                              Vroomiz\n",
       "4678                                            Orbiter 9\n",
       "1448                                           Code Lyoko\n",
       "7388                                             Vampires\n",
       "3590    LEGO Marvel Super Heroes: Guardians of the Galaxy\n",
       "Name: title, dtype: object"
      ]
     },
     "execution_count": 27,
     "metadata": {},
     "output_type": "execute_result"
    }
   ],
   "source": [
    "get_recommendations('Avengers: Infinity War')"
   ]
  },
  {
   "cell_type": "code",
   "execution_count": 28,
   "id": "5863295e-04c7-403b-9eb5-99fe625ff6c2",
   "metadata": {},
   "outputs": [
    {
     "data": {
      "text/plain": [
       "6464                     The House of Flowers\n",
       "4603                                Old Money\n",
       "377                                     Alelí\n",
       "593                           Ascharyachakit!\n",
       "5171                                  Results\n",
       "1123                                 Budapest\n",
       "3916                           Mansfield Park\n",
       "5662        Sleepless Society: Bedtime Wishes\n",
       "1192                         Can You Hear Me?\n",
       "3583    LEGO Friends: The Power of Friendship\n",
       "Name: title, dtype: object"
      ]
     },
     "execution_count": 28,
     "metadata": {},
     "output_type": "execute_result"
    }
   ],
   "source": [
    "get_recommendations('Dil Dhadakne Do')"
   ]
  },
  {
   "cell_type": "code",
   "execution_count": 29,
   "id": "c5c4d9e3-1d06-4086-b2c2-f7c9c09dea79",
   "metadata": {},
   "outputs": [
    {
     "data": {
      "text/html": [
       "<div>\n",
       "<style scoped>\n",
       "    .dataframe tbody tr th:only-of-type {\n",
       "        vertical-align: middle;\n",
       "    }\n",
       "\n",
       "    .dataframe tbody tr th {\n",
       "        vertical-align: top;\n",
       "    }\n",
       "\n",
       "    .dataframe thead th {\n",
       "        text-align: right;\n",
       "    }\n",
       "</style>\n",
       "<table border=\"1\" class=\"dataframe\">\n",
       "  <thead>\n",
       "    <tr style=\"text-align: right;\">\n",
       "      <th></th>\n",
       "      <th>show_id</th>\n",
       "      <th>type</th>\n",
       "      <th>title</th>\n",
       "      <th>director</th>\n",
       "      <th>cast</th>\n",
       "      <th>country</th>\n",
       "      <th>date_added</th>\n",
       "      <th>release_year</th>\n",
       "      <th>rating</th>\n",
       "      <th>duration</th>\n",
       "      <th>listed_in</th>\n",
       "      <th>description</th>\n",
       "    </tr>\n",
       "  </thead>\n",
       "  <tbody>\n",
       "    <tr>\n",
       "      <th>0</th>\n",
       "      <td>s1</td>\n",
       "      <td>TV Show</td>\n",
       "      <td>3%</td>\n",
       "      <td></td>\n",
       "      <td>João Miguel, Bianca Comparato, Michel Gomes, R...</td>\n",
       "      <td>Brazil</td>\n",
       "      <td>August 14, 2020</td>\n",
       "      <td>2020</td>\n",
       "      <td>TV-MA</td>\n",
       "      <td>4 Seasons</td>\n",
       "      <td>International TV Shows, TV Dramas, TV Sci-Fi &amp;...</td>\n",
       "      <td>In a future where the elite inhabit an island ...</td>\n",
       "    </tr>\n",
       "    <tr>\n",
       "      <th>1</th>\n",
       "      <td>s2</td>\n",
       "      <td>Movie</td>\n",
       "      <td>07:19</td>\n",
       "      <td>Jorge Michel Grau</td>\n",
       "      <td>Demián Bichir, Héctor Bonilla, Oscar Serrano, ...</td>\n",
       "      <td>Mexico</td>\n",
       "      <td>December 23, 2016</td>\n",
       "      <td>2016</td>\n",
       "      <td>TV-MA</td>\n",
       "      <td>93 min</td>\n",
       "      <td>Dramas, International Movies</td>\n",
       "      <td>After a devastating earthquake hits Mexico Cit...</td>\n",
       "    </tr>\n",
       "    <tr>\n",
       "      <th>2</th>\n",
       "      <td>s3</td>\n",
       "      <td>Movie</td>\n",
       "      <td>23:59</td>\n",
       "      <td>Gilbert Chan</td>\n",
       "      <td>Tedd Chan, Stella Chung, Henley Hii, Lawrence ...</td>\n",
       "      <td>Singapore</td>\n",
       "      <td>December 20, 2018</td>\n",
       "      <td>2011</td>\n",
       "      <td>R</td>\n",
       "      <td>78 min</td>\n",
       "      <td>Horror Movies, International Movies</td>\n",
       "      <td>When an army recruit is found dead, his fellow...</td>\n",
       "    </tr>\n",
       "    <tr>\n",
       "      <th>3</th>\n",
       "      <td>s4</td>\n",
       "      <td>Movie</td>\n",
       "      <td>9</td>\n",
       "      <td>Shane Acker</td>\n",
       "      <td>Elijah Wood, John C. Reilly, Jennifer Connelly...</td>\n",
       "      <td>United States</td>\n",
       "      <td>November 16, 2017</td>\n",
       "      <td>2009</td>\n",
       "      <td>PG-13</td>\n",
       "      <td>80 min</td>\n",
       "      <td>Action &amp; Adventure, Independent Movies, Sci-Fi...</td>\n",
       "      <td>In a postapocalyptic world, rag-doll robots hi...</td>\n",
       "    </tr>\n",
       "    <tr>\n",
       "      <th>4</th>\n",
       "      <td>s5</td>\n",
       "      <td>Movie</td>\n",
       "      <td>21</td>\n",
       "      <td>Robert Luketic</td>\n",
       "      <td>Jim Sturgess, Kevin Spacey, Kate Bosworth, Aar...</td>\n",
       "      <td>United States</td>\n",
       "      <td>January 1, 2020</td>\n",
       "      <td>2008</td>\n",
       "      <td>PG-13</td>\n",
       "      <td>123 min</td>\n",
       "      <td>Dramas</td>\n",
       "      <td>A brilliant group of students become card-coun...</td>\n",
       "    </tr>\n",
       "  </tbody>\n",
       "</table>\n",
       "</div>"
      ],
      "text/plain": [
       "  show_id     type  title           director  \\\n",
       "0      s1  TV Show     3%                      \n",
       "1      s2    Movie  07:19  Jorge Michel Grau   \n",
       "2      s3    Movie  23:59       Gilbert Chan   \n",
       "3      s4    Movie      9        Shane Acker   \n",
       "4      s5    Movie     21     Robert Luketic   \n",
       "\n",
       "                                                cast        country  \\\n",
       "0  João Miguel, Bianca Comparato, Michel Gomes, R...         Brazil   \n",
       "1  Demián Bichir, Héctor Bonilla, Oscar Serrano, ...         Mexico   \n",
       "2  Tedd Chan, Stella Chung, Henley Hii, Lawrence ...      Singapore   \n",
       "3  Elijah Wood, John C. Reilly, Jennifer Connelly...  United States   \n",
       "4  Jim Sturgess, Kevin Spacey, Kate Bosworth, Aar...  United States   \n",
       "\n",
       "          date_added  release_year rating   duration  \\\n",
       "0    August 14, 2020          2020  TV-MA  4 Seasons   \n",
       "1  December 23, 2016          2016  TV-MA     93 min   \n",
       "2  December 20, 2018          2011      R     78 min   \n",
       "3  November 16, 2017          2009  PG-13     80 min   \n",
       "4    January 1, 2020          2008  PG-13    123 min   \n",
       "\n",
       "                                           listed_in  \\\n",
       "0  International TV Shows, TV Dramas, TV Sci-Fi &...   \n",
       "1                       Dramas, International Movies   \n",
       "2                Horror Movies, International Movies   \n",
       "3  Action & Adventure, Independent Movies, Sci-Fi...   \n",
       "4                                             Dramas   \n",
       "\n",
       "                                         description  \n",
       "0  In a future where the elite inhabit an island ...  \n",
       "1  After a devastating earthquake hits Mexico Cit...  \n",
       "2  When an army recruit is found dead, his fellow...  \n",
       "3  In a postapocalyptic world, rag-doll robots hi...  \n",
       "4  A brilliant group of students become card-coun...  "
      ]
     },
     "execution_count": 29,
     "metadata": {},
     "output_type": "execute_result"
    }
   ],
   "source": [
    "#Filling null values with empty string.\n",
    "filledna=netflix_dataset.fillna('')\n",
    "filledna.head()"
   ]
  },
  {
   "cell_type": "code",
   "execution_count": 30,
   "id": "d6529cc5-8bf7-4078-ad4c-268dd3025454",
   "metadata": {},
   "outputs": [],
   "source": [
    "#Cleaning the data - making all the words lower case\n",
    "def clean_data(x):\n",
    "        return str.lower(x.replace(\" \", \"\"))"
   ]
  },
  {
   "cell_type": "code",
   "execution_count": 31,
   "id": "0f9c143c-d5d1-4be5-95ad-670e31243ee3",
   "metadata": {},
   "outputs": [],
   "source": [
    "#Identifying features on which the model is to be filtered.\n",
    "features=['title','director','cast','listed_in','description']\n",
    "filledna=filledna[features]"
   ]
  },
  {
   "cell_type": "code",
   "execution_count": 32,
   "id": "666076f9-481a-4fb1-be1a-ef2924f5592b",
   "metadata": {},
   "outputs": [
    {
     "data": {
      "text/html": [
       "<div>\n",
       "<style scoped>\n",
       "    .dataframe tbody tr th:only-of-type {\n",
       "        vertical-align: middle;\n",
       "    }\n",
       "\n",
       "    .dataframe tbody tr th {\n",
       "        vertical-align: top;\n",
       "    }\n",
       "\n",
       "    .dataframe thead th {\n",
       "        text-align: right;\n",
       "    }\n",
       "</style>\n",
       "<table border=\"1\" class=\"dataframe\">\n",
       "  <thead>\n",
       "    <tr style=\"text-align: right;\">\n",
       "      <th></th>\n",
       "      <th>title</th>\n",
       "      <th>director</th>\n",
       "      <th>cast</th>\n",
       "      <th>listed_in</th>\n",
       "      <th>description</th>\n",
       "    </tr>\n",
       "  </thead>\n",
       "  <tbody>\n",
       "    <tr>\n",
       "      <th>0</th>\n",
       "      <td>3%</td>\n",
       "      <td></td>\n",
       "      <td>joãomiguel,biancacomparato,michelgomes,rodolfo...</td>\n",
       "      <td>internationaltvshows,tvdramas,tvsci-fi&amp;fantasy</td>\n",
       "      <td>inafuturewheretheeliteinhabitanislandparadisef...</td>\n",
       "    </tr>\n",
       "    <tr>\n",
       "      <th>1</th>\n",
       "      <td>07:19</td>\n",
       "      <td>jorgemichelgrau</td>\n",
       "      <td>demiánbichir,héctorbonilla,oscarserrano,azalia...</td>\n",
       "      <td>dramas,internationalmovies</td>\n",
       "      <td>afteradevastatingearthquakehitsmexicocity,trap...</td>\n",
       "    </tr>\n",
       "    <tr>\n",
       "      <th>2</th>\n",
       "      <td>23:59</td>\n",
       "      <td>gilbertchan</td>\n",
       "      <td>teddchan,stellachung,henleyhii,lawrencekoh,tom...</td>\n",
       "      <td>horrormovies,internationalmovies</td>\n",
       "      <td>whenanarmyrecruitisfounddead,hisfellowsoldiers...</td>\n",
       "    </tr>\n",
       "    <tr>\n",
       "      <th>3</th>\n",
       "      <td>9</td>\n",
       "      <td>shaneacker</td>\n",
       "      <td>elijahwood,johnc.reilly,jenniferconnelly,chris...</td>\n",
       "      <td>action&amp;adventure,independentmovies,sci-fi&amp;fantasy</td>\n",
       "      <td>inapostapocalypticworld,rag-dollrobotshideinfe...</td>\n",
       "    </tr>\n",
       "    <tr>\n",
       "      <th>4</th>\n",
       "      <td>21</td>\n",
       "      <td>robertluketic</td>\n",
       "      <td>jimsturgess,kevinspacey,katebosworth,aaronyoo,...</td>\n",
       "      <td>dramas</td>\n",
       "      <td>abrilliantgroupofstudentsbecomecard-countingex...</td>\n",
       "    </tr>\n",
       "  </tbody>\n",
       "</table>\n",
       "</div>"
      ],
      "text/plain": [
       "   title         director                                               cast  \\\n",
       "0     3%                   joãomiguel,biancacomparato,michelgomes,rodolfo...   \n",
       "1  07:19  jorgemichelgrau  demiánbichir,héctorbonilla,oscarserrano,azalia...   \n",
       "2  23:59      gilbertchan  teddchan,stellachung,henleyhii,lawrencekoh,tom...   \n",
       "3      9       shaneacker  elijahwood,johnc.reilly,jenniferconnelly,chris...   \n",
       "4     21    robertluketic  jimsturgess,kevinspacey,katebosworth,aaronyoo,...   \n",
       "\n",
       "                                           listed_in  \\\n",
       "0     internationaltvshows,tvdramas,tvsci-fi&fantasy   \n",
       "1                         dramas,internationalmovies   \n",
       "2                   horrormovies,internationalmovies   \n",
       "3  action&adventure,independentmovies,sci-fi&fantasy   \n",
       "4                                             dramas   \n",
       "\n",
       "                                         description  \n",
       "0  inafuturewheretheeliteinhabitanislandparadisef...  \n",
       "1  afteradevastatingearthquakehitsmexicocity,trap...  \n",
       "2  whenanarmyrecruitisfounddead,hisfellowsoldiers...  \n",
       "3  inapostapocalypticworld,rag-dollrobotshideinfe...  \n",
       "4  abrilliantgroupofstudentsbecomecard-countingex...  "
      ]
     },
     "execution_count": 32,
     "metadata": {},
     "output_type": "execute_result"
    }
   ],
   "source": [
    "for feature in features:\n",
    "    filledna[feature] = filledna[feature].apply(clean_data)\n",
    "    \n",
    "filledna.head()"
   ]
  },
  {
   "cell_type": "code",
   "execution_count": 33,
   "id": "b4177dd3-a4b7-4440-b19a-9cf533a6621f",
   "metadata": {},
   "outputs": [],
   "source": [
    "def create_soup(x):\n",
    "    return x['title']+ ' ' + x['director'] + ' ' + x['cast'] + ' ' +x['listed_in']+' '+ x['description']\n",
    "\n",
    "filledna['soup'] = filledna.apply(create_soup, axis=1)"
   ]
  },
  {
   "cell_type": "code",
   "execution_count": 34,
   "id": "f48f8ae4-a8ae-4439-a40d-644c5dd6ff69",
   "metadata": {},
   "outputs": [],
   "source": [
    "# Import CountVectorizer and create the count matrix\n",
    "from sklearn.feature_extraction.text import CountVectorizer\n",
    "\n",
    "count = CountVectorizer(stop_words='english')\n",
    "count_matrix = count.fit_transform(filledna['soup'])"
   ]
  },
  {
   "cell_type": "code",
   "execution_count": 35,
   "id": "679c4416-9566-451b-9d5f-15a639b59194",
   "metadata": {},
   "outputs": [],
   "source": [
    "# Compute the Cosine Similarity matrix based on the count_matrix\n",
    "from sklearn.metrics.pairwise import cosine_similarity\n",
    "\n",
    "cosine_sim2 = cosine_similarity(count_matrix, count_matrix)"
   ]
  },
  {
   "cell_type": "code",
   "execution_count": 36,
   "id": "790adcdb-617d-4922-968b-b2f961c43230",
   "metadata": {},
   "outputs": [],
   "source": [
    "# Reset index of our main DataFrame and construct reverse mapping as before\n",
    "filledna=filledna.reset_index()\n",
    "indices = pd.Series(filledna.index, index=filledna['title'])"
   ]
  },
  {
   "cell_type": "code",
   "execution_count": 37,
   "id": "9f2af94d-d3c7-4379-b3a7-8b5023d00793",
   "metadata": {},
   "outputs": [],
   "source": [
    "def get_recommendations_new(title, cosine_sim=cosine_sim):\n",
    "    title=title.replace(' ','').lower()\n",
    "    idx = indices[title]\n",
    "\n",
    "    # Get the pairwsie similarity scores of all movies with that movie\n",
    "    sim_scores = list(enumerate(cosine_sim[idx]))\n",
    "\n",
    "    # Sort the movies based on the similarity scores\n",
    "    sim_scores = sorted(sim_scores, key=lambda x: x[1], reverse=True)\n",
    "\n",
    "    # Get the scores of the 10 most similar movies\n",
    "    sim_scores = sim_scores[1:11]\n",
    "\n",
    "    # Get the movie indices\n",
    "    movie_indices = [i[0] for i in sim_scores]\n",
    "\n",
    "    # Return the top 10 most similar movies\n",
    "    return netflix_dataset['title'].iloc[movie_indices]"
   ]
  },
  {
   "cell_type": "code",
   "execution_count": 38,
   "id": "02cc79de-06a8-4189-9580-520c9d3abc40",
   "metadata": {},
   "outputs": [
    {
     "data": {
      "text/plain": [
       "6016            Tees Maar Khan\n",
       "6863             The Shaukeens\n",
       "1740        Dhoondte Reh Jaoge\n",
       "3215                     Joker\n",
       "2862    Humko Deewana Kar Gaye\n",
       "354                    Aitraaz\n",
       "6042                 Thank You\n",
       "3874     Maine Pyaar Kyun Kiya\n",
       "4846           Phir Hera Pheri\n",
       "5052                      Race\n",
       "Name: title, dtype: object"
      ]
     },
     "execution_count": 38,
     "metadata": {},
     "output_type": "execute_result"
    }
   ],
   "source": [
    "get_recommendations_new('Welcome', cosine_sim2)"
   ]
  },
  {
   "cell_type": "code",
   "execution_count": 39,
   "id": "45694632-0b72-4b8b-8e96-75a110ed36b9",
   "metadata": {},
   "outputs": [
    {
     "data": {
      "text/plain": [
       "7058                               Thor: Ragnarok\n",
       "5698                      Solo: A Star Wars Story\n",
       "2700                                          Her\n",
       "5118                                   Real Steel\n",
       "5699    Solo: A Star Wars Story (Spanish Version)\n",
       "959                                 Black Panther\n",
       "3006                                     Inkheart\n",
       "5632                                  Singularity\n",
       "1741                   Di Renjie zhi Sidatianwang\n",
       "2586                      Halo: The Fall of Reach\n",
       "Name: title, dtype: object"
      ]
     },
     "execution_count": 39,
     "metadata": {},
     "output_type": "execute_result"
    }
   ],
   "source": [
    "get_recommendations_new('Avengers: Infinity War', cosine_sim2)"
   ]
  },
  {
   "cell_type": "code",
   "execution_count": 40,
   "id": "06858abf-35e9-4adc-9ed1-5190d5a43e0e",
   "metadata": {},
   "outputs": [
    {
     "data": {
      "text/plain": [
       "7769    Zindagi Na Milegi Dobara\n",
       "362                     AK vs AK\n",
       "6878             The Sky Is Pink\n",
       "1757              Dil Chahta Hai\n",
       "3912                        Mann\n",
       "4872                          PK\n",
       "2571                      Haapus\n",
       "886               Bhangra Paa Le\n",
       "5954            Taare Zameen Par\n",
       "1261             Chal Dhar Pakad\n",
       "Name: title, dtype: object"
      ]
     },
     "execution_count": 40,
     "metadata": {},
     "output_type": "execute_result"
    }
   ],
   "source": [
    "get_recommendations_new('Dil Dhadakne Do', cosine_sim2)"
   ]
  },
  {
   "cell_type": "markdown",
   "id": "a601dfab-2aca-402f-9cd4-5185eef1aa5e",
   "metadata": {},
   "source": [
    "### Adaptacion de segundo Data Netflix Movies and TV shows till 2025"
   ]
  },
  {
   "cell_type": "code",
   "execution_count": 16,
   "id": "8b9f15ba-2b10-4409-9eb3-0117bda2d25d",
   "metadata": {},
   "outputs": [
    {
     "data": {
      "text/html": [
       "<div>\n",
       "<style scoped>\n",
       "    .dataframe tbody tr th:only-of-type {\n",
       "        vertical-align: middle;\n",
       "    }\n",
       "\n",
       "    .dataframe tbody tr th {\n",
       "        vertical-align: top;\n",
       "    }\n",
       "\n",
       "    .dataframe thead th {\n",
       "        text-align: right;\n",
       "    }\n",
       "</style>\n",
       "<table border=\"1\" class=\"dataframe\">\n",
       "  <thead>\n",
       "    <tr style=\"text-align: right;\">\n",
       "      <th></th>\n",
       "      <th>show_id</th>\n",
       "      <th>type</th>\n",
       "      <th>title</th>\n",
       "      <th>director</th>\n",
       "      <th>cast</th>\n",
       "      <th>country</th>\n",
       "      <th>date_added</th>\n",
       "      <th>release_year</th>\n",
       "      <th>rating</th>\n",
       "      <th>duration</th>\n",
       "      <th>genres</th>\n",
       "      <th>language</th>\n",
       "      <th>description</th>\n",
       "      <th>popularity</th>\n",
       "      <th>vote_count</th>\n",
       "      <th>vote_average</th>\n",
       "      <th>budget</th>\n",
       "      <th>revenue</th>\n",
       "    </tr>\n",
       "  </thead>\n",
       "  <tbody>\n",
       "    <tr>\n",
       "      <th>0</th>\n",
       "      <td>10192</td>\n",
       "      <td>Movie</td>\n",
       "      <td>Shrek Forever After</td>\n",
       "      <td>Mike Mitchell</td>\n",
       "      <td>Mike Myers, Eddie Murphy, Cameron Diaz, Antoni...</td>\n",
       "      <td>United States of America</td>\n",
       "      <td>2010-05-16</td>\n",
       "      <td>2010</td>\n",
       "      <td>6.380</td>\n",
       "      <td>NaN</td>\n",
       "      <td>Comedy, Adventure, Fantasy, Animation, Family</td>\n",
       "      <td>en</td>\n",
       "      <td>A bored and domesticated Shrek pacts with deal...</td>\n",
       "      <td>203.893</td>\n",
       "      <td>7449</td>\n",
       "      <td>6.380</td>\n",
       "      <td>165000000.0</td>\n",
       "      <td>752600867.0</td>\n",
       "    </tr>\n",
       "    <tr>\n",
       "      <th>1</th>\n",
       "      <td>27205</td>\n",
       "      <td>Movie</td>\n",
       "      <td>Inception</td>\n",
       "      <td>Christopher Nolan</td>\n",
       "      <td>Leonardo DiCaprio, Joseph Gordon-Levitt, Ken W...</td>\n",
       "      <td>United Kingdom, United States of America</td>\n",
       "      <td>2010-07-15</td>\n",
       "      <td>2010</td>\n",
       "      <td>8.369</td>\n",
       "      <td>NaN</td>\n",
       "      <td>Action, Science Fiction, Adventure</td>\n",
       "      <td>en</td>\n",
       "      <td>Cobb, a skilled thief who commits corporate es...</td>\n",
       "      <td>156.242</td>\n",
       "      <td>37119</td>\n",
       "      <td>8.369</td>\n",
       "      <td>160000000.0</td>\n",
       "      <td>839030630.0</td>\n",
       "    </tr>\n",
       "    <tr>\n",
       "      <th>2</th>\n",
       "      <td>12444</td>\n",
       "      <td>Movie</td>\n",
       "      <td>Harry Potter and the Deathly Hallows: Part 1</td>\n",
       "      <td>David Yates</td>\n",
       "      <td>Daniel Radcliffe, Emma Watson, Rupert Grint, T...</td>\n",
       "      <td>United Kingdom, United States of America</td>\n",
       "      <td>2010-11-17</td>\n",
       "      <td>2010</td>\n",
       "      <td>7.744</td>\n",
       "      <td>NaN</td>\n",
       "      <td>Adventure, Fantasy</td>\n",
       "      <td>en</td>\n",
       "      <td>Harry, Ron and Hermione walk away from their l...</td>\n",
       "      <td>121.191</td>\n",
       "      <td>19327</td>\n",
       "      <td>7.744</td>\n",
       "      <td>250000000.0</td>\n",
       "      <td>954305868.0</td>\n",
       "    </tr>\n",
       "    <tr>\n",
       "      <th>3</th>\n",
       "      <td>38757</td>\n",
       "      <td>Movie</td>\n",
       "      <td>Tangled</td>\n",
       "      <td>Byron Howard, Nathan Greno</td>\n",
       "      <td>Mandy Moore, Zachary Levi, Donna Murphy, Ron P...</td>\n",
       "      <td>United States of America</td>\n",
       "      <td>2010-11-24</td>\n",
       "      <td>2010</td>\n",
       "      <td>7.600</td>\n",
       "      <td>NaN</td>\n",
       "      <td>Animation, Family, Adventure</td>\n",
       "      <td>en</td>\n",
       "      <td>Feisty teenager Rapunzel, who has long and mag...</td>\n",
       "      <td>111.762</td>\n",
       "      <td>11638</td>\n",
       "      <td>7.600</td>\n",
       "      <td>260000000.0</td>\n",
       "      <td>592461732.0</td>\n",
       "    </tr>\n",
       "    <tr>\n",
       "      <th>4</th>\n",
       "      <td>10191</td>\n",
       "      <td>Movie</td>\n",
       "      <td>How to Train Your Dragon</td>\n",
       "      <td>Chris Sanders, Dean DeBlois</td>\n",
       "      <td>Jay Baruchel, Gerard Butler, Craig Ferguson, A...</td>\n",
       "      <td>United States of America</td>\n",
       "      <td>2010-03-18</td>\n",
       "      <td>2010</td>\n",
       "      <td>7.800</td>\n",
       "      <td>NaN</td>\n",
       "      <td>Fantasy, Adventure, Animation, Family</td>\n",
       "      <td>en</td>\n",
       "      <td>As the son of a Viking leader on the cusp of m...</td>\n",
       "      <td>110.044</td>\n",
       "      <td>13259</td>\n",
       "      <td>7.800</td>\n",
       "      <td>165000000.0</td>\n",
       "      <td>494879471.0</td>\n",
       "    </tr>\n",
       "  </tbody>\n",
       "</table>\n",
       "</div>"
      ],
      "text/plain": [
       "   show_id   type                                         title  \\\n",
       "0    10192  Movie                           Shrek Forever After   \n",
       "1    27205  Movie                                     Inception   \n",
       "2    12444  Movie  Harry Potter and the Deathly Hallows: Part 1   \n",
       "3    38757  Movie                                       Tangled   \n",
       "4    10191  Movie                      How to Train Your Dragon   \n",
       "\n",
       "                      director  \\\n",
       "0                Mike Mitchell   \n",
       "1            Christopher Nolan   \n",
       "2                  David Yates   \n",
       "3   Byron Howard, Nathan Greno   \n",
       "4  Chris Sanders, Dean DeBlois   \n",
       "\n",
       "                                                cast  \\\n",
       "0  Mike Myers, Eddie Murphy, Cameron Diaz, Antoni...   \n",
       "1  Leonardo DiCaprio, Joseph Gordon-Levitt, Ken W...   \n",
       "2  Daniel Radcliffe, Emma Watson, Rupert Grint, T...   \n",
       "3  Mandy Moore, Zachary Levi, Donna Murphy, Ron P...   \n",
       "4  Jay Baruchel, Gerard Butler, Craig Ferguson, A...   \n",
       "\n",
       "                                    country  date_added  release_year  rating  \\\n",
       "0                  United States of America  2010-05-16          2010   6.380   \n",
       "1  United Kingdom, United States of America  2010-07-15          2010   8.369   \n",
       "2  United Kingdom, United States of America  2010-11-17          2010   7.744   \n",
       "3                  United States of America  2010-11-24          2010   7.600   \n",
       "4                  United States of America  2010-03-18          2010   7.800   \n",
       "\n",
       "  duration                                         genres language  \\\n",
       "0      NaN  Comedy, Adventure, Fantasy, Animation, Family       en   \n",
       "1      NaN             Action, Science Fiction, Adventure       en   \n",
       "2      NaN                             Adventure, Fantasy       en   \n",
       "3      NaN                   Animation, Family, Adventure       en   \n",
       "4      NaN          Fantasy, Adventure, Animation, Family       en   \n",
       "\n",
       "                                         description  popularity  vote_count  \\\n",
       "0  A bored and domesticated Shrek pacts with deal...     203.893        7449   \n",
       "1  Cobb, a skilled thief who commits corporate es...     156.242       37119   \n",
       "2  Harry, Ron and Hermione walk away from their l...     121.191       19327   \n",
       "3  Feisty teenager Rapunzel, who has long and mag...     111.762       11638   \n",
       "4  As the son of a Viking leader on the cusp of m...     110.044       13259   \n",
       "\n",
       "   vote_average       budget      revenue  \n",
       "0         6.380  165000000.0  752600867.0  \n",
       "1         8.369  160000000.0  839030630.0  \n",
       "2         7.744  250000000.0  954305868.0  \n",
       "3         7.600  260000000.0  592461732.0  \n",
       "4         7.800  165000000.0  494879471.0  "
      ]
     },
     "execution_count": 16,
     "metadata": {},
     "output_type": "execute_result"
    }
   ],
   "source": [
    "# Cargar ambas bases de datos\n",
    "netflix_movies = pd.read_csv(\"netflix_movies_detailed_up_to_2025.csv\")\n",
    "netflix_tv_shows = pd.read_csv(\"netflix_tv_shows_detailed_up_to_2025.csv\")\n",
    "\n",
    "# Concatenarlas en un solo DataFrame\n",
    "netflix_dataset2 = pd.concat([netflix_movies, netflix_tv_shows], ignore_index=True)\n",
    "\n",
    "# Mostrar las primeras filas\n",
    "netflix_dataset2.head()"
   ]
  },
  {
   "cell_type": "code",
   "execution_count": 47,
   "id": "200794dc-1e9c-4acb-bd85-fe48c6c28de6",
   "metadata": {},
   "outputs": [
    {
     "name": "stdout",
     "output_type": "stream",
     "text": [
      "<class 'pandas.core.frame.DataFrame'>\n",
      "RangeIndex: 32000 entries, 0 to 31999\n",
      "Data columns (total 18 columns):\n",
      " #   Column        Non-Null Count  Dtype  \n",
      "---  ------        --------------  -----  \n",
      " 0   show_id       32000 non-null  int64  \n",
      " 1   type          32000 non-null  object \n",
      " 2   title         32000 non-null  object \n",
      " 3   director      20903 non-null  object \n",
      " 4   cast          30639 non-null  object \n",
      " 5   country       29737 non-null  object \n",
      " 6   date_added    32000 non-null  object \n",
      " 7   release_year  32000 non-null  int64  \n",
      " 8   rating        32000 non-null  float64\n",
      " 9   duration      16000 non-null  object \n",
      " 10  genres        30919 non-null  object \n",
      " 11  language      32000 non-null  object \n",
      " 12  description   28662 non-null  object \n",
      " 13  popularity    32000 non-null  float64\n",
      " 14  vote_count    32000 non-null  int64  \n",
      " 15  vote_average  32000 non-null  float64\n",
      " 16  budget        16000 non-null  float64\n",
      " 17  revenue       16000 non-null  float64\n",
      "dtypes: float64(5), int64(3), object(10)\n",
      "memory usage: 4.4+ MB\n"
     ]
    }
   ],
   "source": [
    "netflix_dataset2.info()"
   ]
  },
  {
   "cell_type": "code",
   "execution_count": 188,
   "id": "4f732259-5c5a-426f-aa98-3ddb983854b9",
   "metadata": {},
   "outputs": [
    {
     "name": "stdout",
     "output_type": "stream",
     "text": [
      "              unique count\n",
      "show_id              31594\n",
      "type                     2\n",
      "title                30639\n",
      "director             13011\n",
      "cast                 30230\n",
      "country               1745\n",
      "date_added            5504\n",
      "release_year            16\n",
      "rating                2728\n",
      "duration                 1\n",
      "genres                3895\n",
      "language                83\n",
      "description          28636\n",
      "popularity           24159\n",
      "vote_count            2902\n",
      "vote_average          2728\n",
      "budget                 958\n",
      "revenue               5327\n"
     ]
    }
   ],
   "source": [
    "#Identificar los valores únicos\n",
    "dict = {}\n",
    "for i in list(netflix_dataset2.columns):\n",
    "    dict[i] = netflix_dataset2[i].value_counts().shape[0]\n",
    "    \n",
    "print(pd.DataFrame(dict,index = [\"unique count\"]).transpose())"
   ]
  },
  {
   "cell_type": "code",
   "execution_count": 189,
   "id": "a0bdf3c0-9c05-44c8-adcb-ed4d847b3a76",
   "metadata": {},
   "outputs": [
    {
     "name": "stdout",
     "output_type": "stream",
     "text": [
      "Table of missing values: \n",
      "show_id             0\n",
      "type                0\n",
      "title               0\n",
      "director        11097\n",
      "cast             1361\n",
      "country          2263\n",
      "date_added          0\n",
      "release_year        0\n",
      "rating              0\n",
      "duration        16000\n",
      "genres           1081\n",
      "language            0\n",
      "description      3338\n",
      "popularity          0\n",
      "vote_count          0\n",
      "vote_average        0\n",
      "budget          16000\n",
      "revenue         16000\n",
      "dtype: int64\n"
     ]
    }
   ],
   "source": [
    "# Valores faltantes\n",
    "print('Table of missing values: ')\n",
    "print(netflix_dataset2.isnull().sum())"
   ]
  },
  {
   "cell_type": "markdown",
   "id": "5b39a8bc-ccbc-44da-ada5-709968d5b455",
   "metadata": {},
   "source": [
    "### Segundo Análisis Exploratorio de Datos\n",
    "##### Descripción: Análisis de la distribución entre películas y series de TV en Netflix."
   ]
  },
  {
   "cell_type": "code",
   "execution_count": 18,
   "id": "604e44ef-7503-4b5d-9f62-b6b04242c95b",
   "metadata": {},
   "outputs": [
    {
     "data": {
      "image/png": "[encoded data removed]",
      "text/plain": [
       "<Figure size 1000x700 with 1 Axes>"
      ]
     },
     "metadata": {},
     "output_type": "display_data"
    }
   ],
   "source": [
    "# Filtramos el dataset para separar las series y las películas\n",
    "netflix_shows = netflix_dataset2[netflix_dataset2['type'] == 'TV Show']\n",
    "netflix_movies = netflix_dataset2[netflix_dataset2['type'] == 'Movie']\n",
    "\n",
    "# Creamos un gráfico para comparar cuántas películas y series hay en total\n",
    "plt.figure(figsize=(10, 7))\n",
    "sns.set(style=\"whitegrid\")\n",
    "ax = sns.countplot(x=\"type\", data=netflix_dataset2, palette=\"pastel\")  # cambiamos la paleta a 'pastel'\n",
    "ax.set_title(\"TV Shows VS Movies\")\n",
    "plt.show()\n"
   ]
  },
  {
   "cell_type": "markdown",
   "id": "05ffb9f9-9210-4888-b06e-73d204206ebe",
   "metadata": {},
   "source": [
    "### Análisis Temporal: Mejor Mes para Lanzar Contenido\n",
    "Descripción: Análisis de cuándo se agrega más contenido a Netflix para identificar oportunidades de lanzamiento."
   ]
  },
  {
   "cell_type": "code",
   "execution_count": 54,
   "id": "20737d8b-78e7-459b-b5ee-9b56a1514631",
   "metadata": {},
   "outputs": [
    {
     "data": {
      "image/png": "[encoded data removed]",
      "text/plain": [
       "<Figure size 2000x1400 with 2 Axes>"
      ]
     },
     "metadata": {},
     "output_type": "display_data"
    }
   ],
   "source": [
    "# Análisis temporal del contenido agregado por mes y año\n",
    "netflix_date = netflix_dataset2[['date_added']].dropna()\n",
    "netflix_date['date_added'] = pd.to_datetime(netflix_date['date_added'])\n",
    "\n",
    "# Extraemos mes y año\n",
    "netflix_date['year'] = netflix_date['date_added'].dt.year.astype(str)\n",
    "netflix_date['month'] = netflix_date['date_added'].dt.month_name()\n",
    "\n",
    "# Orden de meses para el heatmap (de diciembre a enero)\n",
    "month_order = ['December', 'November', 'October', 'September', 'August', 'July',\n",
    "               'June', 'May', 'April', 'March', 'February', 'January']\n",
    "\n",
    "# Agrupar y pivotear\n",
    "df = netflix_date.groupby('year')['month'].value_counts().unstack().fillna(0)\n",
    "\n",
    "# Aseguramos que el orden de las columnas siga el orden de los meses\n",
    "df = df.reindex(columns=month_order).T\n",
    "\n",
    "# Graficar heatmap\n",
    "plt.figure(figsize=(10, 7), dpi=200)\n",
    "plt.pcolor(df, cmap='afmhot_r', edgecolors='white', linewidths=2)\n",
    "\n",
    "plt.xticks(np.arange(0.5, len(df.columns), 1), df.columns, fontsize=7, fontfamily='serif')\n",
    "plt.yticks(np.arange(0.5, len(df.index), 1), df.index, fontsize=7, fontfamily='serif')\n",
    "\n",
    "plt.title('Netflix Contents Update - HeatMap for Analysis',\n",
    "          fontsize=12, fontfamily='calibri', fontweight='bold', position=(0.20, 1.02))\n",
    "\n",
    "cbar = plt.colorbar()\n",
    "cbar.ax.tick_params(labelsize=8)\n",
    "cbar.ax.minorticks_on()\n",
    "\n",
    "plt.tight_layout()\n",
    "plt.show()"
   ]
  },
  {
   "cell_type": "markdown",
   "id": "1e7eef6e-85b5-4934-a34f-fd63057ec9e2",
   "metadata": {},
   "source": [
    "## Analisis de Ratings de peliculas"
   ]
  },
  {
   "cell_type": "code",
   "execution_count": 159,
   "id": "0caf98c0-6638-4127-a45f-7a3098b08b80",
   "metadata": {},
   "outputs": [
    {
     "data": {
      "image/png": "[encoded data removed]",
      "text/plain": [
       "<Figure size 1200x1000 with 1 Axes>"
      ]
     },
     "metadata": {},
     "output_type": "display_data"
    }
   ],
   "source": [
    "#Movie ratings analysis\n",
    "plt.figure(figsize=(12,10))\n",
    "sns.set(style=\"darkgrid\")\n",
    "ax = sns.countplot(x=\"rating\", data=netflix_dataset2, palette=\"Set1\", order=netflix_dataset2['rating'].value_counts().index[0:15])"
   ]
  },
  {
   "cell_type": "markdown",
   "id": "884d037e-28e3-472f-87ed-1aac0ca61b28",
   "metadata": {},
   "source": [
    "### Análisis de las calificaciones de IMDB para obtener las películas mejor valoradas en Netflix"
   ]
  },
  {
   "cell_type": "code",
   "execution_count": 20,
   "id": "35d2479e-27bd-4daa-b525-2775bd9a835e",
   "metadata": {},
   "outputs": [
    {
     "data": {
      "text/plain": [
       "(85852, 4)"
      ]
     },
     "execution_count": 20,
     "metadata": {},
     "output_type": "execute_result"
    }
   ],
   "source": [
    "imdb_ratings=pd.read_csv('IMDb ratings.csv', usecols=['weighted_average_vote'])\n",
    "imdb_titles=pd.read_csv('IMDb movies.csv', usecols=['title','year','genre'])\n",
    "ratings = pd.DataFrame({'Title':imdb_titles.title,\n",
    "                    'Release Year':imdb_titles.year,\n",
    "                    'Rating': imdb_ratings.weighted_average_vote,\n",
    "                    'Genre':imdb_titles.genre})\n",
    "ratings.drop_duplicates(subset=['Title','Release Year','Rating'], inplace=True)\n",
    "ratings.shape"
   ]
  },
  {
   "cell_type": "code",
   "execution_count": 69,
   "id": "336a7840-3269-4dd5-8566-387f6b299574",
   "metadata": {},
   "outputs": [
    {
     "name": "stdout",
     "output_type": "stream",
     "text": [
      "Netflix Titles and Ratings:\n",
      "| Title                                        |   Rating |\n",
      "|:---------------------------------------------|---------:|\n",
      "| Shrek Forever After                          |    6.38  |\n",
      "| Inception                                    |    8.369 |\n",
      "| Harry Potter and the Deathly Hallows: Part 1 |    7.744 |\n",
      "| Tangled                                      |    7.6   |\n",
      "| How to Train Your Dragon                     |    7.8   |\n"
     ]
    }
   ],
   "source": [
    "# Crear y procesar el DataFrame\n",
    "netflix_ratings = netflix_dataset2[['title', 'rating']].copy()\n",
    "netflix_ratings.rename(columns={'title': 'Title', 'rating': 'Rating'}, inplace=True)\n",
    "netflix_ratings.drop_duplicates(subset='Title', inplace=True)\n",
    "\n",
    "# Mostrar con formato markdown\n",
    "print(\"Netflix Titles and Ratings:\")\n",
    "print(netflix_ratings.head().to_markdown(index=False))"
   ]
  },
  {
   "cell_type": "code",
   "execution_count": 23,
   "id": "a98fc2c3-f567-4f2c-8db0-e44a84712e5d",
   "metadata": {},
   "outputs": [],
   "source": [
    "ratings.dropna()\n",
    "joint_data=ratings.merge(netflix_dataset2,left_on='Title',right_on='title',how='inner')\n",
    "joint_data=joint_data.sort_values(by='Rating', ascending=False)"
   ]
  },
  {
   "cell_type": "code",
   "execution_count": 22,
   "id": "d04b23f2-31a6-4c62-b871-3da0b9edbc23",
   "metadata": {},
   "outputs": [],
   "source": [
    "top_titles = netflix_dataset2['title'].value_counts().head(10).index\n",
    "top_data = netflix_dataset2[netflix_dataset2['title'].isin(top_titles)].dropna(subset=['country'])"
   ]
  },
  {
   "cell_type": "code",
   "execution_count": 24,
   "id": "f11e87ab-247c-4938-b403-bf216fec9e4c",
   "metadata": {},
   "outputs": [
    {
     "data": {
      "application/vnd.plotly.v1+json": {
       "config": {
        "plotlyServerURL": "https://plot.ly"
       },
       "data": [
        {
         "branchvalues": "total",
         "customdata": [
          [
           "MasterChef"
          ],
          [
           "The Island"
          ],
          [
           "First Love"
          ],
          [
           "Love Is in the Air"
          ],
          [
           "The Voice Kids"
          ],
          [
           "Love Is in the Air"
          ],
          [
           "The Voice Kids"
          ],
          [
           "Brothers"
          ],
          [
           "The Island"
          ],
          [
           "MasterChef"
          ],
          [
           "The Outsider"
          ],
          [
           "MasterChef"
          ],
          [
           "Brothers"
          ],
          [
           "First Love"
          ],
          [
           "Eden"
          ],
          [
           "Eden"
          ],
          [
           "Eden"
          ],
          [
           "Brothers"
          ],
          [
           "Love Island"
          ],
          [
           "Eden"
          ],
          [
           "The Voice Kids"
          ],
          [
           "Love Island"
          ],
          [
           "MasterChef"
          ],
          [
           "The Outsider"
          ],
          [
           "Love Is in the Air"
          ],
          [
           "Brothers"
          ],
          [
           "Love Island"
          ],
          [
           "The Island"
          ],
          [
           "Love Is in the Air"
          ],
          [
           "Monster"
          ],
          [
           "Monster"
          ],
          [
           "Love Is in the Air"
          ],
          [
           "First Love"
          ],
          [
           "Monster"
          ],
          [
           "Brothers"
          ],
          [
           "Love Island"
          ],
          [
           "Eden"
          ],
          [
           "The Island"
          ],
          [
           "The Voice Kids"
          ],
          [
           "Love Is in the Air"
          ],
          [
           "Monster"
          ],
          [
           "Brothers"
          ],
          [
           "Love Is in the Air"
          ],
          [
           "MasterChef"
          ],
          [
           "First Love"
          ],
          [
           "Eden"
          ],
          [
           "First Love"
          ],
          [
           "Eden"
          ],
          [
           "The Island"
          ],
          [
           "Love Island"
          ],
          [
           "First Love"
          ],
          [
           "Monster"
          ],
          [
           "The Outsider"
          ],
          [
           "MasterChef"
          ],
          [
           "The Voice Kids"
          ],
          [
           "The Voice Kids"
          ],
          [
           "Eden"
          ],
          [
           "The Island"
          ],
          [
           "Love Island"
          ],
          [
           "MasterChef"
          ],
          [
           "Monster"
          ],
          [
           "The Island"
          ],
          [
           "The Outsider"
          ],
          [
           "The Voice Kids"
          ]
         ],
         "domain": {
          "x": [
           0,
           1
          ],
          "y": [
           0,
           1
          ]
         },
         "hovertemplate": "<b>%{label}</b><br>%{value}",
         "ids": [
          "MasterChef/Germany",
          "The Island/Russia",
          "First Love/United States of America",
          "Love Is in the Air/China",
          "The Voice Kids/Germany, Italy",
          "Love Is in the Air/Australia",
          "The Voice Kids/Brazil",
          "Brothers/Bulgaria",
          "The Island/Greece",
          "MasterChef/United States of America, United Kingdom",
          "The Outsider/United States of America",
          "MasterChef/Denmark",
          "Brothers/France",
          "First Love",
          "Eden/Taiwan, United States of America",
          "Eden/Finland",
          "Eden",
          "Brothers",
          "Love Island/Czech Republic, Slovakia",
          "Eden/Australia",
          "The Voice Kids/United Kingdom",
          "Love Island/Belgium, Netherlands",
          "MasterChef/Israel",
          "The Outsider/France",
          "Love Is in the Air/Turkey",
          "Brothers/India, United States of America",
          "Love Island/United States of America",
          "The Island/United Kingdom",
          "Love Is in the Air/Turkey, United States of America",
          "Monster/South Korea",
          "Monster/Indonesia",
          "Love Is in the Air/Italy",
          "First Love/Japan, United Kingdom",
          "Monster/South Korea, Norway",
          "Brothers/Philippines",
          "Love Island/Spain, United Kingdom, United States of America",
          "Eden/Spain",
          "The Island/Denmark, Germany",
          "The Voice Kids/France, Brazil",
          "Love Is in the Air/France",
          "Monster/Canada, United States of America",
          "Brothers/United States of America",
          "Love Is in the Air",
          "MasterChef/Spain",
          "First Love/Japan",
          "Eden/France",
          "First Love/China, South Korea",
          "Eden/United States of America",
          "The Island/China",
          "Love Island/China",
          "First Love/China",
          "Monster/Japan",
          "The Outsider/Thailand",
          "MasterChef/Poland",
          "The Voice Kids/Philippines",
          "The Voice Kids/Netherlands",
          "Eden/Malaysia, Spain, United States of America",
          "The Island/St. Kitts and Nevis",
          "Love Island",
          "MasterChef",
          "Monster",
          "The Island",
          "The Outsider",
          "The Voice Kids"
         ],
         "insidetextorientation": "auto",
         "labels": [
          "Germany",
          "Russia",
          "United States of America",
          "China",
          "Germany, Italy",
          "Australia",
          "Brazil",
          "Bulgaria",
          "Greece",
          "United States of America, United Kingdom",
          "United States of America",
          "Denmark",
          "France",
          "First Love",
          "Taiwan, United States of America",
          "Finland",
          "Eden",
          "Brothers",
          "Czech Republic, Slovakia",
          "Australia",
          "United Kingdom",
          "Belgium, Netherlands",
          "Israel",
          "France",
          "Turkey",
          "India, United States of America",
          "United States of America",
          "United Kingdom",
          "Turkey, United States of America",
          "South Korea",
          "Indonesia",
          "Italy",
          "Japan, United Kingdom",
          "South Korea, Norway",
          "Philippines",
          "Spain, United Kingdom, United States of America",
          "Spain",
          "Denmark, Germany",
          "France, Brazil",
          "France",
          "Canada, United States of America",
          "United States of America",
          "Love Is in the Air",
          "Spain",
          "Japan",
          "France",
          "China, South Korea",
          "United States of America",
          "China",
          "China",
          "China",
          "Japan",
          "Thailand",
          "Poland",
          "Philippines",
          "Netherlands",
          "Malaysia, Spain, United States of America",
          "St. Kitts and Nevis",
          "Love Island",
          "MasterChef",
          "Monster",
          "The Island",
          "The Outsider",
          "The Voice Kids"
         ],
         "marker": {
          "colors": [
           "rgb(102, 197, 204)",
           "rgb(246, 207, 113)",
           "rgb(248, 156, 116)",
           "rgb(220, 176, 242)",
           "rgb(135, 197, 95)",
           "rgb(220, 176, 242)",
           "rgb(135, 197, 95)",
           "rgb(158, 185, 243)",
           "rgb(246, 207, 113)",
           "rgb(102, 197, 204)",
           "rgb(254, 136, 177)",
           "rgb(102, 197, 204)",
           "rgb(158, 185, 243)",
           "rgb(248, 156, 116)",
           "rgb(201, 219, 116)",
           "rgb(201, 219, 116)",
           "rgb(201, 219, 116)",
           "rgb(158, 185, 243)",
           "rgb(139, 224, 164)",
           "rgb(201, 219, 116)",
           "rgb(135, 197, 95)",
           "rgb(139, 224, 164)",
           "rgb(102, 197, 204)",
           "rgb(254, 136, 177)",
           "rgb(220, 176, 242)",
           "rgb(158, 185, 243)",
           "rgb(139, 224, 164)",
           "rgb(246, 207, 113)",
           "rgb(220, 176, 242)",
           "rgb(180, 151, 231)",
           "rgb(180, 151, 231)",
           "rgb(220, 176, 242)",
           "rgb(248, 156, 116)",
           "rgb(180, 151, 231)",
           "rgb(158, 185, 243)",
           "rgb(139, 224, 164)",
           "rgb(201, 219, 116)",
           "rgb(246, 207, 113)",
           "rgb(135, 197, 95)",
           "rgb(220, 176, 242)",
           "rgb(180, 151, 231)",
           "rgb(158, 185, 243)",
           "rgb(220, 176, 242)",
           "rgb(102, 197, 204)",
           "rgb(248, 156, 116)",
           "rgb(201, 219, 116)",
           "rgb(248, 156, 116)",
           "rgb(201, 219, 116)",
           "rgb(246, 207, 113)",
           "rgb(139, 224, 164)",
           "rgb(248, 156, 116)",
           "rgb(180, 151, 231)",
           "rgb(254, 136, 177)",
           "rgb(102, 197, 204)",
           "rgb(135, 197, 95)",
           "rgb(135, 197, 95)",
           "rgb(201, 219, 116)",
           "rgb(246, 207, 113)",
           "rgb(139, 224, 164)",
           "rgb(102, 197, 204)",
           "rgb(180, 151, 231)",
           "rgb(246, 207, 113)",
           "rgb(254, 136, 177)",
           "rgb(135, 197, 95)"
          ],
          "line": {
           "width": 0.5
          }
         },
         "maxdepth": 2,
         "name": "",
         "parents": [
          "MasterChef",
          "The Island",
          "First Love",
          "Love Is in the Air",
          "The Voice Kids",
          "Love Is in the Air",
          "The Voice Kids",
          "Brothers",
          "The Island",
          "MasterChef",
          "The Outsider",
          "MasterChef",
          "Brothers",
          "",
          "Eden",
          "Eden",
          "",
          "",
          "Love Island",
          "Eden",
          "The Voice Kids",
          "Love Island",
          "MasterChef",
          "The Outsider",
          "Love Is in the Air",
          "Brothers",
          "Love Island",
          "The Island",
          "Love Is in the Air",
          "Monster",
          "Monster",
          "Love Is in the Air",
          "First Love",
          "Monster",
          "Brothers",
          "Love Island",
          "Eden",
          "The Island",
          "The Voice Kids",
          "Love Is in the Air",
          "Monster",
          "Brothers",
          "",
          "MasterChef",
          "First Love",
          "Eden",
          "First Love",
          "Eden",
          "The Island",
          "Love Island",
          "First Love",
          "Monster",
          "The Outsider",
          "MasterChef",
          "The Voice Kids",
          "The Voice Kids",
          "Eden",
          "The Island",
          "",
          "",
          "",
          "",
          "",
          ""
         ],
         "textfont": {
          "size": 10
         },
         "textinfo": "label",
         "type": "sunburst",
         "values": [
          1,
          1,
          1,
          1,
          1,
          1,
          1,
          1,
          1,
          1,
          3,
          1,
          1,
          6,
          1,
          1,
          8,
          5,
          1,
          1,
          1,
          1,
          1,
          1,
          1,
          1,
          1,
          1,
          1,
          1,
          1,
          1,
          1,
          1,
          1,
          1,
          1,
          1,
          1,
          1,
          1,
          1,
          6,
          1,
          2,
          1,
          1,
          2,
          1,
          1,
          1,
          1,
          1,
          1,
          1,
          1,
          1,
          1,
          5,
          6,
          5,
          6,
          5,
          6
         ]
        }
       ],
       "layout": {
        "height": 500,
        "legend": {
         "bgcolor": "rgba(240,240,240,0.5)",
         "font": {
          "size": 10
         },
         "orientation": "v",
         "title": {
          "text": "<b>Títulos</b>"
         },
         "tracegroupgap": 0,
         "x": 1.05,
         "xanchor": "left",
         "y": 0.5,
         "yanchor": "middle"
        },
        "margin": {
         "b": 10,
         "l": 10,
         "r": 10,
         "t": 50
        },
        "sunburstcolorway": [
         "rgb(102, 197, 204)",
         "rgb(246, 207, 113)",
         "rgb(248, 156, 116)",
         "rgb(220, 176, 242)",
         "rgb(135, 197, 95)",
         "rgb(158, 185, 243)",
         "rgb(254, 136, 177)",
         "rgb(201, 219, 116)",
         "rgb(139, 224, 164)",
         "rgb(180, 151, 231)",
         "rgb(179, 179, 179)"
        ],
        "template": {
         "data": {
          "bar": [
           {
            "error_x": {
             "color": "#2a3f5f"
            },
            "error_y": {
             "color": "#2a3f5f"
            },
            "marker": {
             "line": {
              "color": "#E5ECF6",
              "width": 0.5
             },
             "pattern": {
              "fillmode": "overlay",
              "size": 10,
              "solidity": 0.2
             }
            },
            "type": "bar"
           }
          ],
          "barpolar": [
           {
            "marker": {
             "line": {
              "color": "#E5ECF6",
              "width": 0.5
             },
             "pattern": {
              "fillmode": "overlay",
              "size": 10,
              "solidity": 0.2
             }
            },
            "type": "barpolar"
           }
          ],
          "carpet": [
           {
            "aaxis": {
             "endlinecolor": "#2a3f5f",
             "gridcolor": "white",
             "linecolor": "white",
             "minorgridcolor": "white",
             "startlinecolor": "#2a3f5f"
            },
            "baxis": {
             "endlinecolor": "#2a3f5f",
             "gridcolor": "white",
             "linecolor": "white",
             "minorgridcolor": "white",
             "startlinecolor": "#2a3f5f"
            },
            "type": "carpet"
           }
          ],
          "choropleth": [
           {
            "colorbar": {
             "outlinewidth": 0,
             "ticks": ""
            },
            "type": "choropleth"
           }
          ],
          "contour": [
           {
            "colorbar": {
             "outlinewidth": 0,
             "ticks": ""
            },
            "colorscale": [
             [
              0,
              "#0d0887"
             ],
             [
              0.1111111111111111,
              "#46039f"
             ],
             [
              0.2222222222222222,
              "#7201a8"
             ],
             [
              0.3333333333333333,
              "#9c179e"
             ],
             [
              0.4444444444444444,
              "#bd3786"
             ],
             [
              0.5555555555555556,
              "#d8576b"
             ],
             [
              0.6666666666666666,
              "#ed7953"
             ],
             [
              0.7777777777777778,
              "#fb9f3a"
             ],
             [
              0.8888888888888888,
              "#fdca26"
             ],
             [
              1,
              "#f0f921"
             ]
            ],
            "type": "contour"
           }
          ],
          "contourcarpet": [
           {
            "colorbar": {
             "outlinewidth": 0,
             "ticks": ""
            },
            "type": "contourcarpet"
           }
          ],
          "heatmap": [
           {
            "colorbar": {
             "outlinewidth": 0,
             "ticks": ""
            },
            "colorscale": [
             [
              0,
              "#0d0887"
             ],
             [
              0.1111111111111111,
              "#46039f"
             ],
             [
              0.2222222222222222,
              "#7201a8"
             ],
             [
              0.3333333333333333,
              "#9c179e"
             ],
             [
              0.4444444444444444,
              "#bd3786"
             ],
             [
              0.5555555555555556,
              "#d8576b"
             ],
             [
              0.6666666666666666,
              "#ed7953"
             ],
             [
              0.7777777777777778,
              "#fb9f3a"
             ],
             [
              0.8888888888888888,
              "#fdca26"
             ],
             [
              1,
              "#f0f921"
             ]
            ],
            "type": "heatmap"
           }
          ],
          "heatmapgl": [
           {
            "colorbar": {
             "outlinewidth": 0,
             "ticks": ""
            },
            "colorscale": [
             [
              0,
              "#0d0887"
             ],
             [
              0.1111111111111111,
              "#46039f"
             ],
             [
              0.2222222222222222,
              "#7201a8"
             ],
             [
              0.3333333333333333,
              "#9c179e"
             ],
             [
              0.4444444444444444,
              "#bd3786"
             ],
             [
              0.5555555555555556,
              "#d8576b"
             ],
             [
              0.6666666666666666,
              "#ed7953"
             ],
             [
              0.7777777777777778,
              "#fb9f3a"
             ],
             [
              0.8888888888888888,
              "#fdca26"
             ],
             [
              1,
              "#f0f921"
             ]
            ],
            "type": "heatmapgl"
           }
          ],
          "histogram": [
           {
            "marker": {
             "pattern": {
              "fillmode": "overlay",
              "size": 10,
              "solidity": 0.2
             }
            },
            "type": "histogram"
           }
          ],
          "histogram2d": [
           {
            "colorbar": {
             "outlinewidth": 0,
             "ticks": ""
            },
            "colorscale": [
             [
              0,
              "#0d0887"
             ],
             [
              0.1111111111111111,
              "#46039f"
             ],
             [
              0.2222222222222222,
              "#7201a8"
             ],
             [
              0.3333333333333333,
              "#9c179e"
             ],
             [
              0.4444444444444444,
              "#bd3786"
             ],
             [
              0.5555555555555556,
              "#d8576b"
             ],
             [
              0.6666666666666666,
              "#ed7953"
             ],
             [
              0.7777777777777778,
              "#fb9f3a"
             ],
             [
              0.8888888888888888,
              "#fdca26"
             ],
             [
              1,
              "#f0f921"
             ]
            ],
            "type": "histogram2d"
           }
          ],
          "histogram2dcontour": [
           {
            "colorbar": {
             "outlinewidth": 0,
             "ticks": ""
            },
            "colorscale": [
             [
              0,
              "#0d0887"
             ],
             [
              0.1111111111111111,
              "#46039f"
             ],
             [
              0.2222222222222222,
              "#7201a8"
             ],
             [
              0.3333333333333333,
              "#9c179e"
             ],
             [
              0.4444444444444444,
              "#bd3786"
             ],
             [
              0.5555555555555556,
              "#d8576b"
             ],
             [
              0.6666666666666666,
              "#ed7953"
             ],
             [
              0.7777777777777778,
              "#fb9f3a"
             ],
             [
              0.8888888888888888,
              "#fdca26"
             ],
             [
              1,
              "#f0f921"
             ]
            ],
            "type": "histogram2dcontour"
           }
          ],
          "mesh3d": [
           {
            "colorbar": {
             "outlinewidth": 0,
             "ticks": ""
            },
            "type": "mesh3d"
           }
          ],
          "parcoords": [
           {
            "line": {
             "colorbar": {
              "outlinewidth": 0,
              "ticks": ""
             }
            },
            "type": "parcoords"
           }
          ],
          "pie": [
           {
            "automargin": true,
            "type": "pie"
           }
          ],
          "scatter": [
           {
            "fillpattern": {
             "fillmode": "overlay",
             "size": 10,
             "solidity": 0.2
            },
            "type": "scatter"
           }
          ],
          "scatter3d": [
           {
            "line": {
             "colorbar": {
              "outlinewidth": 0,
              "ticks": ""
             }
            },
            "marker": {
             "colorbar": {
              "outlinewidth": 0,
              "ticks": ""
             }
            },
            "type": "scatter3d"
           }
          ],
          "scattercarpet": [
           {
            "marker": {
             "colorbar": {
              "outlinewidth": 0,
              "ticks": ""
             }
            },
            "type": "scattercarpet"
           }
          ],
          "scattergeo": [
           {
            "marker": {
             "colorbar": {
              "outlinewidth": 0,
              "ticks": ""
             }
            },
            "type": "scattergeo"
           }
          ],
          "scattergl": [
           {
            "marker": {
             "colorbar": {
              "outlinewidth": 0,
              "ticks": ""
             }
            },
            "type": "scattergl"
           }
          ],
          "scattermapbox": [
           {
            "marker": {
             "colorbar": {
              "outlinewidth": 0,
              "ticks": ""
             }
            },
            "type": "scattermapbox"
           }
          ],
          "scatterpolar": [
           {
            "marker": {
             "colorbar": {
              "outlinewidth": 0,
              "ticks": ""
             }
            },
            "type": "scatterpolar"
           }
          ],
          "scatterpolargl": [
           {
            "marker": {
             "colorbar": {
              "outlinewidth": 0,
              "ticks": ""
             }
            },
            "type": "scatterpolargl"
           }
          ],
          "scatterternary": [
           {
            "marker": {
             "colorbar": {
              "outlinewidth": 0,
              "ticks": ""
             }
            },
            "type": "scatterternary"
           }
          ],
          "surface": [
           {
            "colorbar": {
             "outlinewidth": 0,
             "ticks": ""
            },
            "colorscale": [
             [
              0,
              "#0d0887"
             ],
             [
              0.1111111111111111,
              "#46039f"
             ],
             [
              0.2222222222222222,
              "#7201a8"
             ],
             [
              0.3333333333333333,
              "#9c179e"
             ],
             [
              0.4444444444444444,
              "#bd3786"
             ],
             [
              0.5555555555555556,
              "#d8576b"
             ],
             [
              0.6666666666666666,
              "#ed7953"
             ],
             [
              0.7777777777777778,
              "#fb9f3a"
             ],
             [
              0.8888888888888888,
              "#fdca26"
             ],
             [
              1,
              "#f0f921"
             ]
            ],
            "type": "surface"
           }
          ],
          "table": [
           {
            "cells": {
             "fill": {
              "color": "#EBF0F8"
             },
             "line": {
              "color": "white"
             }
            },
            "header": {
             "fill": {
              "color": "#C8D4E3"
             },
             "line": {
              "color": "white"
             }
            },
            "type": "table"
           }
          ]
         },
         "layout": {
          "annotationdefaults": {
           "arrowcolor": "#2a3f5f",
           "arrowhead": 0,
           "arrowwidth": 1
          },
          "autotypenumbers": "strict",
          "coloraxis": {
           "colorbar": {
            "outlinewidth": 0,
            "ticks": ""
           }
          },
          "colorscale": {
           "diverging": [
            [
             0,
             "#8e0152"
            ],
            [
             0.1,
             "#c51b7d"
            ],
            [
             0.2,
             "#de77ae"
            ],
            [
             0.3,
             "#f1b6da"
            ],
            [
             0.4,
             "#fde0ef"
            ],
            [
             0.5,
             "#f7f7f7"
            ],
            [
             0.6,
             "#e6f5d0"
            ],
            [
             0.7,
             "#b8e186"
            ],
            [
             0.8,
             "#7fbc41"
            ],
            [
             0.9,
             "#4d9221"
            ],
            [
             1,
             "#276419"
            ]
           ],
           "sequential": [
            [
             0,
             "#0d0887"
            ],
            [
             0.1111111111111111,
             "#46039f"
            ],
            [
             0.2222222222222222,
             "#7201a8"
            ],
            [
             0.3333333333333333,
             "#9c179e"
            ],
            [
             0.4444444444444444,
             "#bd3786"
            ],
            [
             0.5555555555555556,
             "#d8576b"
            ],
            [
             0.6666666666666666,
             "#ed7953"
            ],
            [
             0.7777777777777778,
             "#fb9f3a"
            ],
            [
             0.8888888888888888,
             "#fdca26"
            ],
            [
             1,
             "#f0f921"
            ]
           ],
           "sequentialminus": [
            [
             0,
             "#0d0887"
            ],
            [
             0.1111111111111111,
             "#46039f"
            ],
            [
             0.2222222222222222,
             "#7201a8"
            ],
            [
             0.3333333333333333,
             "#9c179e"
            ],
            [
             0.4444444444444444,
             "#bd3786"
            ],
            [
             0.5555555555555556,
             "#d8576b"
            ],
            [
             0.6666666666666666,
             "#ed7953"
            ],
            [
             0.7777777777777778,
             "#fb9f3a"
            ],
            [
             0.8888888888888888,
             "#fdca26"
            ],
            [
             1,
             "#f0f921"
            ]
           ]
          },
          "colorway": [
           "#636efa",
           "#EF553B",
           "#00cc96",
           "#ab63fa",
           "#FFA15A",
           "#19d3f3",
           "#FF6692",
           "#B6E880",
           "#FF97FF",
           "#FECB52"
          ],
          "font": {
           "color": "#2a3f5f"
          },
          "geo": {
           "bgcolor": "white",
           "lakecolor": "white",
           "landcolor": "#E5ECF6",
           "showlakes": true,
           "showland": true,
           "subunitcolor": "white"
          },
          "hoverlabel": {
           "align": "left"
          },
          "hovermode": "closest",
          "mapbox": {
           "style": "light"
          },
          "paper_bgcolor": "white",
          "plot_bgcolor": "#E5ECF6",
          "polar": {
           "angularaxis": {
            "gridcolor": "white",
            "linecolor": "white",
            "ticks": ""
           },
           "bgcolor": "#E5ECF6",
           "radialaxis": {
            "gridcolor": "white",
            "linecolor": "white",
            "ticks": ""
           }
          },
          "scene": {
           "xaxis": {
            "backgroundcolor": "#E5ECF6",
            "gridcolor": "white",
            "gridwidth": 2,
            "linecolor": "white",
            "showbackground": true,
            "ticks": "",
            "zerolinecolor": "white"
           },
           "yaxis": {
            "backgroundcolor": "#E5ECF6",
            "gridcolor": "white",
            "gridwidth": 2,
            "linecolor": "white",
            "showbackground": true,
            "ticks": "",
            "zerolinecolor": "white"
           },
           "zaxis": {
            "backgroundcolor": "#E5ECF6",
            "gridcolor": "white",
            "gridwidth": 2,
            "linecolor": "white",
            "showbackground": true,
            "ticks": "",
            "zerolinecolor": "white"
           }
          },
          "shapedefaults": {
           "line": {
            "color": "#2a3f5f"
           }
          },
          "ternary": {
           "aaxis": {
            "gridcolor": "white",
            "linecolor": "white",
            "ticks": ""
           },
           "baxis": {
            "gridcolor": "white",
            "linecolor": "white",
            "ticks": ""
           },
           "bgcolor": "#E5ECF6",
           "caxis": {
            "gridcolor": "white",
            "linecolor": "white",
            "ticks": ""
           }
          },
          "title": {
           "x": 0.05
          },
          "xaxis": {
           "automargin": true,
           "gridcolor": "white",
           "linecolor": "white",
           "ticks": "",
           "title": {
            "standoff": 15
           },
           "zerolinecolor": "white",
           "zerolinewidth": 2
          },
          "yaxis": {
           "automargin": true,
           "gridcolor": "white",
           "linecolor": "white",
           "ticks": "",
           "title": {
            "standoff": 15
           },
           "zerolinecolor": "white",
           "zerolinewidth": 2
          }
         }
        },
        "title": {
         "font": {
          "size": 18
         },
         "text": "<b>Distribución por País</b>",
         "x": 0.5
        },
        "width": 600
       }
      },
      "text/html": [
       "<div>                            <div id=\"c2de6c62-6b85-4ef1-b00c-438385a92522\" class=\"plotly-graph-div\" style=\"height:500px; width:600px;\"></div>            <script type=\"text/javascript\">                require([\"plotly\"], function(Plotly) {                    window.PLOTLYENV=window.PLOTLYENV || {};                                    if (document.getElementById(\"c2de6c62-6b85-4ef1-b00c-438385a92522\")) {                    Plotly.newPlot(                        \"c2de6c62-6b85-4ef1-b00c-438385a92522\",                        [{\"branchvalues\":\"total\",\"customdata\":[[\"MasterChef\"],[\"The Island\"],[\"First Love\"],[\"Love Is in the Air\"],[\"The Voice Kids\"],[\"Love Is in the Air\"],[\"The Voice Kids\"],[\"Brothers\"],[\"The Island\"],[\"MasterChef\"],[\"The Outsider\"],[\"MasterChef\"],[\"Brothers\"],[\"First Love\"],[\"Eden\"],[\"Eden\"],[\"Eden\"],[\"Brothers\"],[\"Love Island\"],[\"Eden\"],[\"The Voice Kids\"],[\"Love Island\"],[\"MasterChef\"],[\"The Outsider\"],[\"Love Is in the Air\"],[\"Brothers\"],[\"Love Island\"],[\"The Island\"],[\"Love Is in the Air\"],[\"Monster\"],[\"Monster\"],[\"Love Is in the Air\"],[\"First Love\"],[\"Monster\"],[\"Brothers\"],[\"Love Island\"],[\"Eden\"],[\"The Island\"],[\"The Voice Kids\"],[\"Love Is in the Air\"],[\"Monster\"],[\"Brothers\"],[\"Love Is in the Air\"],[\"MasterChef\"],[\"First Love\"],[\"Eden\"],[\"First Love\"],[\"Eden\"],[\"The Island\"],[\"Love Island\"],[\"First Love\"],[\"Monster\"],[\"The Outsider\"],[\"MasterChef\"],[\"The Voice Kids\"],[\"The Voice Kids\"],[\"Eden\"],[\"The Island\"],[\"Love Island\"],[\"MasterChef\"],[\"Monster\"],[\"The Island\"],[\"The Outsider\"],[\"The Voice Kids\"]],\"domain\":{\"x\":[0.0,1.0],\"y\":[0.0,1.0]},\"hovertemplate\":\"<b>%{label}</b><br>%{value}\",\"ids\":[\"MasterChef/Germany\",\"The Island/Russia\",\"First Love/United States of America\",\"Love Is in the Air/China\",\"The Voice Kids/Germany, Italy\",\"Love Is in the Air/Australia\",\"The Voice Kids/Brazil\",\"Brothers/Bulgaria\",\"The Island/Greece\",\"MasterChef/United States of America, United Kingdom\",\"The Outsider/United States of America\",\"MasterChef/Denmark\",\"Brothers/France\",\"First Love\",\"Eden/Taiwan, United States of America\",\"Eden/Finland\",\"Eden\",\"Brothers\",\"Love Island/Czech Republic, Slovakia\",\"Eden/Australia\",\"The Voice Kids/United Kingdom\",\"Love Island/Belgium, Netherlands\",\"MasterChef/Israel\",\"The Outsider/France\",\"Love Is in the Air/Turkey\",\"Brothers/India, United States of America\",\"Love Island/United States of America\",\"The Island/United Kingdom\",\"Love Is in the Air/Turkey, United States of America\",\"Monster/South Korea\",\"Monster/Indonesia\",\"Love Is in the Air/Italy\",\"First Love/Japan, United Kingdom\",\"Monster/South Korea, Norway\",\"Brothers/Philippines\",\"Love Island/Spain, United Kingdom, United States of America\",\"Eden/Spain\",\"The Island/Denmark, Germany\",\"The Voice Kids/France, Brazil\",\"Love Is in the Air/France\",\"Monster/Canada, United States of America\",\"Brothers/United States of America\",\"Love Is in the Air\",\"MasterChef/Spain\",\"First Love/Japan\",\"Eden/France\",\"First Love/China, South Korea\",\"Eden/United States of America\",\"The Island/China\",\"Love Island/China\",\"First Love/China\",\"Monster/Japan\",\"The Outsider/Thailand\",\"MasterChef/Poland\",\"The Voice Kids/Philippines\",\"The Voice Kids/Netherlands\",\"Eden/Malaysia, Spain, United States of America\",\"The Island/St. Kitts and Nevis\",\"Love Island\",\"MasterChef\",\"Monster\",\"The Island\",\"The Outsider\",\"The Voice Kids\"],\"labels\":[\"Germany\",\"Russia\",\"United States of America\",\"China\",\"Germany, Italy\",\"Australia\",\"Brazil\",\"Bulgaria\",\"Greece\",\"United States of America, United Kingdom\",\"United States of America\",\"Denmark\",\"France\",\"First Love\",\"Taiwan, United States of America\",\"Finland\",\"Eden\",\"Brothers\",\"Czech Republic, Slovakia\",\"Australia\",\"United Kingdom\",\"Belgium, Netherlands\",\"Israel\",\"France\",\"Turkey\",\"India, United States of America\",\"United States of America\",\"United Kingdom\",\"Turkey, United States of America\",\"South Korea\",\"Indonesia\",\"Italy\",\"Japan, United Kingdom\",\"South Korea, Norway\",\"Philippines\",\"Spain, United Kingdom, United States of America\",\"Spain\",\"Denmark, Germany\",\"France, Brazil\",\"France\",\"Canada, United States of America\",\"United States of America\",\"Love Is in the Air\",\"Spain\",\"Japan\",\"France\",\"China, South Korea\",\"United States of America\",\"China\",\"China\",\"China\",\"Japan\",\"Thailand\",\"Poland\",\"Philippines\",\"Netherlands\",\"Malaysia, Spain, United States of America\",\"St. Kitts and Nevis\",\"Love Island\",\"MasterChef\",\"Monster\",\"The Island\",\"The Outsider\",\"The Voice Kids\"],\"marker\":{\"colors\":[\"rgb(102, 197, 204)\",\"rgb(246, 207, 113)\",\"rgb(248, 156, 116)\",\"rgb(220, 176, 242)\",\"rgb(135, 197, 95)\",\"rgb(220, 176, 242)\",\"rgb(135, 197, 95)\",\"rgb(158, 185, 243)\",\"rgb(246, 207, 113)\",\"rgb(102, 197, 204)\",\"rgb(254, 136, 177)\",\"rgb(102, 197, 204)\",\"rgb(158, 185, 243)\",\"rgb(248, 156, 116)\",\"rgb(201, 219, 116)\",\"rgb(201, 219, 116)\",\"rgb(201, 219, 116)\",\"rgb(158, 185, 243)\",\"rgb(139, 224, 164)\",\"rgb(201, 219, 116)\",\"rgb(135, 197, 95)\",\"rgb(139, 224, 164)\",\"rgb(102, 197, 204)\",\"rgb(254, 136, 177)\",\"rgb(220, 176, 242)\",\"rgb(158, 185, 243)\",\"rgb(139, 224, 164)\",\"rgb(246, 207, 113)\",\"rgb(220, 176, 242)\",\"rgb(180, 151, 231)\",\"rgb(180, 151, 231)\",\"rgb(220, 176, 242)\",\"rgb(248, 156, 116)\",\"rgb(180, 151, 231)\",\"rgb(158, 185, 243)\",\"rgb(139, 224, 164)\",\"rgb(201, 219, 116)\",\"rgb(246, 207, 113)\",\"rgb(135, 197, 95)\",\"rgb(220, 176, 242)\",\"rgb(180, 151, 231)\",\"rgb(158, 185, 243)\",\"rgb(220, 176, 242)\",\"rgb(102, 197, 204)\",\"rgb(248, 156, 116)\",\"rgb(201, 219, 116)\",\"rgb(248, 156, 116)\",\"rgb(201, 219, 116)\",\"rgb(246, 207, 113)\",\"rgb(139, 224, 164)\",\"rgb(248, 156, 116)\",\"rgb(180, 151, 231)\",\"rgb(254, 136, 177)\",\"rgb(102, 197, 204)\",\"rgb(135, 197, 95)\",\"rgb(135, 197, 95)\",\"rgb(201, 219, 116)\",\"rgb(246, 207, 113)\",\"rgb(139, 224, 164)\",\"rgb(102, 197, 204)\",\"rgb(180, 151, 231)\",\"rgb(246, 207, 113)\",\"rgb(254, 136, 177)\",\"rgb(135, 197, 95)\"],\"line\":{\"width\":0.5}},\"maxdepth\":2,\"name\":\"\",\"parents\":[\"MasterChef\",\"The Island\",\"First Love\",\"Love Is in the Air\",\"The Voice Kids\",\"Love Is in the Air\",\"The Voice Kids\",\"Brothers\",\"The Island\",\"MasterChef\",\"The Outsider\",\"MasterChef\",\"Brothers\",\"\",\"Eden\",\"Eden\",\"\",\"\",\"Love Island\",\"Eden\",\"The Voice Kids\",\"Love Island\",\"MasterChef\",\"The Outsider\",\"Love Is in the Air\",\"Brothers\",\"Love Island\",\"The Island\",\"Love Is in the Air\",\"Monster\",\"Monster\",\"Love Is in the Air\",\"First Love\",\"Monster\",\"Brothers\",\"Love Island\",\"Eden\",\"The Island\",\"The Voice Kids\",\"Love Is in the Air\",\"Monster\",\"Brothers\",\"\",\"MasterChef\",\"First Love\",\"Eden\",\"First Love\",\"Eden\",\"The Island\",\"Love Island\",\"First Love\",\"Monster\",\"The Outsider\",\"MasterChef\",\"The Voice Kids\",\"The Voice Kids\",\"Eden\",\"The Island\",\"\",\"\",\"\",\"\",\"\",\"\"],\"values\":[1,1,1,1,1,1,1,1,1,1,3,1,1,6,1,1,8,5,1,1,1,1,1,1,1,1,1,1,1,1,1,1,1,1,1,1,1,1,1,1,1,1,6,1,2,1,1,2,1,1,1,1,1,1,1,1,1,1,5,6,5,6,5,6],\"type\":\"sunburst\",\"textfont\":{\"size\":10},\"insidetextorientation\":\"auto\",\"textinfo\":\"label\"}],                        {\"template\":{\"data\":{\"histogram2dcontour\":[{\"type\":\"histogram2dcontour\",\"colorbar\":{\"outlinewidth\":0,\"ticks\":\"\"},\"colorscale\":[[0.0,\"#0d0887\"],[0.1111111111111111,\"#46039f\"],[0.2222222222222222,\"#7201a8\"],[0.3333333333333333,\"#9c179e\"],[0.4444444444444444,\"#bd3786\"],[0.5555555555555556,\"#d8576b\"],[0.6666666666666666,\"#ed7953\"],[0.7777777777777778,\"#fb9f3a\"],[0.8888888888888888,\"#fdca26\"],[1.0,\"#f0f921\"]]}],\"choropleth\":[{\"type\":\"choropleth\",\"colorbar\":{\"outlinewidth\":0,\"ticks\":\"\"}}],\"histogram2d\":[{\"type\":\"histogram2d\",\"colorbar\":{\"outlinewidth\":0,\"ticks\":\"\"},\"colorscale\":[[0.0,\"#0d0887\"],[0.1111111111111111,\"#46039f\"],[0.2222222222222222,\"#7201a8\"],[0.3333333333333333,\"#9c179e\"],[0.4444444444444444,\"#bd3786\"],[0.5555555555555556,\"#d8576b\"],[0.6666666666666666,\"#ed7953\"],[0.7777777777777778,\"#fb9f3a\"],[0.8888888888888888,\"#fdca26\"],[1.0,\"#f0f921\"]]}],\"heatmap\":[{\"type\":\"heatmap\",\"colorbar\":{\"outlinewidth\":0,\"ticks\":\"\"},\"colorscale\":[[0.0,\"#0d0887\"],[0.1111111111111111,\"#46039f\"],[0.2222222222222222,\"#7201a8\"],[0.3333333333333333,\"#9c179e\"],[0.4444444444444444,\"#bd3786\"],[0.5555555555555556,\"#d8576b\"],[0.6666666666666666,\"#ed7953\"],[0.7777777777777778,\"#fb9f3a\"],[0.8888888888888888,\"#fdca26\"],[1.0,\"#f0f921\"]]}],\"heatmapgl\":[{\"type\":\"heatmapgl\",\"colorbar\":{\"outlinewidth\":0,\"ticks\":\"\"},\"colorscale\":[[0.0,\"#0d0887\"],[0.1111111111111111,\"#46039f\"],[0.2222222222222222,\"#7201a8\"],[0.3333333333333333,\"#9c179e\"],[0.4444444444444444,\"#bd3786\"],[0.5555555555555556,\"#d8576b\"],[0.6666666666666666,\"#ed7953\"],[0.7777777777777778,\"#fb9f3a\"],[0.8888888888888888,\"#fdca26\"],[1.0,\"#f0f921\"]]}],\"contourcarpet\":[{\"type\":\"contourcarpet\",\"colorbar\":{\"outlinewidth\":0,\"ticks\":\"\"}}],\"contour\":[{\"type\":\"contour\",\"colorbar\":{\"outlinewidth\":0,\"ticks\":\"\"},\"colorscale\":[[0.0,\"#0d0887\"],[0.1111111111111111,\"#46039f\"],[0.2222222222222222,\"#7201a8\"],[0.3333333333333333,\"#9c179e\"],[0.4444444444444444,\"#bd3786\"],[0.5555555555555556,\"#d8576b\"],[0.6666666666666666,\"#ed7953\"],[0.7777777777777778,\"#fb9f3a\"],[0.8888888888888888,\"#fdca26\"],[1.0,\"#f0f921\"]]}],\"surface\":[{\"type\":\"surface\",\"colorbar\":{\"outlinewidth\":0,\"ticks\":\"\"},\"colorscale\":[[0.0,\"#0d0887\"],[0.1111111111111111,\"#46039f\"],[0.2222222222222222,\"#7201a8\"],[0.3333333333333333,\"#9c179e\"],[0.4444444444444444,\"#bd3786\"],[0.5555555555555556,\"#d8576b\"],[0.6666666666666666,\"#ed7953\"],[0.7777777777777778,\"#fb9f3a\"],[0.8888888888888888,\"#fdca26\"],[1.0,\"#f0f921\"]]}],\"mesh3d\":[{\"type\":\"mesh3d\",\"colorbar\":{\"outlinewidth\":0,\"ticks\":\"\"}}],\"scatter\":[{\"fillpattern\":{\"fillmode\":\"overlay\",\"size\":10,\"solidity\":0.2},\"type\":\"scatter\"}],\"parcoords\":[{\"type\":\"parcoords\",\"line\":{\"colorbar\":{\"outlinewidth\":0,\"ticks\":\"\"}}}],\"scatterpolargl\":[{\"type\":\"scatterpolargl\",\"marker\":{\"colorbar\":{\"outlinewidth\":0,\"ticks\":\"\"}}}],\"bar\":[{\"error_x\":{\"color\":\"#2a3f5f\"},\"error_y\":{\"color\":\"#2a3f5f\"},\"marker\":{\"line\":{\"color\":\"#E5ECF6\",\"width\":0.5},\"pattern\":{\"fillmode\":\"overlay\",\"size\":10,\"solidity\":0.2}},\"type\":\"bar\"}],\"scattergeo\":[{\"type\":\"scattergeo\",\"marker\":{\"colorbar\":{\"outlinewidth\":0,\"ticks\":\"\"}}}],\"scatterpolar\":[{\"type\":\"scatterpolar\",\"marker\":{\"colorbar\":{\"outlinewidth\":0,\"ticks\":\"\"}}}],\"histogram\":[{\"marker\":{\"pattern\":{\"fillmode\":\"overlay\",\"size\":10,\"solidity\":0.2}},\"type\":\"histogram\"}],\"scattergl\":[{\"type\":\"scattergl\",\"marker\":{\"colorbar\":{\"outlinewidth\":0,\"ticks\":\"\"}}}],\"scatter3d\":[{\"type\":\"scatter3d\",\"line\":{\"colorbar\":{\"outlinewidth\":0,\"ticks\":\"\"}},\"marker\":{\"colorbar\":{\"outlinewidth\":0,\"ticks\":\"\"}}}],\"scattermapbox\":[{\"type\":\"scattermapbox\",\"marker\":{\"colorbar\":{\"outlinewidth\":0,\"ticks\":\"\"}}}],\"scatterternary\":[{\"type\":\"scatterternary\",\"marker\":{\"colorbar\":{\"outlinewidth\":0,\"ticks\":\"\"}}}],\"scattercarpet\":[{\"type\":\"scattercarpet\",\"marker\":{\"colorbar\":{\"outlinewidth\":0,\"ticks\":\"\"}}}],\"carpet\":[{\"aaxis\":{\"endlinecolor\":\"#2a3f5f\",\"gridcolor\":\"white\",\"linecolor\":\"white\",\"minorgridcolor\":\"white\",\"startlinecolor\":\"#2a3f5f\"},\"baxis\":{\"endlinecolor\":\"#2a3f5f\",\"gridcolor\":\"white\",\"linecolor\":\"white\",\"minorgridcolor\":\"white\",\"startlinecolor\":\"#2a3f5f\"},\"type\":\"carpet\"}],\"table\":[{\"cells\":{\"fill\":{\"color\":\"#EBF0F8\"},\"line\":{\"color\":\"white\"}},\"header\":{\"fill\":{\"color\":\"#C8D4E3\"},\"line\":{\"color\":\"white\"}},\"type\":\"table\"}],\"barpolar\":[{\"marker\":{\"line\":{\"color\":\"#E5ECF6\",\"width\":0.5},\"pattern\":{\"fillmode\":\"overlay\",\"size\":10,\"solidity\":0.2}},\"type\":\"barpolar\"}],\"pie\":[{\"automargin\":true,\"type\":\"pie\"}]},\"layout\":{\"autotypenumbers\":\"strict\",\"colorway\":[\"#636efa\",\"#EF553B\",\"#00cc96\",\"#ab63fa\",\"#FFA15A\",\"#19d3f3\",\"#FF6692\",\"#B6E880\",\"#FF97FF\",\"#FECB52\"],\"font\":{\"color\":\"#2a3f5f\"},\"hovermode\":\"closest\",\"hoverlabel\":{\"align\":\"left\"},\"paper_bgcolor\":\"white\",\"plot_bgcolor\":\"#E5ECF6\",\"polar\":{\"bgcolor\":\"#E5ECF6\",\"angularaxis\":{\"gridcolor\":\"white\",\"linecolor\":\"white\",\"ticks\":\"\"},\"radialaxis\":{\"gridcolor\":\"white\",\"linecolor\":\"white\",\"ticks\":\"\"}},\"ternary\":{\"bgcolor\":\"#E5ECF6\",\"aaxis\":{\"gridcolor\":\"white\",\"linecolor\":\"white\",\"ticks\":\"\"},\"baxis\":{\"gridcolor\":\"white\",\"linecolor\":\"white\",\"ticks\":\"\"},\"caxis\":{\"gridcolor\":\"white\",\"linecolor\":\"white\",\"ticks\":\"\"}},\"coloraxis\":{\"colorbar\":{\"outlinewidth\":0,\"ticks\":\"\"}},\"colorscale\":{\"sequential\":[[0.0,\"#0d0887\"],[0.1111111111111111,\"#46039f\"],[0.2222222222222222,\"#7201a8\"],[0.3333333333333333,\"#9c179e\"],[0.4444444444444444,\"#bd3786\"],[0.5555555555555556,\"#d8576b\"],[0.6666666666666666,\"#ed7953\"],[0.7777777777777778,\"#fb9f3a\"],[0.8888888888888888,\"#fdca26\"],[1.0,\"#f0f921\"]],\"sequentialminus\":[[0.0,\"#0d0887\"],[0.1111111111111111,\"#46039f\"],[0.2222222222222222,\"#7201a8\"],[0.3333333333333333,\"#9c179e\"],[0.4444444444444444,\"#bd3786\"],[0.5555555555555556,\"#d8576b\"],[0.6666666666666666,\"#ed7953\"],[0.7777777777777778,\"#fb9f3a\"],[0.8888888888888888,\"#fdca26\"],[1.0,\"#f0f921\"]],\"diverging\":[[0,\"#8e0152\"],[0.1,\"#c51b7d\"],[0.2,\"#de77ae\"],[0.3,\"#f1b6da\"],[0.4,\"#fde0ef\"],[0.5,\"#f7f7f7\"],[0.6,\"#e6f5d0\"],[0.7,\"#b8e186\"],[0.8,\"#7fbc41\"],[0.9,\"#4d9221\"],[1,\"#276419\"]]},\"xaxis\":{\"gridcolor\":\"white\",\"linecolor\":\"white\",\"ticks\":\"\",\"title\":{\"standoff\":15},\"zerolinecolor\":\"white\",\"automargin\":true,\"zerolinewidth\":2},\"yaxis\":{\"gridcolor\":\"white\",\"linecolor\":\"white\",\"ticks\":\"\",\"title\":{\"standoff\":15},\"zerolinecolor\":\"white\",\"automargin\":true,\"zerolinewidth\":2},\"scene\":{\"xaxis\":{\"backgroundcolor\":\"#E5ECF6\",\"gridcolor\":\"white\",\"linecolor\":\"white\",\"showbackground\":true,\"ticks\":\"\",\"zerolinecolor\":\"white\",\"gridwidth\":2},\"yaxis\":{\"backgroundcolor\":\"#E5ECF6\",\"gridcolor\":\"white\",\"linecolor\":\"white\",\"showbackground\":true,\"ticks\":\"\",\"zerolinecolor\":\"white\",\"gridwidth\":2},\"zaxis\":{\"backgroundcolor\":\"#E5ECF6\",\"gridcolor\":\"white\",\"linecolor\":\"white\",\"showbackground\":true,\"ticks\":\"\",\"zerolinecolor\":\"white\",\"gridwidth\":2}},\"shapedefaults\":{\"line\":{\"color\":\"#2a3f5f\"}},\"annotationdefaults\":{\"arrowcolor\":\"#2a3f5f\",\"arrowhead\":0,\"arrowwidth\":1},\"geo\":{\"bgcolor\":\"white\",\"landcolor\":\"#E5ECF6\",\"subunitcolor\":\"white\",\"showland\":true,\"showlakes\":true,\"lakecolor\":\"white\"},\"title\":{\"x\":0.05},\"mapbox\":{\"style\":\"light\"}}},\"legend\":{\"tracegroupgap\":0,\"font\":{\"size\":10},\"title\":{\"text\":\"<b>T\\u00edtulos</b>\"},\"orientation\":\"v\",\"yanchor\":\"middle\",\"y\":0.5,\"xanchor\":\"left\",\"x\":1.05,\"bgcolor\":\"rgba(240,240,240,0.5)\"},\"margin\":{\"t\":50,\"l\":10,\"r\":10,\"b\":10},\"sunburstcolorway\":[\"rgb(102, 197, 204)\",\"rgb(246, 207, 113)\",\"rgb(248, 156, 116)\",\"rgb(220, 176, 242)\",\"rgb(135, 197, 95)\",\"rgb(158, 185, 243)\",\"rgb(254, 136, 177)\",\"rgb(201, 219, 116)\",\"rgb(139, 224, 164)\",\"rgb(180, 151, 231)\",\"rgb(179, 179, 179)\"],\"height\":500,\"width\":600,\"title\":{\"font\":{\"size\":18},\"text\":\"<b>Distribuci\\u00f3n por Pa\\u00eds</b>\",\"x\":0.5}},                        {\"responsive\": true}                    ).then(function(){\n",
       "                            \n",
       "var gd = document.getElementById('c2de6c62-6b85-4ef1-b00c-438385a92522');\n",
       "var x = new MutationObserver(function (mutations, observer) {{\n",
       "        var display = window.getComputedStyle(gd).display;\n",
       "        if (!display || display === 'none') {{\n",
       "            console.log([gd, 'removed!']);\n",
       "            Plotly.purge(gd);\n",
       "            observer.disconnect();\n",
       "        }}\n",
       "}});\n",
       "\n",
       "// Listen for the removal of the full notebook cells\n",
       "var notebookContainer = gd.closest('#notebook-container');\n",
       "if (notebookContainer) {{\n",
       "    x.observe(notebookContainer, {childList: true});\n",
       "}}\n",
       "\n",
       "// Listen for the clearing of the current output cell\n",
       "var outputEl = gd.closest('.output');\n",
       "if (outputEl) {{\n",
       "    x.observe(outputEl, {childList: true});\n",
       "}}\n",
       "\n",
       "                        })                };                });            </script>        </div>"
      ]
     },
     "metadata": {},
     "output_type": "display_data"
    }
   ],
   "source": [
    "import plotly.express as px\n",
    "\n",
    "# Versión compacta del gráfico sunburst\n",
    "fig = px.sunburst(\n",
    "    top_data,\n",
    "    path=['title', 'country'],\n",
    "    color='title',\n",
    "    color_discrete_sequence=px.colors.qualitative.Pastel,\n",
    "    maxdepth=2,\n",
    "    branchvalues='total',\n",
    "    width=600,  # Reducido de 1000 a 600\n",
    "    height=500  # Reducido de 800 a 500\n",
    ")\n",
    "\n",
    "# Layout compacto\n",
    "fig.update_layout(\n",
    "    title_text='<b>Distribución por País</b>',\n",
    "    title_font_size=18,\n",
    "    title_x=0.5,\n",
    "    margin=dict(t=50, l=10, r=10, b=10),  # Márgenes más ajustados\n",
    "    legend=dict(\n",
    "        title='<b>Títulos</b>',\n",
    "        orientation='v',\n",
    "        yanchor='middle',\n",
    "        y=0.5,\n",
    "        xanchor='left',\n",
    "        x=1.05,\n",
    "        font=dict(size=10),  # Texto más pequeño\n",
    "        bgcolor='rgba(240,240,240,0.5)'\n",
    "    )\n",
    ")\n",
    "\n",
    "# Configuración optimizada para tamaño pequeño\n",
    "fig.update_traces(\n",
    "    hovertemplate='<b>%{label}</b><br>%{value}',\n",
    "    textinfo='label',\n",
    "    textfont=dict(size=10),  # Texto más pequeño en el gráfico\n",
    "    insidetextorientation='auto',  # Ajuste automático de texto\n",
    "    marker=dict(line=dict(width=0.5))  # Líneas más delgadas\n",
    ")\n",
    "\n",
    "fig.show()"
   ]
  },
  {
   "cell_type": "markdown",
   "id": "31847003-644c-418f-8c1d-b328d9bf1a43",
   "metadata": {},
   "source": [
    "### Principales países que crean contenidos"
   ]
  },
  {
   "cell_type": "code",
   "execution_count": 186,
   "id": "e7fcb448-17f4-4ca6-935e-a8646087432a",
   "metadata": {},
   "outputs": [
    {
     "data": {
      "text/html": [
       "<div>\n",
       "<style scoped>\n",
       "    .dataframe tbody tr th:only-of-type {\n",
       "        vertical-align: middle;\n",
       "    }\n",
       "\n",
       "    .dataframe tbody tr th {\n",
       "        vertical-align: top;\n",
       "    }\n",
       "\n",
       "    .dataframe thead th {\n",
       "        text-align: right;\n",
       "    }\n",
       "</style>\n",
       "<table border=\"1\" class=\"dataframe\">\n",
       "  <thead>\n",
       "    <tr style=\"text-align: right;\">\n",
       "      <th></th>\n",
       "      <th>count</th>\n",
       "    </tr>\n",
       "    <tr>\n",
       "      <th>country</th>\n",
       "      <th></th>\n",
       "    </tr>\n",
       "  </thead>\n",
       "  <tbody>\n",
       "    <tr>\n",
       "      <th>United States of America</th>\n",
       "      <td>7760</td>\n",
       "    </tr>\n",
       "    <tr>\n",
       "      <th>Japan</th>\n",
       "      <td>2587</td>\n",
       "    </tr>\n",
       "    <tr>\n",
       "      <th>China</th>\n",
       "      <td>2004</td>\n",
       "    </tr>\n",
       "    <tr>\n",
       "      <th>South Korea</th>\n",
       "      <td>1999</td>\n",
       "    </tr>\n",
       "    <tr>\n",
       "      <th>United Kingdom</th>\n",
       "      <td>1106</td>\n",
       "    </tr>\n",
       "    <tr>\n",
       "      <th>France</th>\n",
       "      <td>855</td>\n",
       "    </tr>\n",
       "    <tr>\n",
       "      <th>India</th>\n",
       "      <td>771</td>\n",
       "    </tr>\n",
       "    <tr>\n",
       "      <th>Canada</th>\n",
       "      <td>738</td>\n",
       "    </tr>\n",
       "    <tr>\n",
       "      <th>Germany</th>\n",
       "      <td>554</td>\n",
       "    </tr>\n",
       "    <tr>\n",
       "      <th>United Kingdom, United States of America</th>\n",
       "      <td>513</td>\n",
       "    </tr>\n",
       "    <tr>\n",
       "      <th>Philippines</th>\n",
       "      <td>510</td>\n",
       "    </tr>\n",
       "  </tbody>\n",
       "</table>\n",
       "</div>"
      ],
      "text/plain": [
       "                                          count\n",
       "country                                        \n",
       "United States of America                   7760\n",
       "Japan                                      2587\n",
       "China                                      2004\n",
       "South Korea                                1999\n",
       "United Kingdom                             1106\n",
       "France                                      855\n",
       "India                                       771\n",
       "Canada                                      738\n",
       "Germany                                     554\n",
       "United Kingdom, United States of America    513\n",
       "Philippines                                 510"
      ]
     },
     "execution_count": 186,
     "metadata": {},
     "output_type": "execute_result"
    }
   ],
   "source": [
    "#Top countries creating contents\n",
    "country_count = netflix_dataset2['country'].value_counts().sort_values(ascending=False)\n",
    "country_count=pd.DataFrame(country_count)\n",
    "topcountries=country_count[0:11]\n",
    "topcountries"
   ]
  },
  {
   "cell_type": "markdown",
   "id": "4c16646b-0c8e-47b2-a3c3-8680d7b097fb",
   "metadata": {},
   "source": [
    "### Análisis anual"
   ]
  },
  {
   "cell_type": "code",
   "execution_count": 92,
   "id": "6ca37a92-5d04-4442-91c4-980ffb0e7739",
   "metadata": {},
   "outputs": [
    {
     "data": {
      "text/html": [
       "<div>\n",
       "<style scoped>\n",
       "    .dataframe tbody tr th:only-of-type {\n",
       "        vertical-align: middle;\n",
       "    }\n",
       "\n",
       "    .dataframe tbody tr th {\n",
       "        vertical-align: top;\n",
       "    }\n",
       "\n",
       "    .dataframe thead th {\n",
       "        text-align: right;\n",
       "    }\n",
       "</style>\n",
       "<table border=\"1\" class=\"dataframe\">\n",
       "  <thead>\n",
       "    <tr style=\"text-align: right;\">\n",
       "      <th></th>\n",
       "      <th>show_id</th>\n",
       "      <th>type</th>\n",
       "      <th>title</th>\n",
       "      <th>director</th>\n",
       "      <th>cast</th>\n",
       "      <th>country</th>\n",
       "      <th>date_added</th>\n",
       "      <th>release_year</th>\n",
       "      <th>rating</th>\n",
       "      <th>duration</th>\n",
       "      <th>genres</th>\n",
       "      <th>language</th>\n",
       "      <th>description</th>\n",
       "      <th>popularity</th>\n",
       "      <th>vote_count</th>\n",
       "      <th>vote_average</th>\n",
       "      <th>budget</th>\n",
       "      <th>revenue</th>\n",
       "    </tr>\n",
       "  </thead>\n",
       "  <tbody>\n",
       "    <tr>\n",
       "      <th>6000</th>\n",
       "      <td>426889</td>\n",
       "      <td>Movie</td>\n",
       "      <td>Le Clitoris</td>\n",
       "      <td>Lori Malépart-Traversy</td>\n",
       "      <td>Lori Malépart-Traversy</td>\n",
       "      <td>Canada</td>\n",
       "      <td>2016-06-18</td>\n",
       "      <td>2016</td>\n",
       "      <td>7.100</td>\n",
       "      <td>NaN</td>\n",
       "      <td>Animation, Documentary</td>\n",
       "      <td>fr</td>\n",
       "      <td>Women are lucky, they get to have the only org...</td>\n",
       "      <td>443.998</td>\n",
       "      <td>36</td>\n",
       "      <td>7.100</td>\n",
       "      <td>0.0</td>\n",
       "      <td>0.000000e+00</td>\n",
       "    </tr>\n",
       "    <tr>\n",
       "      <th>6001</th>\n",
       "      <td>271110</td>\n",
       "      <td>Movie</td>\n",
       "      <td>Captain America: Civil War</td>\n",
       "      <td>Joe Russo, Anthony Russo</td>\n",
       "      <td>Chris Evans, Robert Downey Jr., Scarlett Johan...</td>\n",
       "      <td>United States of America</td>\n",
       "      <td>2016-04-27</td>\n",
       "      <td>2016</td>\n",
       "      <td>7.444</td>\n",
       "      <td>NaN</td>\n",
       "      <td>Adventure, Action, Science Fiction</td>\n",
       "      <td>en</td>\n",
       "      <td>Following the events of Age of Ultron, the col...</td>\n",
       "      <td>172.492</td>\n",
       "      <td>22932</td>\n",
       "      <td>7.444</td>\n",
       "      <td>250000000.0</td>\n",
       "      <td>1.155046e+09</td>\n",
       "    </tr>\n",
       "    <tr>\n",
       "      <th>6002</th>\n",
       "      <td>348893</td>\n",
       "      <td>Movie</td>\n",
       "      <td>Boyka: Undisputed IV</td>\n",
       "      <td>Todor Chapkanov</td>\n",
       "      <td>Scott Adkins, Teodora Duhovnikova, Alon Aboutb...</td>\n",
       "      <td>Bulgaria</td>\n",
       "      <td>2016-08-01</td>\n",
       "      <td>2016</td>\n",
       "      <td>7.200</td>\n",
       "      <td>NaN</td>\n",
       "      <td>Action, Drama, Thriller</td>\n",
       "      <td>en</td>\n",
       "      <td>In the fourth installment of the fighting fran...</td>\n",
       "      <td>115.100</td>\n",
       "      <td>1347</td>\n",
       "      <td>7.200</td>\n",
       "      <td>0.0</td>\n",
       "      <td>4.133340e+05</td>\n",
       "    </tr>\n",
       "    <tr>\n",
       "      <th>6003</th>\n",
       "      <td>396535</td>\n",
       "      <td>Movie</td>\n",
       "      <td>Train to Busan</td>\n",
       "      <td>Yeon Sang-ho</td>\n",
       "      <td>Gong Yoo, Kim Su-an, Jung Yu-mi, Don Lee, Choi...</td>\n",
       "      <td>South Korea</td>\n",
       "      <td>2016-07-20</td>\n",
       "      <td>2016</td>\n",
       "      <td>7.751</td>\n",
       "      <td>NaN</td>\n",
       "      <td>Horror, Thriller, Action, Adventure</td>\n",
       "      <td>ko</td>\n",
       "      <td>When a zombie virus pushes Korea into a state ...</td>\n",
       "      <td>111.112</td>\n",
       "      <td>7645</td>\n",
       "      <td>7.751</td>\n",
       "      <td>8500000.0</td>\n",
       "      <td>8.754752e+07</td>\n",
       "    </tr>\n",
       "    <tr>\n",
       "      <th>6004</th>\n",
       "      <td>293660</td>\n",
       "      <td>Movie</td>\n",
       "      <td>Deadpool</td>\n",
       "      <td>Tim Miller</td>\n",
       "      <td>Ryan Reynolds, Morena Baccarin, Ed Skrein, T.J...</td>\n",
       "      <td>United States of America</td>\n",
       "      <td>2016-02-09</td>\n",
       "      <td>2016</td>\n",
       "      <td>7.622</td>\n",
       "      <td>NaN</td>\n",
       "      <td>Action, Adventure, Comedy</td>\n",
       "      <td>en</td>\n",
       "      <td>The origin story of former Special Forces oper...</td>\n",
       "      <td>106.641</td>\n",
       "      <td>31371</td>\n",
       "      <td>7.622</td>\n",
       "      <td>58000000.0</td>\n",
       "      <td>7.828373e+08</td>\n",
       "    </tr>\n",
       "  </tbody>\n",
       "</table>\n",
       "</div>"
      ],
      "text/plain": [
       "      show_id   type                       title                  director  \\\n",
       "6000   426889  Movie                 Le Clitoris    Lori Malépart-Traversy   \n",
       "6001   271110  Movie  Captain America: Civil War  Joe Russo, Anthony Russo   \n",
       "6002   348893  Movie        Boyka: Undisputed IV           Todor Chapkanov   \n",
       "6003   396535  Movie              Train to Busan              Yeon Sang-ho   \n",
       "6004   293660  Movie                    Deadpool                Tim Miller   \n",
       "\n",
       "                                                   cast  \\\n",
       "6000                             Lori Malépart-Traversy   \n",
       "6001  Chris Evans, Robert Downey Jr., Scarlett Johan...   \n",
       "6002  Scott Adkins, Teodora Duhovnikova, Alon Aboutb...   \n",
       "6003  Gong Yoo, Kim Su-an, Jung Yu-mi, Don Lee, Choi...   \n",
       "6004  Ryan Reynolds, Morena Baccarin, Ed Skrein, T.J...   \n",
       "\n",
       "                       country  date_added  release_year  rating duration  \\\n",
       "6000                    Canada  2016-06-18          2016   7.100      NaN   \n",
       "6001  United States of America  2016-04-27          2016   7.444      NaN   \n",
       "6002                  Bulgaria  2016-08-01          2016   7.200      NaN   \n",
       "6003               South Korea  2016-07-20          2016   7.751      NaN   \n",
       "6004  United States of America  2016-02-09          2016   7.622      NaN   \n",
       "\n",
       "                                   genres language  \\\n",
       "6000               Animation, Documentary       fr   \n",
       "6001   Adventure, Action, Science Fiction       en   \n",
       "6002              Action, Drama, Thriller       en   \n",
       "6003  Horror, Thriller, Action, Adventure       ko   \n",
       "6004            Action, Adventure, Comedy       en   \n",
       "\n",
       "                                            description  popularity  \\\n",
       "6000  Women are lucky, they get to have the only org...     443.998   \n",
       "6001  Following the events of Age of Ultron, the col...     172.492   \n",
       "6002  In the fourth installment of the fighting fran...     115.100   \n",
       "6003  When a zombie virus pushes Korea into a state ...     111.112   \n",
       "6004  The origin story of former Special Forces oper...     106.641   \n",
       "\n",
       "      vote_count  vote_average       budget       revenue  \n",
       "6000          36         7.100          0.0  0.000000e+00  \n",
       "6001       22932         7.444  250000000.0  1.155046e+09  \n",
       "6002        1347         7.200          0.0  4.133340e+05  \n",
       "6003        7645         7.751    8500000.0  8.754752e+07  \n",
       "6004       31371         7.622   58000000.0  7.828373e+08  "
      ]
     },
     "execution_count": 92,
     "metadata": {},
     "output_type": "execute_result"
    }
   ],
   "source": [
    "Last_fifteen_years = netflix_dataset2[netflix_dataset2['release_year']>2015 ]\n",
    "Last_fifteen_years.head()"
   ]
  },
  {
   "cell_type": "code",
   "execution_count": 162,
   "id": "9321255b-e044-4bca-b037-5ee3665273ce",
   "metadata": {},
   "outputs": [
    {
     "data": {
      "image/png": "[encoded data removed]",
      "text/plain": [
       "<Figure size 1200x1000 with 1 Axes>"
      ]
     },
     "metadata": {},
     "output_type": "display_data"
    }
   ],
   "source": [
    "# Filtrar datos para últimos 15 años\n",
    "current_year = netflix_dataset2['release_year'].max()\n",
    "last_fifteen_years = netflix_dataset2[netflix_dataset2['release_year'] >= (current_year - 14)]\n",
    "\n",
    "# Graficar\n",
    "import matplotlib.pyplot as plt\n",
    "import seaborn as sns\n",
    "\n",
    "plt.figure(figsize=(12, 10))\n",
    "sns.set(style=\"darkgrid\")\n",
    "\n",
    "ax = sns.countplot(\n",
    "    y='release_year',\n",
    "    data=last_fifteen_years,\n",
    "    palette='Set1',\n",
    "    order=last_fifteen_years['release_year'].value_counts().index[:15]\n",
    ")\n",
    "\n",
    "plt.title('Cantidad de títulos lanzados por año (últimos 15 años)', fontsize=14)\n",
    "plt.xlabel('Cantidad')\n",
    "plt.ylabel('Año de lanzamiento')\n",
    "plt.tight_layout()\n",
    "plt.show()\n"
   ]
  },
  {
   "cell_type": "markdown",
   "id": "f11d7f79-45ba-4fc3-ac75-c3fbc6855a2e",
   "metadata": {},
   "source": [
    "### Análisis de programas de televisión en Netflix"
   ]
  },
  {
   "cell_type": "code",
   "execution_count": 166,
   "id": "cbb420a1-f849-49f9-b884-3175bfd949ca",
   "metadata": {},
   "outputs": [
    {
     "data": {
      "image/png": "[encoded data removed]",
      "text/plain": [
       "<Figure size 1200x600 with 1 Axes>"
      ]
     },
     "metadata": {},
     "output_type": "display_data"
    }
   ],
   "source": [
    "# Cargar ambas bases de datos\n",
    "netflix_movies = pd.read_csv(\"netflix_movies_detailed_up_to_2025.csv\")\n",
    "netflix_tv_shows = pd.read_csv(\"netflix_tv_shows_detailed_up_to_2025.csv\")\n",
    "\n",
    "# Concatenar los DataFrames\n",
    "netflix_dataset2 = pd.concat([netflix_movies, netflix_tv_shows], ignore_index=True)\n",
    "\n",
    "# Filtrar solo los TV Shows\n",
    "netflix_shows = netflix_dataset2[netflix_dataset2['type'] == 'TV Show']\n",
    "\n",
    "# Rellenar los valores nulos en la columna 'country' con 'Unknown'\n",
    "netflix_shows['country'] = netflix_shows['country'].fillna('Unknown')\n",
    "\n",
    "# Contar los países\n",
    "countries = {}\n",
    "for entry in netflix_shows['country']:\n",
    "    # Separar países por coma y eliminar espacios extras\n",
    "    country_list = [country.strip() for country in entry.split(',')]\n",
    "    \n",
    "    for country in country_list:\n",
    "        countries[country] = countries.get(country, 0) + 1\n",
    "\n",
    "# Convertir a DataFrame para graficar\n",
    "country_df = pd.DataFrame(list(countries.items()), columns=['Country', 'Count'])\n",
    "country_df = country_df.sort_values(by='Count', ascending=False)\n",
    "\n",
    "paletas = [\n",
    "    'viridis',         \n",
    "    'plasma',          \n",
    "    'magma',           \n",
    "    'coolwarm',       \n",
    "    'Spectral',       \n",
    "    'rainbow',         \n",
    "    'tab10',           \n",
    "    'husl',          \n",
    "    'Paired',          \n",
    "    'Set3',            \n",
    "    'mako',            \n",
    "    'rocket'        \n",
    "]\n",
    "\n",
    "# Visualización de los 10 países con más TV Shows\n",
    "plt.figure(figsize=(12,6))\n",
    "sns.barplot(x='Count', y='Country', \n",
    "           data=country_df.head(10), \n",
    "           palette=paletas[3])  # Cambia el índice para probar diferentes paletas\n",
    "plt.title('Top 10 países con más TV Shows en Netflix', pad=20)\n",
    "plt.xlabel('Cantidad de TV Shows', labelpad=10)\n",
    "plt.ylabel('País')\n",
    "plt.tight_layout()\n",
    "plt.show()"
   ]
  },
  {
   "cell_type": "markdown",
   "id": "e5f59b02-08de-461c-b519-3315741338bb",
   "metadata": {},
   "source": [
    "### Analisis de duracion de de peliculas "
   ]
  },
  {
   "cell_type": "code",
   "execution_count": 106,
   "id": "3d2f3af7-5b54-452a-befa-5704de32758d",
   "metadata": {},
   "outputs": [
    {
     "data": {
      "text/plain": [
       "Series([], Name: duration, dtype: int32)"
      ]
     },
     "execution_count": 106,
     "metadata": {},
     "output_type": "execute_result"
    }
   ],
   "source": [
    "netflix_movies['duration'] = netflix_movies['duration'].astype(str).str.replace(' min', '').astype(int)\n",
    "netflix_movies['duration']=netflix_movies['duration'].astype(str).astype(int)\n",
    "netflix_movies['duration']"
   ]
  },
  {
   "cell_type": "code",
   "execution_count": 107,
   "id": "1dee21eb-8618-4ba8-a443-89a5b25ba1bd",
   "metadata": {},
   "outputs": [
    {
     "data": {
      "image/png": "[encoded data removed]",
      "text/plain": [
       "<Figure size 640x480 with 1 Axes>"
      ]
     },
     "metadata": {},
     "output_type": "display_data"
    }
   ],
   "source": [
    "# Crear gráfico de densidad para visualizar distribución de duraciones\n",
    "sns.set(style=\"darkgrid\")\n",
    "ax = sns.kdeplot(data=netflix_movies['duration'], shade=True)\n",
    "plt.title(\"Distribución de Duración de Películas\")\n",
    "plt.xlabel(\"Duración (minutos)\")\n",
    "plt.show()"
   ]
  },
  {
   "cell_type": "markdown",
   "id": "385b9d03-8235-4e86-acd3-4ef2b2fcc69f",
   "metadata": {},
   "source": [
    "### Análisis de la duración de los programas de televisión"
   ]
  },
  {
   "cell_type": "code",
   "execution_count": 108,
   "id": "ecf5e8fc-e496-4e30-a2db-8d1bd2cf06cf",
   "metadata": {},
   "outputs": [],
   "source": [
    "features=['title','duration']\n",
    "durations= netflix_shows[features]\n",
    "\n",
    "durations['no_of_seasons']=durations['duration'].str.replace(' Season','')\n",
    "\n",
    "#durations['no_of_seasons']=durations['no_of_seasons'].astype(str).astype(int)\n",
    "durations['no_of_seasons']=durations['no_of_seasons'].str.replace('s','')"
   ]
  },
  {
   "cell_type": "code",
   "execution_count": 109,
   "id": "2bef0988-b769-4d23-8380-bec20c731556",
   "metadata": {},
   "outputs": [],
   "source": [
    "durations['no_of_seasons']=durations['no_of_seasons'].astype(str).astype(int)"
   ]
  },
  {
   "cell_type": "code",
   "execution_count": 110,
   "id": "34e1cf0c-5821-49e9-b428-b2b2fb55a9fe",
   "metadata": {},
   "outputs": [],
   "source": [
    "t=['title','no_of_seasons']\n",
    "top=durations[t]\n",
    "\n",
    "top=top.sort_values(by='no_of_seasons', ascending=False)"
   ]
  },
  {
   "cell_type": "code",
   "execution_count": 111,
   "id": "4534dc2d-1849-4322-916d-18c17b104e8b",
   "metadata": {},
   "outputs": [
    {
     "data": {
      "text/plain": [
       "<Axes: xlabel='title'>"
      ]
     },
     "execution_count": 111,
     "metadata": {},
     "output_type": "execute_result"
    },
    {
     "data": {
      "image/png": "[encoded data removed]",
      "text/plain": [
       "<Figure size 640x480 with 1 Axes>"
      ]
     },
     "metadata": {},
     "output_type": "display_data"
    }
   ],
   "source": [
    "top20=top[0:20]\n",
    "top20.plot(kind='bar',x='title',y='no_of_seasons', color='blue')"
   ]
  },
  {
   "cell_type": "markdown",
   "id": "71c8e851-95a8-411d-ab7f-9b5ba0702aa5",
   "metadata": {},
   "source": [
    "### Sistema de recomendación basado en contenido para el segundo DataSet"
   ]
  },
  {
   "cell_type": "code",
   "execution_count": 112,
   "id": "280d5d34-541e-4e9a-8c9c-afd1ab35e1d7",
   "metadata": {},
   "outputs": [
    {
     "data": {
      "text/plain": [
       "0    A bored and domesticated Shrek pacts with deal...\n",
       "1    Cobb, a skilled thief who commits corporate es...\n",
       "2    Harry, Ron and Hermione walk away from their l...\n",
       "3    Feisty teenager Rapunzel, who has long and mag...\n",
       "4    As the son of a Viking leader on the cusp of m...\n",
       "Name: description, dtype: object"
      ]
     },
     "execution_count": 112,
     "metadata": {},
     "output_type": "execute_result"
    }
   ],
   "source": [
    "netflix_dataset2['description'].head()"
   ]
  },
  {
   "cell_type": "code",
   "execution_count": 190,
   "id": "12ea08cf-c8ed-4c15-a984-af23ecbb63d5",
   "metadata": {},
   "outputs": [
    {
     "data": {
      "text/plain": [
       "(32000, 54565)"
      ]
     },
     "execution_count": 190,
     "metadata": {},
     "output_type": "execute_result"
    }
   ],
   "source": [
    "# Importar TfIdfVectorizer de scikit-learn\n",
    "from sklearn.feature_extraction.text import TfidfVectorizer\n",
    "\n",
    "# Definir un objeto Vectorizador TF-IDF. Elimina todas las stop words en inglés como 'the', 'a', etc.\n",
    "tfidf = TfidfVectorizer(stop_words='english')\n",
    "\n",
    "# Reemplazar valores NaN con strings vacíos\n",
    "netflix_dataset2['description'] = netflix_dataset2['description'].fillna('')\n",
    "\n",
    "# Construir la matriz TF-IDF aplicando fit y transform a los datos\n",
    "tfidf_matrix = tfidf.fit_transform(netflix_dataset2['description'])\n",
    "\n",
    "# Mostrar la forma/dimensiones de la matriz tfidf_matrix\n",
    "tfidf_matrix.shape"
   ]
  },
  {
   "cell_type": "code",
   "execution_count": 132,
   "id": "73abac68-5748-4046-ae29-2b84efc7c4dc",
   "metadata": {},
   "outputs": [],
   "source": [
    "# Importar la función linear_kernel de scikit-learn\n",
    "from sklearn.metrics.pairwise import linear_kernel\n",
    "\n",
    "# Calcular la matriz de similitud coseno\n",
    "# (Compara qué tan similares son las descripciones entre sí)\n",
    "cosine_sim = linear_kernel(tfidf_matrix, tfidf_matrix)"
   ]
  },
  {
   "cell_type": "code",
   "execution_count": 133,
   "id": "99999c14-effb-49d2-a35b-c4c39543462c",
   "metadata": {},
   "outputs": [],
   "source": [
    "# Construir un mapeo inverso de índices y títulos de películas/series\n",
    "indices = pd.Series(netflix_dataset2.index, index=netflix_dataset2['title']).drop_duplicates()"
   ]
  },
  {
   "cell_type": "markdown",
   "id": "80c789f2-e3cf-4c2d-89bf-097b728be21b",
   "metadata": {},
   "source": [
    "Función que toma el título de la película como entrada y genera la mayoría de las películas similares"
   ]
  },
  {
   "cell_type": "code",
   "execution_count": 191,
   "id": "7b3dc935-9968-44f6-a2bf-bef5ee91605d",
   "metadata": {},
   "outputs": [],
   "source": [
    "# Función que recibe un título de película/serie y devuelve recomendaciones similares\n",
    "def get_recommendations(title, cosine_sim=cosine_sim):\n",
    "    # Obtener el índice de la película/serie que coincide con el título\n",
    "    idx = indices[title]\n",
    "    \n",
    "    # Obtener los puntajes de similitud de todas las películas/series con respecto a la elegida\n",
    "    # enumerate agrega el índice a cada valor de similitud\n",
    "    sim_scores = list(enumerate(cosine_sim[idx]))\n",
    "    \n",
    "    # Ordenar las películas/series según sus puntajes de similitud (de mayor a menor)\n",
    "    sim_scores = sorted(sim_scores, key=lambda x: x[1], reverse=True)\n",
    "    \n",
    "    # Seleccionar los 10 puntajes más similares (excluyendo la primera que es la propia película)\n",
    "    sim_scores = sim_scores[1:11]\n",
    "    \n",
    "    # Obtener los índices de las películas/series más similares\n",
    "    movie_indices = [i[0] for i in sim_scores]\n",
    "    \n",
    "    # Devolver los títulos de las 10 películas/series más similares\n",
    "    return netflix_dataset2['title'].iloc[movie_indices]"
   ]
  },
  {
   "cell_type": "code",
   "execution_count": 137,
   "id": "4e1f4f13-c182-45d8-92c9-33be4768e309",
   "metadata": {},
   "outputs": [
    {
     "data": {
      "text/plain": [
       "583      Inception: The Cobol Job\n",
       "3148                    New World\n",
       "11662                  Homunculus\n",
       "3321             The Monkey's Paw\n",
       "7210                     Altitude\n",
       "30232          Lumuhod Ka Sa Lupa\n",
       "19692                    Shen Tou\n",
       "21932                    Mindfuck\n",
       "29566                 Rabbit Hole\n",
       "18998                     La fuga\n",
       "Name: title, dtype: object"
      ]
     },
     "execution_count": 137,
     "metadata": {},
     "output_type": "execute_result"
    }
   ],
   "source": [
    "get_recommendations('Inception')"
   ]
  },
  {
   "cell_type": "code",
   "execution_count": 138,
   "id": "e40c490a-3dc5-476d-b3aa-b931673173bb",
   "metadata": {},
   "outputs": [
    {
     "data": {
      "text/plain": [
       "9001                                     Avengers: Endgame\n",
       "7413     LEGO Marvel Super Heroes: Guardians of the Gal...\n",
       "19114                                    Marvel's Avengers\n",
       "14298             LEGO Marvel Avengers: Mission Demolition\n",
       "8963                             Avengers Grimm: Time Wars\n",
       "13378                       LEGO Marvel Avengers: Code Red\n",
       "20652                       Marvel Disk Wars: The Avengers\n",
       "25758                                              Pandora\n",
       "3370                      Phineas and Ferb: Mission Marvel\n",
       "16135               The Avengers: Earth's Mightiest Heroes\n",
       "Name: title, dtype: object"
      ]
     },
     "execution_count": 138,
     "metadata": {},
     "output_type": "execute_result"
    }
   ],
   "source": [
    "get_recommendations('Avengers: Infinity War')"
   ]
  },
  {
   "cell_type": "code",
   "execution_count": 139,
   "id": "46f41f8b-5834-45a6-a046-7002a1e54281",
   "metadata": {},
   "outputs": [
    {
     "data": {
      "text/plain": [
       "3567                                  Le Week-End\n",
       "6458                              The Family Fang\n",
       "8746                   There's No Place Like Home\n",
       "5762                             One Crazy Cruise\n",
       "3868                                Family United\n",
       "8672                         What Keeps You Alive\n",
       "13961    My Brother-in-law Is Looking For Me Only\n",
       "9283                    My Sister-in-law's Secret\n",
       "24964                         Frankenstein Family\n",
       "21070                               Iron Lady Cha\n",
       "Name: title, dtype: object"
      ]
     },
     "execution_count": 139,
     "metadata": {},
     "output_type": "execute_result"
    }
   ],
   "source": [
    "get_recommendations('Dil Dhadakne Do')"
   ]
  },
  {
   "cell_type": "markdown",
   "id": "93b893cc-72e2-4bff-aa4d-de71ea8b6bf8",
   "metadata": {},
   "source": [
    "### Filtrado basado en contenido según múltiples métricas"
   ]
  },
  {
   "cell_type": "markdown",
   "id": "65822e26-5999-4f6c-815e-47b77b29a47b",
   "metadata": {},
   "source": [
    "#### Filtrado de contenido basado en los siguientes factores:\n",
    "#### Título\n",
    "#### Reparto\n",
    "#### Director\n",
    "#### Incluido en\n",
    "#### Argumento"
   ]
  },
  {
   "cell_type": "code",
   "execution_count": 140,
   "id": "e4efdbe7-1abf-4b3f-b422-98a6956df431",
   "metadata": {},
   "outputs": [
    {
     "data": {
      "text/html": [
       "<div>\n",
       "<style scoped>\n",
       "    .dataframe tbody tr th:only-of-type {\n",
       "        vertical-align: middle;\n",
       "    }\n",
       "\n",
       "    .dataframe tbody tr th {\n",
       "        vertical-align: top;\n",
       "    }\n",
       "\n",
       "    .dataframe thead th {\n",
       "        text-align: right;\n",
       "    }\n",
       "</style>\n",
       "<table border=\"1\" class=\"dataframe\">\n",
       "  <thead>\n",
       "    <tr style=\"text-align: right;\">\n",
       "      <th></th>\n",
       "      <th>show_id</th>\n",
       "      <th>type</th>\n",
       "      <th>title</th>\n",
       "      <th>director</th>\n",
       "      <th>cast</th>\n",
       "      <th>country</th>\n",
       "      <th>date_added</th>\n",
       "      <th>release_year</th>\n",
       "      <th>rating</th>\n",
       "      <th>duration</th>\n",
       "      <th>genres</th>\n",
       "      <th>language</th>\n",
       "      <th>description</th>\n",
       "      <th>popularity</th>\n",
       "      <th>vote_count</th>\n",
       "      <th>vote_average</th>\n",
       "      <th>budget</th>\n",
       "      <th>revenue</th>\n",
       "    </tr>\n",
       "  </thead>\n",
       "  <tbody>\n",
       "    <tr>\n",
       "      <th>0</th>\n",
       "      <td>10192</td>\n",
       "      <td>Movie</td>\n",
       "      <td>Shrek Forever After</td>\n",
       "      <td>Mike Mitchell</td>\n",
       "      <td>Mike Myers, Eddie Murphy, Cameron Diaz, Antoni...</td>\n",
       "      <td>United States of America</td>\n",
       "      <td>2010-05-16</td>\n",
       "      <td>2010</td>\n",
       "      <td>6.380</td>\n",
       "      <td></td>\n",
       "      <td>Comedy, Adventure, Fantasy, Animation, Family</td>\n",
       "      <td>en</td>\n",
       "      <td>A bored and domesticated Shrek pacts with deal...</td>\n",
       "      <td>203.893</td>\n",
       "      <td>7449</td>\n",
       "      <td>6.380</td>\n",
       "      <td>165000000.0</td>\n",
       "      <td>752600867.0</td>\n",
       "    </tr>\n",
       "    <tr>\n",
       "      <th>1</th>\n",
       "      <td>27205</td>\n",
       "      <td>Movie</td>\n",
       "      <td>Inception</td>\n",
       "      <td>Christopher Nolan</td>\n",
       "      <td>Leonardo DiCaprio, Joseph Gordon-Levitt, Ken W...</td>\n",
       "      <td>United Kingdom, United States of America</td>\n",
       "      <td>2010-07-15</td>\n",
       "      <td>2010</td>\n",
       "      <td>8.369</td>\n",
       "      <td></td>\n",
       "      <td>Action, Science Fiction, Adventure</td>\n",
       "      <td>en</td>\n",
       "      <td>Cobb, a skilled thief who commits corporate es...</td>\n",
       "      <td>156.242</td>\n",
       "      <td>37119</td>\n",
       "      <td>8.369</td>\n",
       "      <td>160000000.0</td>\n",
       "      <td>839030630.0</td>\n",
       "    </tr>\n",
       "    <tr>\n",
       "      <th>2</th>\n",
       "      <td>12444</td>\n",
       "      <td>Movie</td>\n",
       "      <td>Harry Potter and the Deathly Hallows: Part 1</td>\n",
       "      <td>David Yates</td>\n",
       "      <td>Daniel Radcliffe, Emma Watson, Rupert Grint, T...</td>\n",
       "      <td>United Kingdom, United States of America</td>\n",
       "      <td>2010-11-17</td>\n",
       "      <td>2010</td>\n",
       "      <td>7.744</td>\n",
       "      <td></td>\n",
       "      <td>Adventure, Fantasy</td>\n",
       "      <td>en</td>\n",
       "      <td>Harry, Ron and Hermione walk away from their l...</td>\n",
       "      <td>121.191</td>\n",
       "      <td>19327</td>\n",
       "      <td>7.744</td>\n",
       "      <td>250000000.0</td>\n",
       "      <td>954305868.0</td>\n",
       "    </tr>\n",
       "    <tr>\n",
       "      <th>3</th>\n",
       "      <td>38757</td>\n",
       "      <td>Movie</td>\n",
       "      <td>Tangled</td>\n",
       "      <td>Byron Howard, Nathan Greno</td>\n",
       "      <td>Mandy Moore, Zachary Levi, Donna Murphy, Ron P...</td>\n",
       "      <td>United States of America</td>\n",
       "      <td>2010-11-24</td>\n",
       "      <td>2010</td>\n",
       "      <td>7.600</td>\n",
       "      <td></td>\n",
       "      <td>Animation, Family, Adventure</td>\n",
       "      <td>en</td>\n",
       "      <td>Feisty teenager Rapunzel, who has long and mag...</td>\n",
       "      <td>111.762</td>\n",
       "      <td>11638</td>\n",
       "      <td>7.600</td>\n",
       "      <td>260000000.0</td>\n",
       "      <td>592461732.0</td>\n",
       "    </tr>\n",
       "    <tr>\n",
       "      <th>4</th>\n",
       "      <td>10191</td>\n",
       "      <td>Movie</td>\n",
       "      <td>How to Train Your Dragon</td>\n",
       "      <td>Chris Sanders, Dean DeBlois</td>\n",
       "      <td>Jay Baruchel, Gerard Butler, Craig Ferguson, A...</td>\n",
       "      <td>United States of America</td>\n",
       "      <td>2010-03-18</td>\n",
       "      <td>2010</td>\n",
       "      <td>7.800</td>\n",
       "      <td></td>\n",
       "      <td>Fantasy, Adventure, Animation, Family</td>\n",
       "      <td>en</td>\n",
       "      <td>As the son of a Viking leader on the cusp of m...</td>\n",
       "      <td>110.044</td>\n",
       "      <td>13259</td>\n",
       "      <td>7.800</td>\n",
       "      <td>165000000.0</td>\n",
       "      <td>494879471.0</td>\n",
       "    </tr>\n",
       "  </tbody>\n",
       "</table>\n",
       "</div>"
      ],
      "text/plain": [
       "   show_id   type                                         title  \\\n",
       "0    10192  Movie                           Shrek Forever After   \n",
       "1    27205  Movie                                     Inception   \n",
       "2    12444  Movie  Harry Potter and the Deathly Hallows: Part 1   \n",
       "3    38757  Movie                                       Tangled   \n",
       "4    10191  Movie                      How to Train Your Dragon   \n",
       "\n",
       "                      director  \\\n",
       "0                Mike Mitchell   \n",
       "1            Christopher Nolan   \n",
       "2                  David Yates   \n",
       "3   Byron Howard, Nathan Greno   \n",
       "4  Chris Sanders, Dean DeBlois   \n",
       "\n",
       "                                                cast  \\\n",
       "0  Mike Myers, Eddie Murphy, Cameron Diaz, Antoni...   \n",
       "1  Leonardo DiCaprio, Joseph Gordon-Levitt, Ken W...   \n",
       "2  Daniel Radcliffe, Emma Watson, Rupert Grint, T...   \n",
       "3  Mandy Moore, Zachary Levi, Donna Murphy, Ron P...   \n",
       "4  Jay Baruchel, Gerard Butler, Craig Ferguson, A...   \n",
       "\n",
       "                                    country  date_added  release_year  rating  \\\n",
       "0                  United States of America  2010-05-16          2010   6.380   \n",
       "1  United Kingdom, United States of America  2010-07-15          2010   8.369   \n",
       "2  United Kingdom, United States of America  2010-11-17          2010   7.744   \n",
       "3                  United States of America  2010-11-24          2010   7.600   \n",
       "4                  United States of America  2010-03-18          2010   7.800   \n",
       "\n",
       "  duration                                         genres language  \\\n",
       "0           Comedy, Adventure, Fantasy, Animation, Family       en   \n",
       "1                      Action, Science Fiction, Adventure       en   \n",
       "2                                      Adventure, Fantasy       en   \n",
       "3                            Animation, Family, Adventure       en   \n",
       "4                   Fantasy, Adventure, Animation, Family       en   \n",
       "\n",
       "                                         description  popularity  vote_count  \\\n",
       "0  A bored and domesticated Shrek pacts with deal...     203.893        7449   \n",
       "1  Cobb, a skilled thief who commits corporate es...     156.242       37119   \n",
       "2  Harry, Ron and Hermione walk away from their l...     121.191       19327   \n",
       "3  Feisty teenager Rapunzel, who has long and mag...     111.762       11638   \n",
       "4  As the son of a Viking leader on the cusp of m...     110.044       13259   \n",
       "\n",
       "   vote_average       budget      revenue  \n",
       "0         6.380  165000000.0  752600867.0  \n",
       "1         8.369  160000000.0  839030630.0  \n",
       "2         7.744  250000000.0  954305868.0  \n",
       "3         7.600  260000000.0  592461732.0  \n",
       "4         7.800  165000000.0  494879471.0  "
      ]
     },
     "execution_count": 140,
     "metadata": {},
     "output_type": "execute_result"
    }
   ],
   "source": [
    "#Rellenar valores nulos con una cadena vacía.\n",
    "filledna=netflix_dataset2.fillna('')\n",
    "filledna.head()"
   ]
  },
  {
   "cell_type": "code",
   "execution_count": 141,
   "id": "f8dcf5ad-199f-45de-befb-725309386f00",
   "metadata": {},
   "outputs": [],
   "source": [
    "#Limpieza de datos: convertir todas las palabras en minúsculas\n",
    "def clean_data(x):\n",
    "        return str.lower(x.replace(\" \", \"\"))"
   ]
  },
  {
   "cell_type": "code",
   "execution_count": 144,
   "id": "a6b7850b-bb70-464f-8954-19cddb03021e",
   "metadata": {},
   "outputs": [],
   "source": [
    "#Identificar las características sobre las que se filtrará el modelo.\n",
    "features=['title','director','cast','description']\n",
    "filledna=filledna[features]"
   ]
  },
  {
   "cell_type": "code",
   "execution_count": 145,
   "id": "fd1bffec-960a-472a-b2b0-f5a11679e39f",
   "metadata": {},
   "outputs": [
    {
     "data": {
      "text/html": [
       "<div>\n",
       "<style scoped>\n",
       "    .dataframe tbody tr th:only-of-type {\n",
       "        vertical-align: middle;\n",
       "    }\n",
       "\n",
       "    .dataframe tbody tr th {\n",
       "        vertical-align: top;\n",
       "    }\n",
       "\n",
       "    .dataframe thead th {\n",
       "        text-align: right;\n",
       "    }\n",
       "</style>\n",
       "<table border=\"1\" class=\"dataframe\">\n",
       "  <thead>\n",
       "    <tr style=\"text-align: right;\">\n",
       "      <th></th>\n",
       "      <th>title</th>\n",
       "      <th>director</th>\n",
       "      <th>cast</th>\n",
       "      <th>description</th>\n",
       "    </tr>\n",
       "  </thead>\n",
       "  <tbody>\n",
       "    <tr>\n",
       "      <th>0</th>\n",
       "      <td>shrekforeverafter</td>\n",
       "      <td>mikemitchell</td>\n",
       "      <td>mikemyers,eddiemurphy,camerondiaz,antoniobande...</td>\n",
       "      <td>aboredanddomesticatedshrekpactswithdeal-makerr...</td>\n",
       "    </tr>\n",
       "    <tr>\n",
       "      <th>1</th>\n",
       "      <td>inception</td>\n",
       "      <td>christophernolan</td>\n",
       "      <td>leonardodicaprio,josephgordon-levitt,kenwatana...</td>\n",
       "      <td>cobb,askilledthiefwhocommitscorporateespionage...</td>\n",
       "    </tr>\n",
       "    <tr>\n",
       "      <th>2</th>\n",
       "      <td>harrypotterandthedeathlyhallows:part1</td>\n",
       "      <td>davidyates</td>\n",
       "      <td>danielradcliffe,emmawatson,rupertgrint,tobyjon...</td>\n",
       "      <td>harry,ronandhermionewalkawayfromtheirlastyeara...</td>\n",
       "    </tr>\n",
       "    <tr>\n",
       "      <th>3</th>\n",
       "      <td>tangled</td>\n",
       "      <td>byronhoward,nathangreno</td>\n",
       "      <td>mandymoore,zacharylevi,donnamurphy,ronperlman,...</td>\n",
       "      <td>feistyteenagerrapunzel,whohaslongandmagicalhai...</td>\n",
       "    </tr>\n",
       "    <tr>\n",
       "      <th>4</th>\n",
       "      <td>howtotrainyourdragon</td>\n",
       "      <td>chrissanders,deandeblois</td>\n",
       "      <td>jaybaruchel,gerardbutler,craigferguson,america...</td>\n",
       "      <td>asthesonofavikingleaderonthecuspofmanhood,shyh...</td>\n",
       "    </tr>\n",
       "  </tbody>\n",
       "</table>\n",
       "</div>"
      ],
      "text/plain": [
       "                                   title                  director  \\\n",
       "0                      shrekforeverafter              mikemitchell   \n",
       "1                              inception          christophernolan   \n",
       "2  harrypotterandthedeathlyhallows:part1                davidyates   \n",
       "3                                tangled   byronhoward,nathangreno   \n",
       "4                   howtotrainyourdragon  chrissanders,deandeblois   \n",
       "\n",
       "                                                cast  \\\n",
       "0  mikemyers,eddiemurphy,camerondiaz,antoniobande...   \n",
       "1  leonardodicaprio,josephgordon-levitt,kenwatana...   \n",
       "2  danielradcliffe,emmawatson,rupertgrint,tobyjon...   \n",
       "3  mandymoore,zacharylevi,donnamurphy,ronperlman,...   \n",
       "4  jaybaruchel,gerardbutler,craigferguson,america...   \n",
       "\n",
       "                                         description  \n",
       "0  aboredanddomesticatedshrekpactswithdeal-makerr...  \n",
       "1  cobb,askilledthiefwhocommitscorporateespionage...  \n",
       "2  harry,ronandhermionewalkawayfromtheirlastyeara...  \n",
       "3  feistyteenagerrapunzel,whohaslongandmagicalhai...  \n",
       "4  asthesonofavikingleaderonthecuspofmanhood,shyh...  "
      ]
     },
     "execution_count": 145,
     "metadata": {},
     "output_type": "execute_result"
    }
   ],
   "source": [
    "for feature in features:\n",
    "    filledna[feature] = filledna[feature].apply(clean_data)\n",
    "    \n",
    "filledna.head()"
   ]
  },
  {
   "cell_type": "code",
   "execution_count": 146,
   "id": "cf8eba35-a35a-4c2c-aafc-e5b429c68aa4",
   "metadata": {},
   "outputs": [],
   "source": [
    "def create_soup(x):\n",
    "    return x['title']+ ' ' + x['director'] + ' ' + x['cast'] +' '+ x['description']\n",
    "\n",
    "filledna['soup'] = filledna.apply(create_soup, axis=1)"
   ]
  },
  {
   "cell_type": "code",
   "execution_count": 151,
   "id": "876cf0aa-ff16-4272-b7d0-d8bb4750f47f",
   "metadata": {},
   "outputs": [],
   "source": [
    "# Importa CountVectorizer y crea la matriz de conteo\n",
    "from sklearn.feature_extraction.text import CountVectorizer\n",
    "\n",
    "count = CountVectorizer(stop_words='english')\n",
    "count_matrix = count.fit_transform(filledna['soup'])"
   ]
  },
  {
   "cell_type": "code",
   "execution_count": 152,
   "id": "6f76dd5d-f470-4a91-845f-3728b095bc95",
   "metadata": {},
   "outputs": [],
   "source": [
    "# Calcule la matriz de similitud de coseno basándose en count_matrix\n",
    "from sklearn.metrics.pairwise import cosine_similarity\n",
    "\n",
    "cosine_sim2 = cosine_similarity(count_matrix, count_matrix)"
   ]
  },
  {
   "cell_type": "code",
   "execution_count": 154,
   "id": "f194ecb1-9e12-4c05-b9bc-ba65201b692a",
   "metadata": {},
   "outputs": [],
   "source": [
    "# Restablecer el índice de nuestro DataFrame principal y construir un mapeo inverso como antes\n",
    "filledna=filledna.reset_index()\n",
    "indices = pd.Series(filledna.index, index=filledna['title'])"
   ]
  },
  {
   "cell_type": "code",
   "execution_count": 155,
   "id": "9cc2825b-4176-42ed-be57-3c21fd76a8ee",
   "metadata": {},
   "outputs": [],
   "source": [
    "def get_recommendations_new(title, cosine_sim=cosine_sim):\n",
    "    title=title.replace(' ','').lower()\n",
    "    idx = indices[title]\n",
    "\n",
    "    # Get the pairwsie similarity scores of all movies with that movie\n",
    "    sim_scores = list(enumerate(cosine_sim[idx]))\n",
    "\n",
    "    # Sort the movies based on the similarity scores\n",
    "    sim_scores = sorted(sim_scores, key=lambda x: x[1], reverse=True)\n",
    "\n",
    "    # Get the scores of the 10 most similar movies\n",
    "    sim_scores = sim_scores[1:11]\n",
    "\n",
    "    # Get the movie indices\n",
    "    movie_indices = [i[0] for i in sim_scores]\n",
    "\n",
    "    # Return the top 10 most similar movies\n",
    "    return netflix_dataset2['title'].iloc[movie_indices]"
   ]
  },
  {
   "cell_type": "code",
   "execution_count": 156,
   "id": "705dd927-680b-4efc-8710-3d9777350f5b",
   "metadata": {},
   "outputs": [
    {
     "data": {
      "text/plain": [
       "203       Donkey's Christmas Shrektacular\n",
       "52                       Scared Shrekless\n",
       "1977              Shrek: Once Upon a Time\n",
       "2046     Puss in Boots: The Three Diablos\n",
       "23863                       The Gong Show\n",
       "1157                              Haywire\n",
       "3116                        The Counselor\n",
       "3718                      The Unbelievers\n",
       "1099                          Bad Teacher\n",
       "2178                               Gambit\n",
       "Name: title, dtype: object"
      ]
     },
     "execution_count": 156,
     "metadata": {},
     "output_type": "execute_result"
    }
   ],
   "source": [
    "get_recommendations_new('Shrek Forever After', cosine_sim2)"
   ]
  },
  {
   "cell_type": "code",
   "execution_count": 157,
   "id": "b5c8047f-8e1e-49e3-963a-a981412c8a91",
   "metadata": {},
   "outputs": [
    {
     "data": {
      "text/plain": [
       "582      Band Baaja Baaraat\n",
       "9985              Gully Boy\n",
       "5325        Bajirao Mastani\n",
       "4699                 Gunday\n",
       "3775                 Race 2\n",
       "14945                 Tiger\n",
       "2460       Jab Tak Hai Jaan\n",
       "3346               Krrish 3\n",
       "8906                 Simmba\n",
       "1318                  Don 2\n",
       "Name: title, dtype: object"
      ]
     },
     "execution_count": 157,
     "metadata": {},
     "output_type": "execute_result"
    }
   ],
   "source": [
    "get_recommendations_new('Dil Dhadakne Do', cosine_sim2)"
   ]
  },
  {
   "cell_type": "code",
   "execution_count": 158,
   "id": "378a68e8-de16-4a3b-971a-8aa3fda3e0b5",
   "metadata": {},
   "outputs": [
    {
     "data": {
      "text/plain": [
       "9001                                     Avengers: Endgame\n",
       "7413     LEGO Marvel Super Heroes: Guardians of the Gal...\n",
       "19114                                    Marvel's Avengers\n",
       "14298             LEGO Marvel Avengers: Mission Demolition\n",
       "8963                             Avengers Grimm: Time Wars\n",
       "13378                       LEGO Marvel Avengers: Code Red\n",
       "20652                       Marvel Disk Wars: The Avengers\n",
       "25758                                              Pandora\n",
       "3370                      Phineas and Ferb: Mission Marvel\n",
       "16135               The Avengers: Earth's Mightiest Heroes\n",
       "Name: title, dtype: object"
      ]
     },
     "execution_count": 158,
     "metadata": {},
     "output_type": "execute_result"
    }
   ],
   "source": [
    "get_recommendations_new('Avengers: Infinity War')"
   ]
  }
 ],
 "metadata": {
  "kernelspec": {
   "display_name": "Python 3 (ipykernel)",
   "language": "python",
   "name": "python3"
  },
  "language_info": {
   "codemirror_mode": {
    "name": "ipython",
    "version": 3
   },
   "file_extension": ".py",
   "mimetype": "text/x-python",
   "name": "python",
   "nbconvert_exporter": "python",
   "pygments_lexer": "ipython3",
   "version": "3.11.5"
  }
 },
 "nbformat": 4,
 "nbformat_minor": 5
}
